{
  "nbformat": 4,
  "nbformat_minor": 0,
  "metadata": {
    "colab": {
      "provenance": []
    },
    "kernelspec": {
      "name": "python3",
      "display_name": "Python 3"
    },
    "language_info": {
      "name": "python"
    }
  },
  "cells": [
    {
      "cell_type": "markdown",
      "source": [
        "##**Cadena de caracteres (String)**"
      ],
      "metadata": {
        "id": "wpgrXL1nQ50n"
      }
    },
    {
      "cell_type": "markdown",
      "source": [
        "Para el procesamiento y análisis de documentos de texto, uno de los tipos de datos más usuales es la cadena de caracteres, o \"string\" por su nombre en inglés. Es común también en español referirnos a este tipo de datos simplemente como \"string\".\n",
        "\n",
        "La manera estándar de introducir una frase es mediante dobles comillas:\n",
        "\n"
      ],
      "metadata": {
        "id": "OR5_keKxcivo"
      }
    },
    {
      "cell_type": "code",
      "source": [
        "doc = \"Vine a Comala porque me dijeron que acá vivía mi padre, un tal Pedro Páramo. Mi madre me lo dijo.\" \n",
        "\n",
        "doc  # es un String (str)"
      ],
      "metadata": {
        "id": "PLAJI7eEPSBG",
        "colab": {
          "base_uri": "https://localhost:8080/",
          "height": 57
        },
        "outputId": "b39c21ba-0069-44a0-a3f9-466a74c664dc"
      },
      "execution_count": 1,
      "outputs": [
        {
          "output_type": "execute_result",
          "data": {
            "text/plain": [
              "'Vine a Comala porque me dijeron que acá vivía mi padre, un tal Pedro Páramo. Mi madre me lo dijo.'"
            ],
            "application/vnd.google.colaboratory.intrinsic+json": {
              "type": "string"
            }
          },
          "metadata": {},
          "execution_count": 1
        }
      ]
    },
    {
      "cell_type": "code",
      "source": [
        "type(doc)   # Podemos verificar el tipo de dato de cualquier objeto de Python con esta función."
      ],
      "metadata": {
        "id": "Zar2O9_SvM2s",
        "colab": {
          "base_uri": "https://localhost:8080/"
        },
        "outputId": "e0389e49-cd6b-4a6b-dc3d-0e9fa1823654"
      },
      "execution_count": 2,
      "outputs": [
        {
          "output_type": "execute_result",
          "data": {
            "text/plain": [
              "str"
            ]
          },
          "metadata": {},
          "execution_count": 2
        }
      ]
    },
    {
      "cell_type": "code",
      "source": [
        "doc[3]  # podemos tener acceso a cada caracter individual, los cuales están indexados a partir del primer caracter que incia con 0."
      ],
      "metadata": {
        "id": "ni5SrmKeTK9u",
        "colab": {
          "base_uri": "https://localhost:8080/",
          "height": 57
        },
        "outputId": "65582ca2-61c3-4460-faef-0ca70d7d65c6"
      },
      "execution_count": 3,
      "outputs": [
        {
          "output_type": "execute_result",
          "data": {
            "text/plain": [
              "'e'"
            ],
            "application/vnd.google.colaboratory.intrinsic+json": {
              "type": "string"
            }
          },
          "metadata": {},
          "execution_count": 3
        }
      ]
    },
    {
      "cell_type": "code",
      "source": [
        "doc[:9]   # la notación de \":\" nos permite definir un rango, en este caso del índice 0 al 8 (9-1)."
      ],
      "metadata": {
        "id": "Pk1kR0CxTPBb",
        "colab": {
          "base_uri": "https://localhost:8080/",
          "height": 57
        },
        "outputId": "ac1d543b-95bf-4433-a186-64d651651669"
      },
      "execution_count": 4,
      "outputs": [
        {
          "output_type": "execute_result",
          "data": {
            "text/plain": [
              "'Vine a Co'"
            ],
            "application/vnd.google.colaboratory.intrinsic+json": {
              "type": "string"
            }
          },
          "metadata": {},
          "execution_count": 4
        }
      ]
    },
    {
      "cell_type": "code",
      "source": [
        "doc[-1]   # también podemos usar índices negativos..."
      ],
      "metadata": {
        "id": "NhfLhE6vTtzL",
        "colab": {
          "base_uri": "https://localhost:8080/",
          "height": 57
        },
        "outputId": "503e02f0-05dd-4c53-cb9e-0b1382315fb3"
      },
      "execution_count": 5,
      "outputs": [
        {
          "output_type": "execute_result",
          "data": {
            "text/plain": [
              "'.'"
            ],
            "application/vnd.google.colaboratory.intrinsic+json": {
              "type": "string"
            }
          },
          "metadata": {},
          "execution_count": 5
        }
      ]
    },
    {
      "cell_type": "code",
      "source": [
        "doc[-8:-1]"
      ],
      "metadata": {
        "id": "0bxgRDEqTh0d",
        "colab": {
          "base_uri": "https://localhost:8080/",
          "height": 57
        },
        "outputId": "cdf795f1-4ba5-484f-8869-b828bbd948f2"
      },
      "execution_count": 6,
      "outputs": [
        {
          "output_type": "execute_result",
          "data": {
            "text/plain": [
              "'lo dijo'"
            ],
            "application/vnd.google.colaboratory.intrinsic+json": {
              "type": "string"
            }
          },
          "metadata": {},
          "execution_count": 6
        }
      ]
    },
    {
      "cell_type": "code",
      "source": [
        "len(doc) # podemos obtener el total de caracteres... reucerda que los espacios en blanco también son caracteres."
      ],
      "metadata": {
        "id": "N8ZVFBiZQ_Oh",
        "colab": {
          "base_uri": "https://localhost:8080/"
        },
        "outputId": "72e3c64e-2778-48a9-91f3-4985f134cb28"
      },
      "execution_count": 7,
      "outputs": [
        {
          "output_type": "execute_result",
          "data": {
            "text/plain": [
              "97"
            ]
          },
          "metadata": {},
          "execution_count": 7
        }
      ]
    },
    {
      "cell_type": "code",
      "source": [
        "doc.lower()   # podemos transformar todo a minúsculas..."
      ],
      "metadata": {
        "id": "sz_8pGquRJp_",
        "colab": {
          "base_uri": "https://localhost:8080/",
          "height": 57
        },
        "outputId": "139c7121-0ba2-4931-ff08-be684e2c2484"
      },
      "execution_count": 8,
      "outputs": [
        {
          "output_type": "execute_result",
          "data": {
            "text/plain": [
              "'vine a comala porque me dijeron que acá vivía mi padre, un tal pedro páramo. mi madre me lo dijo.'"
            ],
            "application/vnd.google.colaboratory.intrinsic+json": {
              "type": "string"
            }
          },
          "metadata": {},
          "execution_count": 8
        }
      ]
    },
    {
      "cell_type": "code",
      "source": [
        "doc.upper()    # o todo a mayúsculas."
      ],
      "metadata": {
        "id": "HjXi2prewvtq",
        "colab": {
          "base_uri": "https://localhost:8080/",
          "height": 57
        },
        "outputId": "0bddc890-8fcb-4e5c-e7f6-aebca06ed445"
      },
      "execution_count": 9,
      "outputs": [
        {
          "output_type": "execute_result",
          "data": {
            "text/plain": [
              "'VINE A COMALA PORQUE ME DIJERON QUE ACÁ VIVÍA MI PADRE, UN TAL PEDRO PÁRAMO. MI MADRE ME LO DIJO.'"
            ],
            "application/vnd.google.colaboratory.intrinsic+json": {
              "type": "string"
            }
          },
          "metadata": {},
          "execution_count": 9
        }
      ]
    },
    {
      "cell_type": "code",
      "source": [
        "# Podemos hacer algunas operaciones entre strings:\n",
        "\n",
        "x = \"Hola\"\n",
        "y = 'mundo'\n",
        "\n",
        "x + ' ' + y\n",
        "\n"
      ],
      "metadata": {
        "id": "iRc6BuW6VHsQ",
        "colab": {
          "base_uri": "https://localhost:8080/",
          "height": 57
        },
        "outputId": "65d66f54-0c7a-46fa-bfda-6838edc61fe3"
      },
      "execution_count": 10,
      "outputs": [
        {
          "output_type": "execute_result",
          "data": {
            "text/plain": [
              "'Hola mundo'"
            ],
            "application/vnd.google.colaboratory.intrinsic+json": {
              "type": "string"
            }
          },
          "metadata": {},
          "execution_count": 10
        }
      ]
    },
    {
      "cell_type": "markdown",
      "source": [
        "También se pueden usar comillas sencillas para definir una cadena de caracteres o string:"
      ],
      "metadata": {
        "id": "JN2B1aqTxqNA"
      }
    },
    {
      "cell_type": "code",
      "source": [
        "w = '¡Buenos días, Señor Sol!'\n",
        "\n",
        "w"
      ],
      "metadata": {
        "id": "EZpRcL_wXWIe",
        "colab": {
          "base_uri": "https://localhost:8080/",
          "height": 57
        },
        "outputId": "7036f989-b142-409d-ba9c-27af373f015d"
      },
      "execution_count": 11,
      "outputs": [
        {
          "output_type": "execute_result",
          "data": {
            "text/plain": [
              "'¡Buenos días, Señor Sol!'"
            ],
            "application/vnd.google.colaboratory.intrinsic+json": {
              "type": "string"
            }
          },
          "metadata": {},
          "execution_count": 11
        }
      ]
    },
    {
      "cell_type": "markdown",
      "source": [
        "Sin embargo, si dentro del enunciado se requieren usar comillas sencillas, no podemos usarlas con el mismo tipo de comillas del string porque se genera un error de sintaxis. \n",
        "\n",
        "Así, en el caso de que el enunciado requiera el uso de comillas, se puede proceder de cualquiera de las formas que se muestran en el ejemplo siguiente:"
      ],
      "metadata": {
        "id": "4dYulpkEyVU5"
      }
    },
    {
      "cell_type": "code",
      "source": [
        "t1 = \"Y me preguntó, '¿qué te pasó?', a lo cual no supe contestar.\"   # intenta ejecutar esta instrucción usando solamente comillas sencillas\"\n",
        "\n",
        "t2 = 'Y me preguntó, \"¿qué te pasó?\", a lo cual no supe contestar.'\n",
        "\n",
        "t3 = 'Y me preguntó, \\'¿qué te pasó?\\', a lo cual no supe contestar.'\n",
        "\n",
        "print(t1)\n",
        "print(t2)\n",
        "print(t3)"
      ],
      "metadata": {
        "id": "GzGKKwolx--C",
        "colab": {
          "base_uri": "https://localhost:8080/"
        },
        "outputId": "1e42b0eb-9a45-4ef0-dbc8-acd438891c58"
      },
      "execution_count": 12,
      "outputs": [
        {
          "output_type": "stream",
          "name": "stdout",
          "text": [
            "Y me preguntó, '¿qué te pasó?', a lo cual no supe contestar.\n",
            "Y me preguntó, \"¿qué te pasó?\", a lo cual no supe contestar.\n",
            "Y me preguntó, '¿qué te pasó?', a lo cual no supe contestar.\n"
          ]
        }
      ]
    },
    {
      "cell_type": "markdown",
      "source": [
        "##**Listas y segmentación con Python: split(), strip()**"
      ],
      "metadata": {
        "id": "LSKexgxmtjYO"
      }
    },
    {
      "cell_type": "markdown",
      "source": [
        "Puedes encontrar más información en la documentación de los métodos \"split()\" y \"strip()\" de Python, en las siguientes ligas:\n",
        "\n",
        "https://python-reference.readthedocs.io/en/latest/docs/str/split.html \n",
        "\n",
        "https://python-reference.readthedocs.io/en/latest/docs/str/strip.html \n",
        "\n",
        "Al aplicar el método \"split()\" obtenemos una lista de strings y al aplicar el método \"strip()\" obtenemos un string."
      ],
      "metadata": {
        "id": "tTwXaC8QstX7"
      }
    },
    {
      "cell_type": "code",
      "execution_count": 13,
      "metadata": {
        "id": "TiAucTxYltCW",
        "colab": {
          "base_uri": "https://localhost:8080/"
        },
        "outputId": "ac235d5d-1572-42be-f83b-fc963a7520a6"
      },
      "outputs": [
        {
          "output_type": "stream",
          "name": "stdout",
          "text": [
            "Aquel caracol\n",
            "Que va por el sol\n",
            "En cada ramita\n",
            "Lleva una flor.\n",
            "\n",
            "Que viva la gracia\n",
            "Que viva el amor\n",
            "Que viva la gracia\n",
            "De aquel caracol.\n"
          ]
        }
      ],
      "source": [
        "# Definamos el siguiente string con el siguiente poema infantil-\n",
        "# Observa que estamos utilizando el salto de línea (new line) \"\\n\":\n",
        "\n",
        "doc = \"Aquel caracol\\nQue va por el sol\\nEn cada ramita\\nLleva una flor.\\n\\nQue viva la gracia\\nQue viva el amor\\nQue viva la gracia\\nDe aquel caracol.\"\n",
        "\n",
        "print(doc)\n"
      ]
    },
    {
      "cell_type": "code",
      "source": [
        "len(doc)"
      ],
      "metadata": {
        "id": "4MY62a1elLbW",
        "colab": {
          "base_uri": "https://localhost:8080/"
        },
        "outputId": "804f0874-450c-4154-ec51-6ad908fd7aa1"
      },
      "execution_count": 14,
      "outputs": [
        {
          "output_type": "execute_result",
          "data": {
            "text/plain": [
              "136"
            ]
          },
          "metadata": {},
          "execution_count": 14
        }
      ]
    },
    {
      "cell_type": "code",
      "source": [
        "milista = doc.split()   # Como valor predeterminado separa por espacios en blanco \" \" y saltos de línea \"\\n\".\n",
        "\n",
        "milista  # Ahora tenemos una lista, la cual se identifica por las corcheas al inicio y al final de la lista de strings."
      ],
      "metadata": {
        "id": "cKY0uWwIpNJy",
        "colab": {
          "base_uri": "https://localhost:8080/"
        },
        "outputId": "b78f3878-df63-4d95-8851-360094dd6561"
      },
      "execution_count": 15,
      "outputs": [
        {
          "output_type": "execute_result",
          "data": {
            "text/plain": [
              "['Aquel',\n",
              " 'caracol',\n",
              " 'Que',\n",
              " 'va',\n",
              " 'por',\n",
              " 'el',\n",
              " 'sol',\n",
              " 'En',\n",
              " 'cada',\n",
              " 'ramita',\n",
              " 'Lleva',\n",
              " 'una',\n",
              " 'flor.',\n",
              " 'Que',\n",
              " 'viva',\n",
              " 'la',\n",
              " 'gracia',\n",
              " 'Que',\n",
              " 'viva',\n",
              " 'el',\n",
              " 'amor',\n",
              " 'Que',\n",
              " 'viva',\n",
              " 'la',\n",
              " 'gracia',\n",
              " 'De',\n",
              " 'aquel',\n",
              " 'caracol.']"
            ]
          },
          "metadata": {},
          "execution_count": 15
        }
      ]
    },
    {
      "cell_type": "code",
      "source": [
        "len(milista)   # Este es el total de palabras (tokens) que tenemos en esta lista."
      ],
      "metadata": {
        "id": "zqZ92mxylPgW",
        "colab": {
          "base_uri": "https://localhost:8080/"
        },
        "outputId": "39288de7-a586-415b-b126-0063cb4887fc"
      },
      "execution_count": 16,
      "outputs": [
        {
          "output_type": "execute_result",
          "data": {
            "text/plain": [
              "28"
            ]
          },
          "metadata": {},
          "execution_count": 16
        }
      ]
    },
    {
      "cell_type": "code",
      "source": [
        "milista[1]    # Y podemos accesar cada palabra (token) de la lista con el índice correspondiente."
      ],
      "metadata": {
        "id": "iSfA7qLh0cus",
        "colab": {
          "base_uri": "https://localhost:8080/",
          "height": 57
        },
        "outputId": "743c861c-0ce2-4a41-a701-9ab6afbce7e7"
      },
      "execution_count": 17,
      "outputs": [
        {
          "output_type": "execute_result",
          "data": {
            "text/plain": [
              "'caracol'"
            ],
            "application/vnd.google.colaboratory.intrinsic+json": {
              "type": "string"
            }
          },
          "metadata": {},
          "execution_count": 17
        }
      ]
    },
    {
      "cell_type": "code",
      "source": [
        "type(milista)   # Recuerda que también puedes verificar el tipo de dato con esta instrucción."
      ],
      "metadata": {
        "id": "d5ngMgfYvf80",
        "colab": {
          "base_uri": "https://localhost:8080/"
        },
        "outputId": "18a3203f-5b7a-4c12-9b8c-ef3a4023aadd"
      },
      "execution_count": 18,
      "outputs": [
        {
          "output_type": "execute_result",
          "data": {
            "text/plain": [
              "list"
            ]
          },
          "metadata": {},
          "execution_count": 18
        }
      ]
    },
    {
      "cell_type": "markdown",
      "source": [
        "Regresando con la cadena de caracteres (string) y para entender mejor la manera en que puede aplicarse el método \"split()\", podemos aplicar las siguientes variantes:"
      ],
      "metadata": {
        "id": "uhn6OLCB8R5i"
      }
    },
    {
      "cell_type": "code",
      "source": [
        "doc.split('\\n')   # Si segmentamos por salto de línea de manera explícita, los espacios en blanco ya no se toman en cuenta."
      ],
      "metadata": {
        "id": "XEKP3CmZqOFU",
        "colab": {
          "base_uri": "https://localhost:8080/"
        },
        "outputId": "af625ea8-2e44-4793-d3b2-117aa16d8080"
      },
      "execution_count": 19,
      "outputs": [
        {
          "output_type": "execute_result",
          "data": {
            "text/plain": [
              "['Aquel caracol',\n",
              " 'Que va por el sol',\n",
              " 'En cada ramita',\n",
              " 'Lleva una flor.',\n",
              " '',\n",
              " 'Que viva la gracia',\n",
              " 'Que viva el amor',\n",
              " 'Que viva la gracia',\n",
              " 'De aquel caracol.']"
            ]
          },
          "metadata": {},
          "execution_count": 19
        }
      ]
    },
    {
      "cell_type": "code",
      "source": [
        "doc.split(' ')    # O bien separar solamente por espacios en blanco."
      ],
      "metadata": {
        "id": "0v-24syFqtXa",
        "colab": {
          "base_uri": "https://localhost:8080/"
        },
        "outputId": "ee608e74-9a8c-4c0c-82d8-ac50a795961d"
      },
      "execution_count": 20,
      "outputs": [
        {
          "output_type": "execute_result",
          "data": {
            "text/plain": [
              "['Aquel',\n",
              " 'caracol\\nQue',\n",
              " 'va',\n",
              " 'por',\n",
              " 'el',\n",
              " 'sol\\nEn',\n",
              " 'cada',\n",
              " 'ramita\\nLleva',\n",
              " 'una',\n",
              " 'flor.\\n\\nQue',\n",
              " 'viva',\n",
              " 'la',\n",
              " 'gracia\\nQue',\n",
              " 'viva',\n",
              " 'el',\n",
              " 'amor\\nQue',\n",
              " 'viva',\n",
              " 'la',\n",
              " 'gracia\\nDe',\n",
              " 'aquel',\n",
              " 'caracol.']"
            ]
          },
          "metadata": {},
          "execution_count": 20
        }
      ]
    },
    {
      "cell_type": "code",
      "source": [
        "doc.split('el')   # Pero en general podemos separar con respecto a cualquier caracter o cadena de caracteres que indiquemos..."
      ],
      "metadata": {
        "id": "dvTY6ogIqzeD",
        "colab": {
          "base_uri": "https://localhost:8080/"
        },
        "outputId": "e990040f-1aa6-498e-9cb0-dbd0bd09b894"
      },
      "execution_count": 21,
      "outputs": [
        {
          "output_type": "execute_result",
          "data": {
            "text/plain": [
              "['Aqu',\n",
              " ' caracol\\nQue va por ',\n",
              " ' sol\\nEn cada ramita\\nLleva una flor.\\n\\nQue viva la gracia\\nQue viva ',\n",
              " ' amor\\nQue viva la gracia\\nDe aqu',\n",
              " ' caracol.']"
            ]
          },
          "metadata": {},
          "execution_count": 21
        }
      ]
    },
    {
      "cell_type": "code",
      "source": [
        "doc.split(' ', 4)   # Se puede indicar un máximo de separaciones a aplicar con el separador en cuestión."
      ],
      "metadata": {
        "id": "sOPynldBrsI1",
        "colab": {
          "base_uri": "https://localhost:8080/"
        },
        "outputId": "e2df40c8-a802-4fd8-c35f-fc1d18062c06"
      },
      "execution_count": 22,
      "outputs": [
        {
          "output_type": "execute_result",
          "data": {
            "text/plain": [
              "['Aquel',\n",
              " 'caracol\\nQue',\n",
              " 'va',\n",
              " 'por',\n",
              " 'el sol\\nEn cada ramita\\nLleva una flor.\\n\\nQue viva la gracia\\nQue viva el amor\\nQue viva la gracia\\nDe aquel caracol.']"
            ]
          },
          "metadata": {},
          "execution_count": 22
        }
      ]
    },
    {
      "cell_type": "code",
      "source": [
        "doc.upper().split()    # También podemos hacer algunas combinaciones de métodos..."
      ],
      "metadata": {
        "id": "PEieh9Kk6uTz",
        "colab": {
          "base_uri": "https://localhost:8080/"
        },
        "outputId": "9d8bbfe2-0261-49ec-c040-60217f2b51f9"
      },
      "execution_count": 23,
      "outputs": [
        {
          "output_type": "execute_result",
          "data": {
            "text/plain": [
              "['AQUEL',\n",
              " 'CARACOL',\n",
              " 'QUE',\n",
              " 'VA',\n",
              " 'POR',\n",
              " 'EL',\n",
              " 'SOL',\n",
              " 'EN',\n",
              " 'CADA',\n",
              " 'RAMITA',\n",
              " 'LLEVA',\n",
              " 'UNA',\n",
              " 'FLOR.',\n",
              " 'QUE',\n",
              " 'VIVA',\n",
              " 'LA',\n",
              " 'GRACIA',\n",
              " 'QUE',\n",
              " 'VIVA',\n",
              " 'EL',\n",
              " 'AMOR',\n",
              " 'QUE',\n",
              " 'VIVA',\n",
              " 'LA',\n",
              " 'GRACIA',\n",
              " 'DE',\n",
              " 'AQUEL',\n",
              " 'CARACOL.']"
            ]
          },
          "metadata": {},
          "execution_count": 23
        }
      ]
    },
    {
      "cell_type": "markdown",
      "source": [
        "También podemos eliminar espacios en blanco al inicio o al final de una frase, lo cual es un caso muy común cuando se analizan documentos de texto."
      ],
      "metadata": {
        "id": "w-7I7M4U2GjY"
      }
    },
    {
      "cell_type": "code",
      "source": [
        "# Se pueden omitir espacios en blanco al principio o final de un string, mientras\n",
        "# no haya algún tipo de caracter antes o después:\n",
        "\n",
        "txt = \"                    Hola      mundo      .   \"\n",
        "\n",
        "x = txt.strip(' ')"
      ],
      "metadata": {
        "id": "BVbQwo-R8kC0"
      },
      "execution_count": 24,
      "outputs": []
    },
    {
      "cell_type": "code",
      "source": [
        "txt    # string original"
      ],
      "metadata": {
        "id": "YN9I8t9o2ZcL",
        "colab": {
          "base_uri": "https://localhost:8080/",
          "height": 57
        },
        "outputId": "e328c89e-b196-4e44-97a6-6434579b79df"
      },
      "execution_count": 25,
      "outputs": [
        {
          "output_type": "execute_result",
          "data": {
            "text/plain": [
              "'                    Hola      mundo      .   '"
            ],
            "application/vnd.google.colaboratory.intrinsic+json": {
              "type": "string"
            }
          },
          "metadata": {},
          "execution_count": 25
        }
      ]
    },
    {
      "cell_type": "code",
      "source": [
        "x   # se omiten los espacios en blanco, pero solo al inicio y al final del string."
      ],
      "metadata": {
        "id": "7DehZZXz2bMk",
        "colab": {
          "base_uri": "https://localhost:8080/",
          "height": 57
        },
        "outputId": "2306c100-c8f6-4994-db4c-2fc474db223c"
      },
      "execution_count": 26,
      "outputs": [
        {
          "output_type": "execute_result",
          "data": {
            "text/plain": [
              "'Hola      mundo      .'"
            ],
            "application/vnd.google.colaboratory.intrinsic+json": {
              "type": "string"
            }
          },
          "metadata": {},
          "execution_count": 26
        }
      ]
    },
    {
      "cell_type": "code",
      "source": [
        "type(x)    # En este caso tenemos un solo string."
      ],
      "metadata": {
        "id": "PE9q4LWFpd0k",
        "colab": {
          "base_uri": "https://localhost:8080/"
        },
        "outputId": "03b4bce9-5d13-4105-c7f7-c8d7e1dd02d5"
      },
      "execution_count": 27,
      "outputs": [
        {
          "output_type": "execute_result",
          "data": {
            "text/plain": [
              "str"
            ]
          },
          "metadata": {},
          "execution_count": 27
        }
      ]
    },
    {
      "cell_type": "code",
      "source": [
        "txt.find('o')   # Nos regresa el índice de la primera aparición del caracter indicado."
      ],
      "metadata": {
        "id": "ifpJoFEF_8y-",
        "colab": {
          "base_uri": "https://localhost:8080/"
        },
        "outputId": "1a12a15e-675b-472c-96e5-32cfac776186"
      },
      "execution_count": 28,
      "outputs": [
        {
          "output_type": "execute_result",
          "data": {
            "text/plain": [
              "21"
            ]
          },
          "metadata": {},
          "execution_count": 28
        }
      ]
    },
    {
      "cell_type": "code",
      "source": [
        "\n",
        "'!!¡!¡¡hola¡¡¡!!!¡!!!'.strip('¡!')    # puedes indicar caracteres que se irán quitando tanto del inicio como del final de manera iterativa."
      ],
      "metadata": {
        "id": "Uyx1sSor_HU2",
        "colab": {
          "base_uri": "https://localhost:8080/",
          "height": 57
        },
        "outputId": "683d630f-d6af-46a9-96e9-4c0c078df478"
      },
      "execution_count": 29,
      "outputs": [
        {
          "output_type": "execute_result",
          "data": {
            "text/plain": [
              "'hola'"
            ],
            "application/vnd.google.colaboratory.intrinsic+json": {
              "type": "string"
            }
          },
          "metadata": {},
          "execution_count": 29
        }
      ]
    },
    {
      "cell_type": "markdown",
      "source": [
        "###También tenemos el método \"splitlines()\" para separar por saltos de línea. Veamos un ejemplo:"
      ],
      "metadata": {
        "id": "qbbcKTVC2heS"
      }
    },
    {
      "cell_type": "code",
      "source": [
        "txt ='Hola mundo de terrícolas\\nHemos llegado a visitarlos\\nSaludos\\n'\n",
        "\n",
        "# Observa la diferencia entre ambas salidas:\n",
        "\n",
        "print(txt)\n",
        "\n",
        "txt"
      ],
      "metadata": {
        "id": "5-CjUi6318lu",
        "colab": {
          "base_uri": "https://localhost:8080/",
          "height": 128
        },
        "outputId": "eff2386c-0c2a-4bc1-b7e8-16c50cf2b844"
      },
      "execution_count": 30,
      "outputs": [
        {
          "output_type": "stream",
          "name": "stdout",
          "text": [
            "Hola mundo de terrícolas\n",
            "Hemos llegado a visitarlos\n",
            "Saludos\n",
            "\n"
          ]
        },
        {
          "output_type": "execute_result",
          "data": {
            "text/plain": [
              "'Hola mundo de terrícolas\\nHemos llegado a visitarlos\\nSaludos\\n'"
            ],
            "application/vnd.google.colaboratory.intrinsic+json": {
              "type": "string"
            }
          },
          "metadata": {},
          "execution_count": 30
        }
      ]
    },
    {
      "cell_type": "code",
      "source": [
        "print('Separando por espacios en blanco y saltos de línea con split:\\n\\t', txt.split())\n",
        "\n",
        "print('\\nSeparando solo por saltos de línea con splitlines:\\n\\t', txt.splitlines())"
      ],
      "metadata": {
        "id": "TydKZ7kP3KzS",
        "colab": {
          "base_uri": "https://localhost:8080/"
        },
        "outputId": "57d20c9e-a32b-4cc0-ab85-8588ec0d1fde"
      },
      "execution_count": 31,
      "outputs": [
        {
          "output_type": "stream",
          "name": "stdout",
          "text": [
            "Separando por espacios en blanco y saltos de línea con split:\n",
            "\t ['Hola', 'mundo', 'de', 'terrícolas', 'Hemos', 'llegado', 'a', 'visitarlos', 'Saludos']\n",
            "\n",
            "Separando solo por saltos de línea con splitlines:\n",
            "\t ['Hola mundo de terrícolas', 'Hemos llegado a visitarlos', 'Saludos']\n"
          ]
        }
      ]
    },
    {
      "cell_type": "markdown",
      "source": [
        "##**replace()**\n",
        "\n",
        "Recuerda siempre consultar la documentación correspondiente para obtener más información de cualquier función o método.\n",
        "\n",
        "En particular para el método \"replace\" de una cadena de caracteres (String) puedes consultar esta documentación:\n",
        "\n",
        "https://www.w3schools.com/python/ref_string_replace.asp "
      ],
      "metadata": {
        "id": "4do2UxqE50Hg"
      }
    },
    {
      "cell_type": "code",
      "source": [
        "doc.replace('a', 'A').split()    # podemos sustituir un string por otro que se indique en una cadena de caracteres."
      ],
      "metadata": {
        "id": "v7HWz5D5BI5z",
        "colab": {
          "base_uri": "https://localhost:8080/"
        },
        "outputId": "ca9cdfe9-0b63-4865-9c4d-e43e13ac633f"
      },
      "execution_count": 32,
      "outputs": [
        {
          "output_type": "execute_result",
          "data": {
            "text/plain": [
              "['Aquel',\n",
              " 'cArAcol',\n",
              " 'Que',\n",
              " 'vA',\n",
              " 'por',\n",
              " 'el',\n",
              " 'sol',\n",
              " 'En',\n",
              " 'cAdA',\n",
              " 'rAmitA',\n",
              " 'LlevA',\n",
              " 'unA',\n",
              " 'flor.',\n",
              " 'Que',\n",
              " 'vivA',\n",
              " 'lA',\n",
              " 'grAciA',\n",
              " 'Que',\n",
              " 'vivA',\n",
              " 'el',\n",
              " 'Amor',\n",
              " 'Que',\n",
              " 'vivA',\n",
              " 'lA',\n",
              " 'grAciA',\n",
              " 'De',\n",
              " 'Aquel',\n",
              " 'cArAcol.']"
            ]
          },
          "metadata": {},
          "execution_count": 32
        }
      ]
    },
    {
      "cell_type": "markdown",
      "source": [
        "##**join()**\n",
        "\n",
        "En un String podemos unir los elementos indicados en su argumento mediante el string indicado.\n",
        "\n",
        "Este método nos será más útil al aplicarlo a una lista. Veamos algunos ejemplos:[texto del enlace](https://)\n"
      ],
      "metadata": {
        "id": "RVnN-MzP6bSy"
      }
    },
    {
      "cell_type": "code",
      "source": [
        "txt = 'Hola'   # Podemos aplicar el método a un String donde cada caracter del argumento \"Hola\" \n",
        "               # se une con el string o caracter indicado entre las comillas.\n",
        "'-'.join(txt)"
      ],
      "metadata": {
        "id": "vHwDuqjnCo4Q",
        "colab": {
          "base_uri": "https://localhost:8080/",
          "height": 57
        },
        "outputId": "782a6095-06e8-4732-8139-92694e0b2565"
      },
      "execution_count": 33,
      "outputs": [
        {
          "output_type": "execute_result",
          "data": {
            "text/plain": [
              "'H-o-l-a'"
            ],
            "application/vnd.google.colaboratory.intrinsic+json": {
              "type": "string"
            }
          },
          "metadata": {},
          "execution_count": 33
        }
      ]
    },
    {
      "cell_type": "code",
      "source": [
        "# Sin embargo, se obtienen resultados más útiles con otro tipo de datos, como una lista de strings:\n",
        "\n",
        "unalista = ['Mucha','luz','es','como','mucha','sombra','no','deja','ver','Octavio','Paz']\n",
        "unalista"
      ],
      "metadata": {
        "id": "ypBBtNuRC0R3",
        "colab": {
          "base_uri": "https://localhost:8080/"
        },
        "outputId": "626b37a0-5bda-4d4f-877a-04c91c3aed5c"
      },
      "execution_count": 34,
      "outputs": [
        {
          "output_type": "execute_result",
          "data": {
            "text/plain": [
              "['Mucha',\n",
              " 'luz',\n",
              " 'es',\n",
              " 'como',\n",
              " 'mucha',\n",
              " 'sombra',\n",
              " 'no',\n",
              " 'deja',\n",
              " 'ver',\n",
              " 'Octavio',\n",
              " 'Paz']"
            ]
          },
          "metadata": {},
          "execution_count": 34
        }
      ]
    },
    {
      "cell_type": "code",
      "source": [
        "u = ' '.join(unalista)   # Y podemos conjuntar ahora los elementos de la lista de strings separándolos con un espacio en blanco,\n",
        "                         # para obtener un solo string.\n",
        "\n",
        "u    # string"
      ],
      "metadata": {
        "id": "SZ0jC9IOEmlD",
        "colab": {
          "base_uri": "https://localhost:8080/",
          "height": 57
        },
        "outputId": "61037b7d-f688-4d19-9cab-ce039da2a507"
      },
      "execution_count": 35,
      "outputs": [
        {
          "output_type": "execute_result",
          "data": {
            "text/plain": [
              "'Mucha luz es como mucha sombra no deja ver Octavio Paz'"
            ],
            "application/vnd.google.colaboratory.intrinsic+json": {
              "type": "string"
            }
          },
          "metadata": {},
          "execution_count": 35
        }
      ]
    },
    {
      "cell_type": "markdown",
      "source": [
        "##**find() y findall()**\n",
        "\n",
        "Estos métodos encuentran un patrón o patrones de caracteres indicados. \n",
        "\n",
        "https://pandas.pydata.org/docs/reference/api/pandas.Series.str.find.html\n",
        "\n",
        "https://pandas.pydata.org/docs/reference/api/pandas.Series.str.findall.html"
      ],
      "metadata": {
        "id": "Lru7zVMhVrvI"
      }
    },
    {
      "cell_type": "markdown",
      "source": [
        "###**También podemos usar el método find() en un String.** \n",
        "\n",
        "Veamos algún par de ejemplos, con la siguiente frase de Octavio Paz:"
      ],
      "metadata": {
        "id": "e0G4Nfabxwgl"
      }
    },
    {
      "cell_type": "code",
      "source": [
        "op = 'Mucha luz es como mucha sombra, no deja ver.'"
      ],
      "metadata": {
        "id": "sA9esJWFx9yz"
      },
      "execution_count": 36,
      "outputs": []
    },
    {
      "cell_type": "code",
      "source": [
        "op.find('mucha')    # Recuerda que mayúsculas y minúsculas son caracteres diferentes."
      ],
      "metadata": {
        "id": "sW4GowZnzwvC",
        "colab": {
          "base_uri": "https://localhost:8080/"
        },
        "outputId": "7eca4281-aa59-438d-9377-90480ceb4be5"
      },
      "execution_count": 37,
      "outputs": [
        {
          "output_type": "execute_result",
          "data": {
            "text/plain": [
              "18"
            ]
          },
          "metadata": {},
          "execution_count": 37
        }
      ]
    },
    {
      "cell_type": "code",
      "source": [
        "op.lower().find('mucha')"
      ],
      "metadata": {
        "id": "fWMVQ4u1y2eW",
        "colab": {
          "base_uri": "https://localhost:8080/"
        },
        "outputId": "762225a5-9a0a-49d3-e040-321b83665dfe"
      },
      "execution_count": 38,
      "outputs": [
        {
          "output_type": "execute_result",
          "data": {
            "text/plain": [
              "0"
            ]
          },
          "metadata": {},
          "execution_count": 38
        }
      ]
    },
    {
      "cell_type": "code",
      "source": [
        "op.lower().find('mucha', 1)   # Si deseamos encontrar la segunda coincidencia de \"mucha\", en este caso \n",
        "                              # debemos realizar la búsqueda a partir del índice 1 y no del 0."
      ],
      "metadata": {
        "id": "Bod4pdVp0J1z",
        "colab": {
          "base_uri": "https://localhost:8080/"
        },
        "outputId": "3c36d01b-0cad-4ee7-c175-d8010a66206b"
      },
      "execution_count": 39,
      "outputs": [
        {
          "output_type": "execute_result",
          "data": {
            "text/plain": [
              "18"
            ]
          },
          "metadata": {},
          "execution_count": 39
        }
      ]
    },
    {
      "cell_type": "code",
      "source": [
        "op.lower().rfind('mucha')     # O bien, podemos realizar la búsqueda en orden inverso: \"reverse find\"."
      ],
      "metadata": {
        "id": "v9RVhZGJzPKf",
        "colab": {
          "base_uri": "https://localhost:8080/"
        },
        "outputId": "15c80b18-7a24-47dd-b853-a89c846f998b"
      },
      "execution_count": 40,
      "outputs": [
        {
          "output_type": "execute_result",
          "data": {
            "text/plain": [
              "18"
            ]
          },
          "metadata": {},
          "execution_count": 40
        }
      ]
    },
    {
      "cell_type": "markdown",
      "source": [
        "##**Podemos separar una oración con respecto a sus palabras, caracteres especiales y signos de puntuación.**\n",
        "\n",
        "### Por ejemplo:"
      ],
      "metadata": {
        "id": "xgNZ2YWyhpVz"
      }
    },
    {
      "cell_type": "code",
      "source": [
        "import re"
      ],
      "metadata": {
        "id": "OhwA8acrjH9o"
      },
      "execution_count": 41,
      "outputs": []
    },
    {
      "cell_type": "code",
      "source": [
        "X = \"-¿Qué eres? -Definirse es limitarse.\""
      ],
      "metadata": {
        "id": "GGYpIB6ihqdC"
      },
      "execution_count": 42,
      "outputs": []
    },
    {
      "cell_type": "code",
      "source": [
        "x = re.split(r' ', X)  # Separa con respecto a los espacios en blanco.\n",
        "x"
      ],
      "metadata": {
        "id": "7qGHUIx0hrtI",
        "colab": {
          "base_uri": "https://localhost:8080/"
        },
        "outputId": "54f264cd-2268-4df4-9e59-15662620d157"
      },
      "execution_count": 43,
      "outputs": [
        {
          "output_type": "execute_result",
          "data": {
            "text/plain": [
              "['-¿Qué', 'eres?', '-Definirse', 'es', 'limitarse.']"
            ]
          },
          "metadata": {},
          "execution_count": 43
        }
      ]
    },
    {
      "cell_type": "code",
      "source": [
        "# O bien, si tenemos una frase en dos renglones:\n",
        "X = \"\"\"-¿Qué eres?\n",
        "-Definirse es limitarse. Lao-Tse\"\"\""
      ],
      "metadata": {
        "id": "jY92eEWFhrpg"
      },
      "execution_count": 44,
      "outputs": []
    },
    {
      "cell_type": "code",
      "source": [
        "x1 = re.split(r' ', X)  # Separa con respecto a los espacios en blanco.\n",
        "x2 = re.split(r'[\\n]', X)  # salto de línea.\n",
        "x3 = re.split(r'[ \\n]', X)  # espacios en blanco o salto de línea.\n",
        "x4 = re.split(r'[-]', X)  # por el caracter \"-\" ... agrega un caracter vacío...\n",
        "x5 = re.split(r'[ \\n-]', X)\n",
        "x6 = re.split(r'\\W+', X)   # separamos con respecto a todo lo que no sea palabra: espacios en blanco, \"-\", signos de interrogación, el punto y seguido, en este caso.\n",
        "\n",
        "x7 = re.findall(r'\\w+', X)  # ... ahora sí, haciendo la búsqueda con respecto a las palabras :)\n",
        "\n",
        "print('1:',x1)\n",
        "print('2 ',x2)\n",
        "print('3 ',x3)\n",
        "print('4 ',x4)\n",
        "print('5 ',x5)\n",
        "print('6 ',x6)\n",
        "print('7 ',x7)"
      ],
      "metadata": {
        "id": "Qr0VPDjvh4c-",
        "colab": {
          "base_uri": "https://localhost:8080/"
        },
        "outputId": "832c321a-67b9-448e-e012-62b8c5e42f50"
      },
      "execution_count": 45,
      "outputs": [
        {
          "output_type": "stream",
          "name": "stdout",
          "text": [
            "1: ['-¿Qué', 'eres?\\n-Definirse', 'es', 'limitarse.', 'Lao-Tse']\n",
            "2  ['-¿Qué eres?', '-Definirse es limitarse. Lao-Tse']\n",
            "3  ['-¿Qué', 'eres?', '-Definirse', 'es', 'limitarse.', 'Lao-Tse']\n",
            "4  ['', '¿Qué eres?\\n', 'Definirse es limitarse. Lao', 'Tse']\n",
            "5  ['', '¿Qué', 'eres?', '', 'Definirse', 'es', 'limitarse.', 'Lao', 'Tse']\n",
            "6  ['', 'Qué', 'eres', 'Definirse', 'es', 'limitarse', 'Lao', 'Tse']\n",
            "7  ['Qué', 'eres', 'Definirse', 'es', 'limitarse', 'Lao', 'Tse']\n"
          ]
        }
      ]
    },
    {
      "cell_type": "markdown",
      "source": [
        "### Veamos un ejemplo estándar para el caso del idioma inglés:"
      ],
      "metadata": {
        "id": "WbDTDpTfiD7K"
      }
    },
    {
      "cell_type": "code",
      "source": [
        "Y = \"To say 'I don't have time', is like saying, 'I don't want to'. -Lao-Tzu\""
      ],
      "metadata": {
        "id": "bo63NR8vh4Y_"
      },
      "execution_count": 46,
      "outputs": []
    },
    {
      "cell_type": "code",
      "source": [
        "y1 = re.findall(r\"\\w+\", Y)  # Se tiene el inconveniente de que \"don't\" quedó separado, lo mismo que el nombre de Lao-Tzu.\n",
        "y2 = re.findall(r\"\\w+|\\S\\w*\", Y)  # primero busca palabras, de lo contrario todo lo que no sea espacio en blanco, seguido tal vez de palabras.\n",
        "y3 = re.findall(r\"\\w+(?:['-]\\w+)*\", Y) # Si no agregamos \"?:\" no se obtiene lo deseado, ya que los paréntesis () tienen como segunda función \n",
        "                                       # buscar lo que está dentro, haciendo match con lo de afuera y una vez localizado solo extrae lo de adentro.\n",
        "                                       # Así, esta última instrucción es la que extrae como tokens las negaciones con sus contracciones\n",
        "                                       # y el nombre de Lao-Tzu, como una sola entidad.... Quita \"?:\" y observa lo que queda.\n",
        "\n",
        "print(y1)\n",
        "print(y2)\n",
        "print(y3)"
      ],
      "metadata": {
        "id": "XiVPnMQ6iKoL",
        "colab": {
          "base_uri": "https://localhost:8080/"
        },
        "outputId": "9d439b14-a4c1-4caa-8ea7-47e99ed64796"
      },
      "execution_count": 47,
      "outputs": [
        {
          "output_type": "stream",
          "name": "stdout",
          "text": [
            "['To', 'say', 'I', 'don', 't', 'have', 'time', 'is', 'like', 'saying', 'I', 'don', 't', 'want', 'to', 'Lao', 'Tzu']\n",
            "['To', 'say', \"'I\", 'don', \"'t\", 'have', 'time', \"'\", ',', 'is', 'like', 'saying', ',', \"'I\", 'don', \"'t\", 'want', 'to', \"'\", '.', '-Lao', '-Tzu']\n",
            "['To', 'say', 'I', \"don't\", 'have', 'time', 'is', 'like', 'saying', 'I', \"don't\", 'want', 'to', 'Lao-Tzu']\n"
          ]
        }
      ]
    },
    {
      "cell_type": "markdown",
      "source": [
        "###**La combinación ?: con paréntesis redondos y findall**"
      ],
      "metadata": {
        "id": "WUJxzhoIiWGc"
      }
    },
    {
      "cell_type": "code",
      "source": [
        "re.findall(r\"\\w+(ing|ed)\", \"cat playing red\")   # El paréntesis introduce prioridad y por lo tanto inicia buscando lo que haga match \n",
        "                                         # con \"ing\" o con \"ed\", además de con lo que está afuera y una vez que lo encuentra, \n",
        "                                         # se termina y da como salida solo lo que encontró dentro del paréntesis.\n",
        "                                         # Si nada hace match dentro del paréntesis, regresa vacío."
      ],
      "metadata": {
        "id": "Z_yN8QWJia9Y",
        "colab": {
          "base_uri": "https://localhost:8080/"
        },
        "outputId": "ba18247b-035d-44ac-ca04-678560f7c721"
      },
      "execution_count": 48,
      "outputs": [
        {
          "output_type": "execute_result",
          "data": {
            "text/plain": [
              "['ing', 'ed']"
            ]
          },
          "metadata": {},
          "execution_count": 48
        }
      ]
    },
    {
      "cell_type": "code",
      "source": [
        "re.findall(r\"\\w+(?:ing|ed)\", \"cat playing red\") # La combinación \"?:\" cancela la instrucción de que una vez encontrado el match (en dado caso)\n",
        "                                                # dentro y fuera del paréntesis, regrese solo lo que está dentro, sino que regrese todo\n",
        "                                                # lo que hizo match."
      ],
      "metadata": {
        "id": "0zCIws2Qia1m",
        "colab": {
          "base_uri": "https://localhost:8080/"
        },
        "outputId": "7e71473f-ad64-4e3c-99f9-0e5bb8139abc"
      },
      "execution_count": 49,
      "outputs": [
        {
          "output_type": "execute_result",
          "data": {
            "text/plain": [
              "['playing', 'red']"
            ]
          },
          "metadata": {},
          "execution_count": 49
        }
      ]
    }
  ]
}