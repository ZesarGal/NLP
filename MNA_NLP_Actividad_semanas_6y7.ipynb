{
 "cells": [
  {
   "cell_type": "markdown",
   "id": "2e6bf268",
   "metadata": {},
   "source": [
    "# MNA - NLP - Solución para el Profesor\n",
    "\n",
    "Actividad Semanas 6 y 7\n",
    "\n",
    "Modelos LSI y LDA\n"
   ]
  },
  {
   "cell_type": "code",
   "execution_count": 1,
   "id": "fbdf8445",
   "metadata": {},
   "outputs": [
    {
     "name": "stderr",
     "output_type": "stream",
     "text": [
      "[nltk_data] Downloading package stopwords to\n",
      "[nltk_data]     C:\\Users\\L00574111\\AppData\\Roaming\\nltk_data...\n",
      "[nltk_data]   Package stopwords is already up-to-date!\n"
     ]
    },
    {
     "data": {
      "text/plain": [
       "True"
      ]
     },
     "execution_count": 1,
     "metadata": {},
     "output_type": "execute_result"
    }
   ],
   "source": [
    "import nltk\n",
    "nltk.download('stopwords')"
   ]
  },
  {
   "cell_type": "code",
   "execution_count": 2,
   "id": "f89d1aa4",
   "metadata": {},
   "outputs": [],
   "source": [
    "import json, re\n",
    "import pandas as pd \n",
    "from nltk.corpus import stopwords\n",
    "from nltk.stem import SnowballStemmer\n",
    "from nltk.tokenize import ToktokTokenizer"
   ]
  },
  {
   "cell_type": "markdown",
   "id": "5400cc2c",
   "metadata": {},
   "source": [
    "# Pregunta 1:"
   ]
  },
  {
   "cell_type": "markdown",
   "id": "89d1de32",
   "metadata": {},
   "source": [
    "Descarga el archivo noticiasTopicModeling.txt que se encuentra en Canvas. Este archivo consiste en 5658 noticias de varios periódicos de España. \n",
    "\n",
    "El archivo de texto es una lista en el siguiente formato:\n",
    " [{“titular”:”Encabezado“, “texto”:”Cuerpo”}, … , {“titular”:”Encabezado”,”texto”:”Cuerpo”}] \n",
    "\n",
    "donde “titular” es el encabezado de la noticia y “texto” es el cuerpo del texto de dicha noticia. \n",
    "\n",
    "En particular en esta actividad trabajarás solamente con los cuerpos de las noticias, sin incluir los encabezados. \n",
    "\n",
    "Carga dicho archivo y genera un DataFrame de Pandas llamado “df” y que contiene una única columna llamada “noticia” con 5658 renglones formados por los cuerpos de las noticias. \n"
   ]
  },
  {
   "cell_type": "code",
   "execution_count": 3,
   "id": "4d7feeeb",
   "metadata": {},
   "outputs": [
    {
     "name": "stdout",
     "output_type": "stream",
     "text": [
      "(5658, 2)\n"
     ]
    },
    {
     "data": {
      "text/html": [
       "<div>\n",
       "<style scoped>\n",
       "    .dataframe tbody tr th:only-of-type {\n",
       "        vertical-align: middle;\n",
       "    }\n",
       "\n",
       "    .dataframe tbody tr th {\n",
       "        vertical-align: top;\n",
       "    }\n",
       "\n",
       "    .dataframe thead th {\n",
       "        text-align: right;\n",
       "    }\n",
       "</style>\n",
       "<table border=\"1\" class=\"dataframe\">\n",
       "  <thead>\n",
       "    <tr style=\"text-align: right;\">\n",
       "      <th></th>\n",
       "      <th>Titular</th>\n",
       "      <th>Noticia</th>\n",
       "    </tr>\n",
       "  </thead>\n",
       "  <tbody>\n",
       "    <tr>\n",
       "      <th>0</th>\n",
       "      <td>Vox se sube a la ola de la extrema derecha eur...</td>\n",
       "      <td>\"España ha dejado de ser católica\", decía Manu...</td>\n",
       "    </tr>\n",
       "    <tr>\n",
       "      <th>1</th>\n",
       "      <td>Mensajes xenófobos de Vox y la cancelación de ...</td>\n",
       "      <td>El clima de crispación social en Ceuta ha lleg...</td>\n",
       "    </tr>\n",
       "    <tr>\n",
       "      <th>2</th>\n",
       "      <td>El Gobierno alega el estado de alarma para no ...</td>\n",
       "      <td>El Gobierno ha alegado la suspensión de plazos...</td>\n",
       "    </tr>\n",
       "    <tr>\n",
       "      <th>3</th>\n",
       "      <td>La fiscala</td>\n",
       "      <td>Puedes mandar tu pregunta, sugerencia o queja ...</td>\n",
       "    </tr>\n",
       "    <tr>\n",
       "      <th>4</th>\n",
       "      <td>La CorteIDH pide a Panamá informe sobre migran...</td>\n",
       "      <td>Panamá debe entregar esta semana a la Corte In...</td>\n",
       "    </tr>\n",
       "  </tbody>\n",
       "</table>\n",
       "</div>"
      ],
      "text/plain": [
       "                                             Titular   \n",
       "0  Vox se sube a la ola de la extrema derecha eur...  \\\n",
       "1  Mensajes xenófobos de Vox y la cancelación de ...   \n",
       "2  El Gobierno alega el estado de alarma para no ...   \n",
       "3                                         La fiscala   \n",
       "4  La CorteIDH pide a Panamá informe sobre migran...   \n",
       "\n",
       "                                             Noticia  \n",
       "0  \"España ha dejado de ser católica\", decía Manu...  \n",
       "1  El clima de crispación social en Ceuta ha lleg...  \n",
       "2  El Gobierno ha alegado la suspensión de plazos...  \n",
       "3  Puedes mandar tu pregunta, sugerencia o queja ...  \n",
       "4  Panamá debe entregar esta semana a la Corte In...  "
      ]
     },
     "execution_count": 3,
     "metadata": {},
     "output_type": "execute_result"
    }
   ],
   "source": [
    "with open('noticiasTopicModeling.txt') as json_file:\n",
    "    datos = json.load(json_file)\n",
    "    \n",
    "tuplas = list(zip([noticia.get(\"titular\") for noticia in datos],\n",
    "                  [noticia.get(\"texto\") for noticia in datos]))\n",
    "\n",
    "df = pd.DataFrame(tuplas, columns =['Titular', 'Noticia'])\n",
    "print(df.shape)\n",
    "df.head()"
   ]
  },
  {
   "cell_type": "markdown",
   "id": "0a81bf18",
   "metadata": {},
   "source": [
    "# Pregunta - 2:"
   ]
  },
  {
   "cell_type": "markdown",
   "id": "956d6f07",
   "metadata": {},
   "source": [
    "Realiza un proceso de limpieza. \n",
    "\n",
    "Aplica el preprocesamiento que consideres adecuado para texto en español. \n",
    "\n",
    "Recuerda que el objetivo es identificar los tokens que describan mejor la distribución de cada tema. "
   ]
  },
  {
   "cell_type": "code",
   "execution_count": 4,
   "id": "3bcdff9d",
   "metadata": {},
   "outputs": [],
   "source": [
    "def limpiar_texto(texto):\n",
    "    \"\"\"\n",
    "    Función para realizar la limpieza de un texto dado.... cada alumno/equipo puede proponer su propio proceso de limpieza.\n",
    "    \"\"\"\n",
    "    # Eliminamos los caracteres especiales\n",
    "    texto = re.sub(r'\\W', ' ', str(texto))\n",
    "    # Eliminado las palabras que tengan un solo caracter\n",
    "    texto = re.sub(r'\\s+[a-zA-Z]\\s+', ' ', texto)\n",
    "    # Sustituir los espacios en blanco en uno solo\n",
    "    texto = re.sub(r'\\s+', ' ', texto, flags=re.I)\n",
    "    # Convertimos textos a minusculas\n",
    "    texto = texto.lower()\n",
    "    return texto"
   ]
  },
  {
   "cell_type": "code",
   "execution_count": 5,
   "id": "1aa41573",
   "metadata": {},
   "outputs": [
    {
     "data": {
      "text/html": [
       "<div>\n",
       "<style scoped>\n",
       "    .dataframe tbody tr th:only-of-type {\n",
       "        vertical-align: middle;\n",
       "    }\n",
       "\n",
       "    .dataframe tbody tr th {\n",
       "        vertical-align: top;\n",
       "    }\n",
       "\n",
       "    .dataframe thead th {\n",
       "        text-align: right;\n",
       "    }\n",
       "</style>\n",
       "<table border=\"1\" class=\"dataframe\">\n",
       "  <thead>\n",
       "    <tr style=\"text-align: right;\">\n",
       "      <th></th>\n",
       "      <th>Titular</th>\n",
       "      <th>Noticia</th>\n",
       "      <th>Tokens</th>\n",
       "    </tr>\n",
       "  </thead>\n",
       "  <tbody>\n",
       "    <tr>\n",
       "      <th>0</th>\n",
       "      <td>Vox se sube a la ola de la extrema derecha eur...</td>\n",
       "      <td>\"España ha dejado de ser católica\", decía Manu...</td>\n",
       "      <td>españa ha dejado de ser católica decía manuel...</td>\n",
       "    </tr>\n",
       "    <tr>\n",
       "      <th>1</th>\n",
       "      <td>Mensajes xenófobos de Vox y la cancelación de ...</td>\n",
       "      <td>El clima de crispación social en Ceuta ha lleg...</td>\n",
       "      <td>el clima de crispación social en ceuta ha lleg...</td>\n",
       "    </tr>\n",
       "    <tr>\n",
       "      <th>2</th>\n",
       "      <td>El Gobierno alega el estado de alarma para no ...</td>\n",
       "      <td>El Gobierno ha alegado la suspensión de plazos...</td>\n",
       "      <td>el gobierno ha alegado la suspensión de plazos...</td>\n",
       "    </tr>\n",
       "    <tr>\n",
       "      <th>3</th>\n",
       "      <td>La fiscala</td>\n",
       "      <td>Puedes mandar tu pregunta, sugerencia o queja ...</td>\n",
       "      <td>puedes mandar tu pregunta sugerencia queja tra...</td>\n",
       "    </tr>\n",
       "    <tr>\n",
       "      <th>4</th>\n",
       "      <td>La CorteIDH pide a Panamá informe sobre migran...</td>\n",
       "      <td>Panamá debe entregar esta semana a la Corte In...</td>\n",
       "      <td>panamá debe entregar esta semana la corte inte...</td>\n",
       "    </tr>\n",
       "  </tbody>\n",
       "</table>\n",
       "</div>"
      ],
      "text/plain": [
       "                                             Titular   \n",
       "0  Vox se sube a la ola de la extrema derecha eur...  \\\n",
       "1  Mensajes xenófobos de Vox y la cancelación de ...   \n",
       "2  El Gobierno alega el estado de alarma para no ...   \n",
       "3                                         La fiscala   \n",
       "4  La CorteIDH pide a Panamá informe sobre migran...   \n",
       "\n",
       "                                             Noticia   \n",
       "0  \"España ha dejado de ser católica\", decía Manu...  \\\n",
       "1  El clima de crispación social en Ceuta ha lleg...   \n",
       "2  El Gobierno ha alegado la suspensión de plazos...   \n",
       "3  Puedes mandar tu pregunta, sugerencia o queja ...   \n",
       "4  Panamá debe entregar esta semana a la Corte In...   \n",
       "\n",
       "                                              Tokens  \n",
       "0   españa ha dejado de ser católica decía manuel...  \n",
       "1  el clima de crispación social en ceuta ha lleg...  \n",
       "2  el gobierno ha alegado la suspensión de plazos...  \n",
       "3  puedes mandar tu pregunta sugerencia queja tra...  \n",
       "4  panamá debe entregar esta semana la corte inte...  "
      ]
     },
     "execution_count": 5,
     "metadata": {},
     "output_type": "execute_result"
    }
   ],
   "source": [
    "df[\"Tokens\"] = df.Noticia.apply(limpiar_texto)\n",
    "df.head()"
   ]
  },
  {
   "cell_type": "code",
   "execution_count": 6,
   "id": "933147e7",
   "metadata": {},
   "outputs": [
    {
     "data": {
      "text/html": [
       "<div>\n",
       "<style scoped>\n",
       "    .dataframe tbody tr th:only-of-type {\n",
       "        vertical-align: middle;\n",
       "    }\n",
       "\n",
       "    .dataframe tbody tr th {\n",
       "        vertical-align: top;\n",
       "    }\n",
       "\n",
       "    .dataframe thead th {\n",
       "        text-align: right;\n",
       "    }\n",
       "</style>\n",
       "<table border=\"1\" class=\"dataframe\">\n",
       "  <thead>\n",
       "    <tr style=\"text-align: right;\">\n",
       "      <th></th>\n",
       "      <th>Titular</th>\n",
       "      <th>Noticia</th>\n",
       "      <th>Tokens</th>\n",
       "    </tr>\n",
       "  </thead>\n",
       "  <tbody>\n",
       "    <tr>\n",
       "      <th>0</th>\n",
       "      <td>Vox se sube a la ola de la extrema derecha eur...</td>\n",
       "      <td>\"España ha dejado de ser católica\", decía Manu...</td>\n",
       "      <td>[españa, ha, dejado, de, ser, católica, decía,...</td>\n",
       "    </tr>\n",
       "    <tr>\n",
       "      <th>1</th>\n",
       "      <td>Mensajes xenófobos de Vox y la cancelación de ...</td>\n",
       "      <td>El clima de crispación social en Ceuta ha lleg...</td>\n",
       "      <td>[el, clima, de, crispación, social, en, ceuta,...</td>\n",
       "    </tr>\n",
       "    <tr>\n",
       "      <th>2</th>\n",
       "      <td>El Gobierno alega el estado de alarma para no ...</td>\n",
       "      <td>El Gobierno ha alegado la suspensión de plazos...</td>\n",
       "      <td>[el, gobierno, ha, alegado, la, suspensión, de...</td>\n",
       "    </tr>\n",
       "    <tr>\n",
       "      <th>3</th>\n",
       "      <td>La fiscala</td>\n",
       "      <td>Puedes mandar tu pregunta, sugerencia o queja ...</td>\n",
       "      <td>[puedes, mandar, tu, pregunta, sugerencia, que...</td>\n",
       "    </tr>\n",
       "    <tr>\n",
       "      <th>4</th>\n",
       "      <td>La CorteIDH pide a Panamá informe sobre migran...</td>\n",
       "      <td>Panamá debe entregar esta semana a la Corte In...</td>\n",
       "      <td>[panamá, debe, entregar, esta, semana, la, cor...</td>\n",
       "    </tr>\n",
       "  </tbody>\n",
       "</table>\n",
       "</div>"
      ],
      "text/plain": [
       "                                             Titular   \n",
       "0  Vox se sube a la ola de la extrema derecha eur...  \\\n",
       "1  Mensajes xenófobos de Vox y la cancelación de ...   \n",
       "2  El Gobierno alega el estado de alarma para no ...   \n",
       "3                                         La fiscala   \n",
       "4  La CorteIDH pide a Panamá informe sobre migran...   \n",
       "\n",
       "                                             Noticia   \n",
       "0  \"España ha dejado de ser católica\", decía Manu...  \\\n",
       "1  El clima de crispación social en Ceuta ha lleg...   \n",
       "2  El Gobierno ha alegado la suspensión de plazos...   \n",
       "3  Puedes mandar tu pregunta, sugerencia o queja ...   \n",
       "4  Panamá debe entregar esta semana a la Corte In...   \n",
       "\n",
       "                                              Tokens  \n",
       "0  [españa, ha, dejado, de, ser, católica, decía,...  \n",
       "1  [el, clima, de, crispación, social, en, ceuta,...  \n",
       "2  [el, gobierno, ha, alegado, la, suspensión, de...  \n",
       "3  [puedes, mandar, tu, pregunta, sugerencia, que...  \n",
       "4  [panamá, debe, entregar, esta, semana, la, cor...  "
      ]
     },
     "execution_count": 6,
     "metadata": {},
     "output_type": "execute_result"
    }
   ],
   "source": [
    "tokenizer = ToktokTokenizer() \n",
    "df[\"Tokens\"] = df.Tokens.apply(tokenizer.tokenize)\n",
    "df.head()"
   ]
  },
  {
   "cell_type": "code",
   "execution_count": 7,
   "id": "87e89ca5",
   "metadata": {},
   "outputs": [
    {
     "data": {
      "text/html": [
       "<div>\n",
       "<style scoped>\n",
       "    .dataframe tbody tr th:only-of-type {\n",
       "        vertical-align: middle;\n",
       "    }\n",
       "\n",
       "    .dataframe tbody tr th {\n",
       "        vertical-align: top;\n",
       "    }\n",
       "\n",
       "    .dataframe thead th {\n",
       "        text-align: right;\n",
       "    }\n",
       "</style>\n",
       "<table border=\"1\" class=\"dataframe\">\n",
       "  <thead>\n",
       "    <tr style=\"text-align: right;\">\n",
       "      <th></th>\n",
       "      <th>Titular</th>\n",
       "      <th>Noticia</th>\n",
       "      <th>Tokens</th>\n",
       "    </tr>\n",
       "  </thead>\n",
       "  <tbody>\n",
       "    <tr>\n",
       "      <th>0</th>\n",
       "      <td>Vox se sube a la ola de la extrema derecha eur...</td>\n",
       "      <td>\"España ha dejado de ser católica\", decía Manu...</td>\n",
       "      <td>[españa, dejado, ser, católica, decía, manuel,...</td>\n",
       "    </tr>\n",
       "    <tr>\n",
       "      <th>1</th>\n",
       "      <td>Mensajes xenófobos de Vox y la cancelación de ...</td>\n",
       "      <td>El clima de crispación social en Ceuta ha lleg...</td>\n",
       "      <td>[clima, crispación, social, ceuta, llegado, pu...</td>\n",
       "    </tr>\n",
       "    <tr>\n",
       "      <th>2</th>\n",
       "      <td>El Gobierno alega el estado de alarma para no ...</td>\n",
       "      <td>El Gobierno ha alegado la suspensión de plazos...</td>\n",
       "      <td>[gobierno, alegado, suspensión, plazos, deriva...</td>\n",
       "    </tr>\n",
       "    <tr>\n",
       "      <th>3</th>\n",
       "      <td>La fiscala</td>\n",
       "      <td>Puedes mandar tu pregunta, sugerencia o queja ...</td>\n",
       "      <td>[puedes, mandar, pregunta, sugerencia, queja, ...</td>\n",
       "    </tr>\n",
       "    <tr>\n",
       "      <th>4</th>\n",
       "      <td>La CorteIDH pide a Panamá informe sobre migran...</td>\n",
       "      <td>Panamá debe entregar esta semana a la Corte In...</td>\n",
       "      <td>[panamá, debe, entregar, semana, corte, intera...</td>\n",
       "    </tr>\n",
       "  </tbody>\n",
       "</table>\n",
       "</div>"
      ],
      "text/plain": [
       "                                             Titular   \n",
       "0  Vox se sube a la ola de la extrema derecha eur...  \\\n",
       "1  Mensajes xenófobos de Vox y la cancelación de ...   \n",
       "2  El Gobierno alega el estado de alarma para no ...   \n",
       "3                                         La fiscala   \n",
       "4  La CorteIDH pide a Panamá informe sobre migran...   \n",
       "\n",
       "                                             Noticia   \n",
       "0  \"España ha dejado de ser católica\", decía Manu...  \\\n",
       "1  El clima de crispación social en Ceuta ha lleg...   \n",
       "2  El Gobierno ha alegado la suspensión de plazos...   \n",
       "3  Puedes mandar tu pregunta, sugerencia o queja ...   \n",
       "4  Panamá debe entregar esta semana a la Corte In...   \n",
       "\n",
       "                                              Tokens  \n",
       "0  [españa, dejado, ser, católica, decía, manuel,...  \n",
       "1  [clima, crispación, social, ceuta, llegado, pu...  \n",
       "2  [gobierno, alegado, suspensión, plazos, deriva...  \n",
       "3  [puedes, mandar, pregunta, sugerencia, queja, ...  \n",
       "4  [panamá, debe, entregar, semana, corte, intera...  "
      ]
     },
     "execution_count": 7,
     "metadata": {},
     "output_type": "execute_result"
    }
   ],
   "source": [
    "STOPWORDS = set(stopwords.words(\"spanish\"))    \n",
    "\n",
    "def filtrar_stopword_digitos(tokens):\n",
    "    \"\"\"\n",
    "    Filtra stopwords y digitos de una lista de tokens.\n",
    "    \"\"\"\n",
    "    return [token for token in tokens if token not in STOPWORDS \n",
    "            and not token.isdigit()]\n",
    "\n",
    "df[\"Tokens\"] = df.Tokens.apply(filtrar_stopword_digitos)\n",
    "df.head()"
   ]
  },
  {
   "cell_type": "code",
   "execution_count": 9,
   "id": "dd656dc9",
   "metadata": {},
   "outputs": [
    {
     "data": {
      "text/html": [
       "<div>\n",
       "<style scoped>\n",
       "    .dataframe tbody tr th:only-of-type {\n",
       "        vertical-align: middle;\n",
       "    }\n",
       "\n",
       "    .dataframe tbody tr th {\n",
       "        vertical-align: top;\n",
       "    }\n",
       "\n",
       "    .dataframe thead th {\n",
       "        text-align: right;\n",
       "    }\n",
       "</style>\n",
       "<table border=\"1\" class=\"dataframe\">\n",
       "  <thead>\n",
       "    <tr style=\"text-align: right;\">\n",
       "      <th></th>\n",
       "      <th>Titular</th>\n",
       "      <th>Noticia</th>\n",
       "      <th>Tokens</th>\n",
       "    </tr>\n",
       "  </thead>\n",
       "  <tbody>\n",
       "    <tr>\n",
       "      <th>0</th>\n",
       "      <td>Vox se sube a la ola de la extrema derecha eur...</td>\n",
       "      <td>\"España ha dejado de ser católica\", decía Manu...</td>\n",
       "      <td>[españ, dej, ser, catol, dec, manuel, azañ, co...</td>\n",
       "    </tr>\n",
       "    <tr>\n",
       "      <th>1</th>\n",
       "      <td>Mensajes xenófobos de Vox y la cancelación de ...</td>\n",
       "      <td>El clima de crispación social en Ceuta ha lleg...</td>\n",
       "      <td>[clim, crispacion, social, ceut, lleg, punt, p...</td>\n",
       "    </tr>\n",
       "    <tr>\n",
       "      <th>2</th>\n",
       "      <td>El Gobierno alega el estado de alarma para no ...</td>\n",
       "      <td>El Gobierno ha alegado la suspensión de plazos...</td>\n",
       "      <td>[gobiern, aleg, suspension, plaz, deriv, decl,...</td>\n",
       "    </tr>\n",
       "    <tr>\n",
       "      <th>3</th>\n",
       "      <td>La fiscala</td>\n",
       "      <td>Puedes mandar tu pregunta, sugerencia o queja ...</td>\n",
       "      <td>[pued, mand, pregunt, sugerent, quej, trav, fo...</td>\n",
       "    </tr>\n",
       "    <tr>\n",
       "      <th>4</th>\n",
       "      <td>La CorteIDH pide a Panamá informe sobre migran...</td>\n",
       "      <td>Panamá debe entregar esta semana a la Corte In...</td>\n",
       "      <td>[panam, deb, entreg, sem, cort, interameric, d...</td>\n",
       "    </tr>\n",
       "  </tbody>\n",
       "</table>\n",
       "</div>"
      ],
      "text/plain": [
       "                                             Titular   \n",
       "0  Vox se sube a la ola de la extrema derecha eur...  \\\n",
       "1  Mensajes xenófobos de Vox y la cancelación de ...   \n",
       "2  El Gobierno alega el estado de alarma para no ...   \n",
       "3                                         La fiscala   \n",
       "4  La CorteIDH pide a Panamá informe sobre migran...   \n",
       "\n",
       "                                             Noticia   \n",
       "0  \"España ha dejado de ser católica\", decía Manu...  \\\n",
       "1  El clima de crispación social en Ceuta ha lleg...   \n",
       "2  El Gobierno ha alegado la suspensión de plazos...   \n",
       "3  Puedes mandar tu pregunta, sugerencia o queja ...   \n",
       "4  Panamá debe entregar esta semana a la Corte In...   \n",
       "\n",
       "                                              Tokens  \n",
       "0  [españ, dej, ser, catol, dec, manuel, azañ, co...  \n",
       "1  [clim, crispacion, social, ceut, lleg, punt, p...  \n",
       "2  [gobiern, aleg, suspension, plaz, deriv, decl,...  \n",
       "3  [pued, mand, pregunt, sugerent, quej, trav, fo...  \n",
       "4  [panam, deb, entreg, sem, cort, interameric, d...  "
      ]
     },
     "execution_count": 9,
     "metadata": {},
     "output_type": "execute_result"
    }
   ],
   "source": [
    "stemmer = SnowballStemmer(\"spanish\")                            # tarda 1 min aprox\n",
    "\n",
    "def stem_palabras(tokens):\n",
    "    \"\"\"\n",
    "    Reduce cada palabra de una lista dada a su raíz.\n",
    "    \"\"\"\n",
    "    return [stemmer.stem(token) for token in tokens]\n",
    " \n",
    "df[\"Tokens\"] = df.Tokens.apply(stem_palabras)\n",
    "\n",
    "df.head()"
   ]
  },
  {
   "cell_type": "markdown",
   "id": "1d4e0f20",
   "metadata": {},
   "source": [
    "# Pregunta - 3: "
   ]
  },
  {
   "cell_type": "markdown",
   "id": "2dcedac3",
   "metadata": {},
   "source": [
    "¿Por qué en este caso no requerimos hacer una partición en entrenamiento, validación y prueba?"
   ]
  },
  {
   "cell_type": "markdown",
   "id": "ae25e5e1",
   "metadata": {},
   "source": [
    "Terminemos de preparar los datos en una lista de strings, donde cada string es una de las 5658 noticias"
   ]
  },
  {
   "cell_type": "code",
   "execution_count": 10,
   "id": "b263bb2d",
   "metadata": {},
   "outputs": [
    {
     "name": "stdout",
     "output_type": "stream",
     "text": [
      "['españ', 'dej', 'ser', 'catol', 'dec', 'manuel', 'azañ', 'comienz', 'segund', 'republ']\n"
     ]
    }
   ],
   "source": [
    "print(df.Tokens[0][0:10])   # Ya tenemos la tokenización en \"palabras\"."
   ]
  },
  {
   "cell_type": "code",
   "execution_count": 11,
   "id": "81ef81b2",
   "metadata": {},
   "outputs": [
    {
     "data": {
      "text/plain": [
       "(5658, 1)"
      ]
     },
     "execution_count": 11,
     "metadata": {},
     "output_type": "execute_result"
    }
   ],
   "source": [
    "X = df[['Tokens']]\n",
    "X.shape   # dataFrame"
   ]
  },
  {
   "cell_type": "code",
   "execution_count": 12,
   "id": "713c5516",
   "metadata": {},
   "outputs": [],
   "source": [
    "import numpy as np"
   ]
  },
  {
   "cell_type": "code",
   "execution_count": 13,
   "id": "e02d2082",
   "metadata": {},
   "outputs": [
    {
     "data": {
      "text/plain": [
       "(5658, 1)"
      ]
     },
     "execution_count": 13,
     "metadata": {},
     "output_type": "execute_result"
    }
   ],
   "source": [
    "Xx = np.array(X)\n",
    "Xx.shape"
   ]
  },
  {
   "cell_type": "code",
   "execution_count": 14,
   "id": "ada9dfff",
   "metadata": {},
   "outputs": [
    {
     "data": {
      "text/plain": [
       "['trabaj',\n",
       " 'españ',\n",
       " 'necesit',\n",
       " 'inmigr',\n",
       " 'nadi',\n",
       " 'inter',\n",
       " 'condicion',\n",
       " 'vid',\n",
       " 'relator',\n",
       " 'onu']"
      ]
     },
     "execution_count": 14,
     "metadata": {},
     "output_type": "execute_result"
    }
   ],
   "source": [
    "list(Xx[10])[0][0:10]   # cada noticia está ahorita como una lista de tokens-strings separados."
   ]
  },
  {
   "cell_type": "code",
   "execution_count": 15,
   "id": "6b2c60f6",
   "metadata": {},
   "outputs": [
    {
     "data": {
      "text/plain": [
       "5658"
      ]
     },
     "execution_count": 15,
     "metadata": {},
     "output_type": "execute_result"
    }
   ],
   "source": [
    "ddf = []\n",
    "\n",
    "for k in range(Xx.shape[0]):\n",
    "    st = list(Xx[k])[0]\n",
    "    tmp = ' '.join(st)\n",
    "    ddf.append(tmp)\n",
    "    \n",
    "len(ddf)"
   ]
  },
  {
   "cell_type": "code",
   "execution_count": 16,
   "id": "1bd392ee",
   "metadata": {},
   "outputs": [
    {
     "data": {
      "text/plain": [
       "'españ dej ser catol dec manuel azañ comienz segund republ aquel congr diput aprob ley laicist metafor dej ser catol papel ley creenci buen part puebl migracion integr europ program vox europ sab españ doming noviembr dej ser excepcion europ potenci extrem derech parlament metafor pues precis excepcional ten dictadur medi setent dictador aun mausol despu años muert exist tal cos portugal greci itali alemani pais dictadur fascist españ pas portugal itali alemani derrot fascism franquism mur cam harakiri cort franquist ruptur regim sin reform nac nuev pais sin pais mut ley ley aun asi españ parec vacun si años franquism sid bastant lleg irrupcion posfranqu tras ser actor fundamental gobi autonom local pp ciudad españ dej ser excepcion aunqu alianz popul manuel frag beb franquism sociolog fuerz nuev blas piñ bunk franquist aunqu franquism sociolog mantuv pp larg tiemp aunqu vox escision propi pp aunqu asi ciert nunc ahor españ reinstaur democrat exist fuerz extrem derech vot escañ fenom pas pas pais europ aunqu oper españ polariz eje nacional crisis cataluny ejempl mejor amig vox europ grup ecr parlament europ part gobern ultracatol polac pis sup vot principal referent extrem derech europ marin pen matt salvini apresur felicit santiag abascal present num superior vox pen sac ultim europ salvini extrem derech austriac fpö sac hac mes medi legisl inclus despu crisis financi rus eje ampli extrem derech europ suel situ gobern hung fidesz viktor orban suspend part popul europ cuy grup parlamentari eurocam sig pertenec logr may pas efect vox aun escalon escalon dej encim clasic extrem derech europ alem afd subcampeon länder alem may qued debaj general encim geert wilders sac legisl holand despeñ europ men asi vox lleg logr democrat sueci europ dos punt men general septiembr duplic sum solucion grieg auror dor eleccion greci juli pas dos punt part finland qued tres decim gan eleccion finland abril pas etiquet internacional vox extrem derech europ'"
      ]
     },
     "execution_count": 16,
     "metadata": {},
     "output_type": "execute_result"
    }
   ],
   "source": [
    "ddf[0]   # ya tenemos un lista de noticias, donde cada noticia está en un solo string... esta es la primera de ellas."
   ]
  },
  {
   "cell_type": "code",
   "execution_count": 17,
   "id": "dcbcc1f7",
   "metadata": {},
   "outputs": [
    {
     "data": {
      "text/plain": [
       "(5658,)"
      ]
     },
     "execution_count": 17,
     "metadata": {},
     "output_type": "execute_result"
    }
   ],
   "source": [
    "Xdf = np.array(ddf)\n",
    "Xdf.shape"
   ]
  },
  {
   "cell_type": "markdown",
   "id": "aebcc820",
   "metadata": {},
   "source": [
    "Listo, ya tenemos los comentarios como una lista o arreglo de numpy, pasemos a los modelos."
   ]
  },
  {
   "cell_type": "markdown",
   "id": "1d5e81a5",
   "metadata": {},
   "source": [
    "# Parte 1: Indexación semántica latente (LSI):"
   ]
  },
  {
   "cell_type": "markdown",
   "id": "03a96ce5",
   "metadata": {},
   "source": [
    "# Pregunta - 4:"
   ]
  },
  {
   "cell_type": "markdown",
   "id": "a67b2176",
   "metadata": {},
   "source": [
    "Encontrar la matriz Tf-idf de la columna de noticias. \n",
    "\n",
    "Despliega los primeros 5 renglones con algunas de sus columnas con sus nombres, donde las columnas son los tokens. \n",
    "\n",
    "**¿Cuál es el significado de cada renglón? ¿Y el significado de cada columna?**"
   ]
  },
  {
   "cell_type": "markdown",
   "id": "d83a00e6",
   "metadata": {},
   "source": [
    "# Aquí empieza el otro archivo del JupNb del LSI (o LSA) con SVD"
   ]
  },
  {
   "cell_type": "code",
   "execution_count": 18,
   "id": "fc70af0a",
   "metadata": {},
   "outputs": [],
   "source": [
    "from sklearn.feature_extraction.text import TfidfVectorizer\n",
    "import pandas as pd"
   ]
  },
  {
   "cell_type": "code",
   "execution_count": 19,
   "id": "eb198893",
   "metadata": {},
   "outputs": [],
   "source": [
    "tfidf = TfidfVectorizer(lowercase=True, \n",
    "                        max_df=0.2,         # -------------- ignora las palabras con frecuencia mayor al 20% (opcional)\n",
    "                        min_df=0.02         # -------------- ignora las palabras con frecuencia menor al 2%  (opcional)\n",
    "                       )"
   ]
  },
  {
   "cell_type": "code",
   "execution_count": 20,
   "id": "29682f6d",
   "metadata": {},
   "outputs": [
    {
     "data": {
      "text/html": [
       "<div>\n",
       "<style scoped>\n",
       "    .dataframe tbody tr th:only-of-type {\n",
       "        vertical-align: middle;\n",
       "    }\n",
       "\n",
       "    .dataframe tbody tr th {\n",
       "        vertical-align: top;\n",
       "    }\n",
       "\n",
       "    .dataframe thead th {\n",
       "        text-align: right;\n",
       "    }\n",
       "</style>\n",
       "<table border=\"1\" class=\"dataframe\">\n",
       "  <thead>\n",
       "    <tr style=\"text-align: right;\">\n",
       "      <th></th>\n",
       "      <th>abandon</th>\n",
       "      <th>abascal</th>\n",
       "      <th>abiert</th>\n",
       "      <th>abog</th>\n",
       "      <th>abon</th>\n",
       "      <th>abord</th>\n",
       "      <th>abraz</th>\n",
       "      <th>abre</th>\n",
       "      <th>abri</th>\n",
       "      <th>abril</th>\n",
       "      <th>...</th>\n",
       "      <th>washington</th>\n",
       "      <th>web</th>\n",
       "      <th>www</th>\n",
       "      <th>xunt</th>\n",
       "      <th>xx</th>\n",
       "      <th>york</th>\n",
       "      <th>zanj</th>\n",
       "      <th>zapat</th>\n",
       "      <th>zaragoz</th>\n",
       "      <th>zon</th>\n",
       "    </tr>\n",
       "  </thead>\n",
       "  <tbody>\n",
       "    <tr>\n",
       "      <th>0</th>\n",
       "      <td>0.00000</td>\n",
       "      <td>0.080519</td>\n",
       "      <td>0.000000</td>\n",
       "      <td>0.000000</td>\n",
       "      <td>0.0</td>\n",
       "      <td>0.0</td>\n",
       "      <td>0.0</td>\n",
       "      <td>0.0</td>\n",
       "      <td>0.0</td>\n",
       "      <td>0.05089</td>\n",
       "      <td>...</td>\n",
       "      <td>0.0</td>\n",
       "      <td>0.000000</td>\n",
       "      <td>0.0</td>\n",
       "      <td>0.0</td>\n",
       "      <td>0.0</td>\n",
       "      <td>0.0</td>\n",
       "      <td>0.00000</td>\n",
       "      <td>0.0</td>\n",
       "      <td>0.0</td>\n",
       "      <td>0.000000</td>\n",
       "    </tr>\n",
       "    <tr>\n",
       "      <th>1</th>\n",
       "      <td>0.02793</td>\n",
       "      <td>0.040328</td>\n",
       "      <td>0.023193</td>\n",
       "      <td>0.056040</td>\n",
       "      <td>0.0</td>\n",
       "      <td>0.0</td>\n",
       "      <td>0.0</td>\n",
       "      <td>0.0</td>\n",
       "      <td>0.0</td>\n",
       "      <td>0.00000</td>\n",
       "      <td>...</td>\n",
       "      <td>0.0</td>\n",
       "      <td>0.000000</td>\n",
       "      <td>0.0</td>\n",
       "      <td>0.0</td>\n",
       "      <td>0.0</td>\n",
       "      <td>0.0</td>\n",
       "      <td>0.03868</td>\n",
       "      <td>0.0</td>\n",
       "      <td>0.0</td>\n",
       "      <td>0.000000</td>\n",
       "    </tr>\n",
       "    <tr>\n",
       "      <th>2</th>\n",
       "      <td>0.00000</td>\n",
       "      <td>0.000000</td>\n",
       "      <td>0.000000</td>\n",
       "      <td>0.044785</td>\n",
       "      <td>0.0</td>\n",
       "      <td>0.0</td>\n",
       "      <td>0.0</td>\n",
       "      <td>0.0</td>\n",
       "      <td>0.0</td>\n",
       "      <td>0.00000</td>\n",
       "      <td>...</td>\n",
       "      <td>0.0</td>\n",
       "      <td>0.000000</td>\n",
       "      <td>0.0</td>\n",
       "      <td>0.0</td>\n",
       "      <td>0.0</td>\n",
       "      <td>0.0</td>\n",
       "      <td>0.00000</td>\n",
       "      <td>0.0</td>\n",
       "      <td>0.0</td>\n",
       "      <td>0.000000</td>\n",
       "    </tr>\n",
       "    <tr>\n",
       "      <th>3</th>\n",
       "      <td>0.00000</td>\n",
       "      <td>0.000000</td>\n",
       "      <td>0.000000</td>\n",
       "      <td>0.000000</td>\n",
       "      <td>0.0</td>\n",
       "      <td>0.0</td>\n",
       "      <td>0.0</td>\n",
       "      <td>0.0</td>\n",
       "      <td>0.0</td>\n",
       "      <td>0.00000</td>\n",
       "      <td>...</td>\n",
       "      <td>0.0</td>\n",
       "      <td>0.059995</td>\n",
       "      <td>0.0</td>\n",
       "      <td>0.0</td>\n",
       "      <td>0.0</td>\n",
       "      <td>0.0</td>\n",
       "      <td>0.00000</td>\n",
       "      <td>0.0</td>\n",
       "      <td>0.0</td>\n",
       "      <td>0.000000</td>\n",
       "    </tr>\n",
       "    <tr>\n",
       "      <th>4</th>\n",
       "      <td>0.00000</td>\n",
       "      <td>0.000000</td>\n",
       "      <td>0.000000</td>\n",
       "      <td>0.000000</td>\n",
       "      <td>0.0</td>\n",
       "      <td>0.0</td>\n",
       "      <td>0.0</td>\n",
       "      <td>0.0</td>\n",
       "      <td>0.0</td>\n",
       "      <td>0.00000</td>\n",
       "      <td>...</td>\n",
       "      <td>0.0</td>\n",
       "      <td>0.000000</td>\n",
       "      <td>0.0</td>\n",
       "      <td>0.0</td>\n",
       "      <td>0.0</td>\n",
       "      <td>0.0</td>\n",
       "      <td>0.00000</td>\n",
       "      <td>0.0</td>\n",
       "      <td>0.0</td>\n",
       "      <td>0.034325</td>\n",
       "    </tr>\n",
       "  </tbody>\n",
       "</table>\n",
       "<p>5 rows × 2132 columns</p>\n",
       "</div>"
      ],
      "text/plain": [
       "   abandon   abascal    abiert      abog  abon  abord  abraz  abre  abri   \n",
       "0  0.00000  0.080519  0.000000  0.000000   0.0    0.0    0.0   0.0   0.0  \\\n",
       "1  0.02793  0.040328  0.023193  0.056040   0.0    0.0    0.0   0.0   0.0   \n",
       "2  0.00000  0.000000  0.000000  0.044785   0.0    0.0    0.0   0.0   0.0   \n",
       "3  0.00000  0.000000  0.000000  0.000000   0.0    0.0    0.0   0.0   0.0   \n",
       "4  0.00000  0.000000  0.000000  0.000000   0.0    0.0    0.0   0.0   0.0   \n",
       "\n",
       "     abril  ...  washington       web  www  xunt   xx  york     zanj  zapat   \n",
       "0  0.05089  ...         0.0  0.000000  0.0   0.0  0.0   0.0  0.00000    0.0  \\\n",
       "1  0.00000  ...         0.0  0.000000  0.0   0.0  0.0   0.0  0.03868    0.0   \n",
       "2  0.00000  ...         0.0  0.000000  0.0   0.0  0.0   0.0  0.00000    0.0   \n",
       "3  0.00000  ...         0.0  0.059995  0.0   0.0  0.0   0.0  0.00000    0.0   \n",
       "4  0.00000  ...         0.0  0.000000  0.0   0.0  0.0   0.0  0.00000    0.0   \n",
       "\n",
       "   zaragoz       zon  \n",
       "0      0.0  0.000000  \n",
       "1      0.0  0.000000  \n",
       "2      0.0  0.000000  \n",
       "3      0.0  0.000000  \n",
       "4      0.0  0.034325  \n",
       "\n",
       "[5 rows x 2132 columns]"
      ]
     },
     "execution_count": 20,
     "metadata": {},
     "output_type": "execute_result"
    }
   ],
   "source": [
    "tfidf_train_sparse = tfidf.fit_transform(ddf)     # csr_matrix de la DTM\n",
    "\n",
    "# to Data Frame -- es decir, como matriz densa... solo si tienes RAM y es para visualizarla!!!\n",
    "tfidf_train_df = pd.DataFrame(tfidf_train_sparse.toarray(), columns=tfidf.get_feature_names_out()) \n",
    "\n",
    "tfidf_train_df.head(5)"
   ]
  },
  {
   "cell_type": "code",
   "execution_count": 21,
   "id": "152205f4",
   "metadata": {},
   "outputs": [
    {
     "data": {
      "text/plain": [
       "(5658, 2132)"
      ]
     },
     "execution_count": 21,
     "metadata": {},
     "output_type": "execute_result"
    }
   ],
   "source": [
    "tfidf_train_df.shape"
   ]
  },
  {
   "cell_type": "code",
   "execution_count": 22,
   "id": "997cb703",
   "metadata": {},
   "outputs": [],
   "source": [
    "# borrémos la matriz densa que no la necesitamos más:\n",
    "del tfidf_train_df"
   ]
  },
  {
   "cell_type": "markdown",
   "id": "16fa1b28",
   "metadata": {},
   "source": [
    "# Pregunta - 5:"
   ]
  },
  {
   "cell_type": "markdown",
   "id": "4113da4b",
   "metadata": {},
   "source": [
    "Aplica el método de descomposición de valores singulares truncado a la matriz Tf-idf anterior con 10 componentes y obtener el gráfico de la importancia relativa de estas. "
   ]
  },
  {
   "cell_type": "code",
   "execution_count": 23,
   "id": "73b2284d",
   "metadata": {},
   "outputs": [],
   "source": [
    "from sklearn.decomposition import TruncatedSVD\n",
    "import seaborn as sns\n",
    "import matplotlib.pyplot as plt"
   ]
  },
  {
   "cell_type": "code",
   "execution_count": 24,
   "id": "0d49e5f0",
   "metadata": {},
   "outputs": [],
   "source": [
    "# Se define el objeto que aplicará SVD truncada con r=10 singular values\n",
    "# No les dije en la tarea que usaran alguna semilla , así que los resultados\n",
    "# serán en general diferentes... y además porque cada uno creo su propio texto limpio.\n",
    "    \n",
    "\n",
    "lsa_obj = TruncatedSVD(n_components=10, n_iter=100)  \n",
    "\n",
    "tfidf_lsa_data = lsa_obj.fit_transform(tfidf_train_sparse)   # ndarray_(5658x10) ... se ajusta y aplica la SVD truncada\n",
    "                                                             #                       a los datos de Train.\n",
    "\n",
    "Sigma = lsa_obj.singular_values_     # ndarray_(10,)\n",
    "\n",
    "V_T = lsa_obj.components_.T     # ndarray_(2911x10)  ... En este caso las 10 columnas serían 10 temas/topics encontrados\n",
    "                                                   # Se deben ordenar las 2911 words/Terms de mayor a menor para obtener\n",
    "                                                   # las keywords principales de cada tópico."
   ]
  },
  {
   "cell_type": "code",
   "execution_count": 25,
   "id": "e6d36f39",
   "metadata": {},
   "outputs": [
    {
     "name": "stdout",
     "output_type": "stream",
     "text": [
      "(5658, 10)\n",
      "(10,)\n",
      "(2132, 10)\n"
     ]
    }
   ],
   "source": [
    "print(tfidf_lsa_data.shape)\n",
    "print(Sigma.shape)\n",
    "print(V_T.shape)"
   ]
  },
  {
   "cell_type": "code",
   "execution_count": 26,
   "id": "7d142672",
   "metadata": {},
   "outputs": [
    {
     "data": {
      "text/plain": [
       "array([16.86447607,  8.81984924,  8.30283823,  7.57555544,  7.32239139,\n",
       "        7.01673039,  6.65166964,  6.23526656,  6.20064924,  6.05734527])"
      ]
     },
     "execution_count": 26,
     "metadata": {},
     "output_type": "execute_result"
    }
   ],
   "source": [
    "vs = lsa_obj.singular_values_\n",
    "\n",
    "vs "
   ]
  },
  {
   "cell_type": "markdown",
   "id": "b41aa22e",
   "metadata": {},
   "source": [
    "Vemos que los 10 valores singulares son bastante grandes todos, por lo que por este método\n",
    "\n",
    "podemos decir que la cantidad de tópicos debieran de ser al menos 10 tópicos."
   ]
  },
  {
   "cell_type": "code",
   "execution_count": 27,
   "id": "91514408",
   "metadata": {},
   "outputs": [
    {
     "data": {
      "image/png": "[encoded data removed]",
      "text/plain": [
       "<Figure size 640x480 with 1 Axes>"
      ]
     },
     "metadata": {},
     "output_type": "display_data"
    }
   ],
   "source": [
    "chart = sns.barplot(x=list(range(len(Sigma))), y = Sigma )\n",
    "chart.set_xlabel('Latent Component', fontdict={'size': 12})\n",
    "chart.set_ylabel('Relative Importance of each component', fontdict={'size': 10})\n",
    "plt.show()"
   ]
  },
  {
   "cell_type": "markdown",
   "id": "1eb65b2f",
   "metadata": {},
   "source": [
    "# Pregunta - 6:"
   ]
  },
  {
   "cell_type": "markdown",
   "id": "cbe5d4c8",
   "metadata": {},
   "source": [
    "Obtener la matriz tokens-temas (term-topic) a partir de la matriz V^T de la descomposición SVD. \n",
    "\n",
    "Despliega sus primeros 5 renglones donde se incluya el nombre de las columnas."
   ]
  },
  {
   "cell_type": "code",
   "execution_count": 29,
   "id": "1cac7292",
   "metadata": {},
   "outputs": [],
   "source": [
    "lsa_term_topic = V_T    # Esta es la matriz \"term\" (2132 words) contra \"topic\" (10 tópicos).  "
   ]
  },
  {
   "cell_type": "code",
   "execution_count": 30,
   "id": "07087d4c",
   "metadata": {},
   "outputs": [
    {
     "data": {
      "text/plain": [
       "(2132, 10)"
      ]
     },
     "execution_count": 30,
     "metadata": {},
     "output_type": "execute_result"
    }
   ],
   "source": [
    "lsa_term_topic.shape"
   ]
  },
  {
   "cell_type": "code",
   "execution_count": 31,
   "id": "7cd4dad3",
   "metadata": {},
   "outputs": [
    {
     "data": {
      "text/plain": [
       "array(['abandon', 'abascal', 'abiert', ..., 'zapat', 'zaragoz', 'zon'],\n",
       "      dtype=object)"
      ]
     },
     "execution_count": 31,
     "metadata": {},
     "output_type": "execute_result"
    }
   ],
   "source": [
    "tfidf.get_feature_names_out()   # aquí tenemos los nombres de todos los tokens..."
   ]
  },
  {
   "cell_type": "code",
   "execution_count": 32,
   "id": "5c4b7c83",
   "metadata": {},
   "outputs": [],
   "source": [
    "eda_traincolumnsnames = list(tfidf.get_feature_names_out())   # para que queden en una lista..."
   ]
  },
  {
   "cell_type": "code",
   "execution_count": 33,
   "id": "87313f4b",
   "metadata": {},
   "outputs": [
    {
     "name": "stdout",
     "output_type": "stream",
     "text": [
      "(2132, 10)\n"
     ]
    }
   ],
   "source": [
    "term_topic_matrix = pd.DataFrame(data=lsa_term_topic, \n",
    "                      index = eda_traincolumnsnames ,  # EDA: los datos de Train para relacionar los Terms(Words) con los Topics.\n",
    "                      columns = [f'Latent_concept_{r}' for r in range(0,V_T.shape[1])]  # cada una de las \"r\" columnas son tópicos\n",
    "                      )\n",
    "\n",
    "print(term_topic_matrix.shape)   #  wordsxtopics:(2911x10)"
   ]
  },
  {
   "cell_type": "code",
   "execution_count": 36,
   "id": "4539909d",
   "metadata": {},
   "outputs": [
    {
     "data": {
      "text/plain": [
       "['Latent_concept_0',\n",
       " 'Latent_concept_1',\n",
       " 'Latent_concept_2',\n",
       " 'Latent_concept_3',\n",
       " 'Latent_concept_4',\n",
       " 'Latent_concept_5',\n",
       " 'Latent_concept_6',\n",
       " 'Latent_concept_7',\n",
       " 'Latent_concept_8',\n",
       " 'Latent_concept_9']"
      ]
     },
     "execution_count": 36,
     "metadata": {},
     "output_type": "execute_result"
    }
   ],
   "source": [
    "[f'Latent_concept_{r}' for r in range(0,V_T.shape[1])]   # aquí tenemos los nombres de las columnas de los conceptos-latentes"
   ]
  },
  {
   "cell_type": "code",
   "execution_count": 37,
   "id": "78c0bd1e",
   "metadata": {},
   "outputs": [
    {
     "data": {
      "text/html": [
       "<div>\n",
       "<style scoped>\n",
       "    .dataframe tbody tr th:only-of-type {\n",
       "        vertical-align: middle;\n",
       "    }\n",
       "\n",
       "    .dataframe tbody tr th {\n",
       "        vertical-align: top;\n",
       "    }\n",
       "\n",
       "    .dataframe thead th {\n",
       "        text-align: right;\n",
       "    }\n",
       "</style>\n",
       "<table border=\"1\" class=\"dataframe\">\n",
       "  <thead>\n",
       "    <tr style=\"text-align: right;\">\n",
       "      <th></th>\n",
       "      <th>Latent_concept_0</th>\n",
       "      <th>Latent_concept_1</th>\n",
       "      <th>Latent_concept_2</th>\n",
       "      <th>Latent_concept_3</th>\n",
       "      <th>Latent_concept_4</th>\n",
       "      <th>Latent_concept_5</th>\n",
       "      <th>Latent_concept_6</th>\n",
       "      <th>Latent_concept_7</th>\n",
       "      <th>Latent_concept_8</th>\n",
       "      <th>Latent_concept_9</th>\n",
       "    </tr>\n",
       "  </thead>\n",
       "  <tbody>\n",
       "    <tr>\n",
       "      <th>abandon</th>\n",
       "      <td>0.022051</td>\n",
       "      <td>-0.006917</td>\n",
       "      <td>-0.015014</td>\n",
       "      <td>-0.003768</td>\n",
       "      <td>0.002110</td>\n",
       "      <td>-0.002375</td>\n",
       "      <td>-0.005137</td>\n",
       "      <td>-0.000316</td>\n",
       "      <td>-0.006497</td>\n",
       "      <td>-0.003140</td>\n",
       "    </tr>\n",
       "    <tr>\n",
       "      <th>abascal</th>\n",
       "      <td>0.012632</td>\n",
       "      <td>-0.016645</td>\n",
       "      <td>0.014734</td>\n",
       "      <td>-0.012369</td>\n",
       "      <td>0.035697</td>\n",
       "      <td>-0.013906</td>\n",
       "      <td>-0.031242</td>\n",
       "      <td>0.004860</td>\n",
       "      <td>0.012111</td>\n",
       "      <td>-0.003521</td>\n",
       "    </tr>\n",
       "    <tr>\n",
       "      <th>abiert</th>\n",
       "      <td>0.032793</td>\n",
       "      <td>-0.005235</td>\n",
       "      <td>-0.005629</td>\n",
       "      <td>0.007705</td>\n",
       "      <td>-0.000888</td>\n",
       "      <td>0.005467</td>\n",
       "      <td>0.012275</td>\n",
       "      <td>-0.000390</td>\n",
       "      <td>-0.004643</td>\n",
       "      <td>0.002884</td>\n",
       "    </tr>\n",
       "    <tr>\n",
       "      <th>abog</th>\n",
       "      <td>0.027419</td>\n",
       "      <td>-0.038516</td>\n",
       "      <td>-0.002225</td>\n",
       "      <td>0.037888</td>\n",
       "      <td>-0.027878</td>\n",
       "      <td>0.003165</td>\n",
       "      <td>-0.000671</td>\n",
       "      <td>0.003384</td>\n",
       "      <td>0.021651</td>\n",
       "      <td>0.007050</td>\n",
       "    </tr>\n",
       "    <tr>\n",
       "      <th>abon</th>\n",
       "      <td>0.009386</td>\n",
       "      <td>-0.004918</td>\n",
       "      <td>0.011932</td>\n",
       "      <td>0.003534</td>\n",
       "      <td>-0.010921</td>\n",
       "      <td>0.004344</td>\n",
       "      <td>0.026852</td>\n",
       "      <td>0.002619</td>\n",
       "      <td>0.005226</td>\n",
       "      <td>0.008279</td>\n",
       "    </tr>\n",
       "  </tbody>\n",
       "</table>\n",
       "</div>"
      ],
      "text/plain": [
       "         Latent_concept_0  Latent_concept_1  Latent_concept_2   \n",
       "abandon          0.022051         -0.006917         -0.015014  \\\n",
       "abascal          0.012632         -0.016645          0.014734   \n",
       "abiert           0.032793         -0.005235         -0.005629   \n",
       "abog             0.027419         -0.038516         -0.002225   \n",
       "abon             0.009386         -0.004918          0.011932   \n",
       "\n",
       "         Latent_concept_3  Latent_concept_4  Latent_concept_5   \n",
       "abandon         -0.003768          0.002110         -0.002375  \\\n",
       "abascal         -0.012369          0.035697         -0.013906   \n",
       "abiert           0.007705         -0.000888          0.005467   \n",
       "abog             0.037888         -0.027878          0.003165   \n",
       "abon             0.003534         -0.010921          0.004344   \n",
       "\n",
       "         Latent_concept_6  Latent_concept_7  Latent_concept_8   \n",
       "abandon         -0.005137         -0.000316         -0.006497  \\\n",
       "abascal         -0.031242          0.004860          0.012111   \n",
       "abiert           0.012275         -0.000390         -0.004643   \n",
       "abog            -0.000671          0.003384          0.021651   \n",
       "abon             0.026852          0.002619          0.005226   \n",
       "\n",
       "         Latent_concept_9  \n",
       "abandon         -0.003140  \n",
       "abascal         -0.003521  \n",
       "abiert           0.002884  \n",
       "abog             0.007050  \n",
       "abon             0.008279  "
      ]
     },
     "execution_count": 37,
     "metadata": {},
     "output_type": "execute_result"
    }
   ],
   "source": [
    "term_topic_matrix.head()    # Cada columna es un tópico (topic o Latent-Concept), donde se indican los pesos de cada palabra (term)\n",
    "                            # que define dicho tópico a través de las palabras que tengan lo valores más grandes."
   ]
  },
  {
   "cell_type": "markdown",
   "id": "5646ac77",
   "metadata": {},
   "source": [
    "# Pregunta - 7:"
   ]
  },
  {
   "cell_type": "markdown",
   "id": "07cbca89",
   "metadata": {},
   "source": [
    "Con base a la cantidad de conceptos latentes que determinaste en el ejercicio 6 anterior, obtener cada uno de sus gráficos con sus 10 términos/tokens más importantes. ¿Cómo describirías cada uno de dichos conceptos latentes?"
   ]
  },
  {
   "cell_type": "code",
   "execution_count": 38,
   "id": "3e76d6cb",
   "metadata": {},
   "outputs": [
    {
     "data": {
      "image/png": "[encoded data removed]",
      "text/plain": [
       "<Figure size 640x480 with 1 Axes>"
      ]
     },
     "metadata": {},
     "output_type": "display_data"
    }
   ],
   "source": [
    "data = term_topic_matrix[f'Latent_concept_1']   # seleccionemos por ejemplo esta columna o tópico: \"Latent-Concept\".\n",
    "data = data.sort_values(ascending=False)       # ordenamos lo datos de la columna/tópico seleccionada de manera descendente.\n",
    "\n",
    "top_10 = data[:10]    # nos quedamos con los 10 pesos de los 10 terms (words) de mayor peso.\n",
    "\n",
    "plt.title('Top terms along the axis of Latent concept 1')\n",
    "fig = sns.barplot(x= top_10.values, y=top_10.index)"
   ]
  },
  {
   "cell_type": "markdown",
   "id": "220bbc8c",
   "metadata": {},
   "source": [
    "Estas dos que siguen son opcionales y podrían incluir algunas análogas a estas ... aunque no tiene puntos :-\\"
   ]
  },
  {
   "cell_type": "code",
   "execution_count": 39,
   "id": "e25e24c4",
   "metadata": {},
   "outputs": [
    {
     "data": {
      "image/png": "[encoded data removed]",
      "text/plain": [
       "<Figure size 640x480 with 1 Axes>"
      ]
     },
     "metadata": {},
     "output_type": "display_data"
    }
   ],
   "source": [
    "data = data.sort_values(ascending=True)       # ahora los ordenamos de manera ascendente.\n",
    "\n",
    "top_10 = data[:7]    # nos quedamos con los 10 pesos de los 10 terms (words) de mayor peso.\n",
    "\n",
    "plt.title('Bottom terms along the axis of Latent concept 1')\n",
    "fig = sns.barplot(x= top_10.values, y=top_10.index)"
   ]
  },
  {
   "cell_type": "code",
   "execution_count": 40,
   "id": "75204800",
   "metadata": {},
   "outputs": [
    {
     "data": {
      "image/png": "[encoded data removed]",
      "text/plain": [
       "<Figure size 640x480 with 1 Axes>"
      ]
     },
     "metadata": {},
     "output_type": "display_data"
    }
   ],
   "source": [
    "data = term_topic_matrix[f'Latent_concept_5']   # seleccionemos por ejemplo esta columna o tópico: \"Latent-Concept\".\n",
    "data = data.sort_values(ascending=False)       # ordenamos lo datos de la columna/tópico seleccionada de manera descendente.\n",
    "\n",
    "top_10 = data[:10]    # nos quedamos con los 10 pesos de los 10 terms (words) de mayor peso.\n",
    "\n",
    "plt.title('Top terms along the axis of Latent concept 5')\n",
    "fig = sns.barplot(x= top_10.values, y=top_10.index)"
   ]
  },
  {
   "cell_type": "code",
   "execution_count": 41,
   "id": "b31b5fe8",
   "metadata": {},
   "outputs": [
    {
     "data": {
      "image/png": "[encoded data removed]",
      "text/plain": [
       "<Figure size 640x480 with 1 Axes>"
      ]
     },
     "metadata": {},
     "output_type": "display_data"
    }
   ],
   "source": [
    "data = data.sort_values(ascending=True)       # ordenamos lo datos de la columna/tópico seleccionada de manera descendente.\n",
    "\n",
    "top_10 = data[:10]    # nos quedamos con los 10 pesos de los 10 terms (words) de mayor peso.\n",
    "\n",
    "plt.title('Bottom terms along the axis of Latent concept 5')\n",
    "fig = sns.barplot(x= top_10.values, y=top_10.index)"
   ]
  },
  {
   "cell_type": "markdown",
   "id": "0eb5a6bc",
   "metadata": {},
   "source": [
    "# Pregunta - 8:"
   ]
  },
  {
   "cell_type": "markdown",
   "id": "039e531b",
   "metadata": {},
   "source": [
    "Para cada uno de los 10 conceptos latentes obtenidos con la descomposición SVD del ejercicio 5, obtener el gráfico de barras que muestre los 10 términos/tokens más importantes de cada uno de ellos.  "
   ]
  },
  {
   "cell_type": "markdown",
   "id": "455c69ae",
   "metadata": {},
   "source": [
    "NOTA PARA EL PROFESOR: \n",
    "\n",
    "      La pregunta 8 la cancelé erróneamente en la ActiveClass de esa semana, porque me preguntaron y me enseñaron\n",
    "      las preguntas indicándome que era lo mismo y no recordé que eran diferentes en realidad y les dije que la cancelaran. \n",
    "      \n",
    "      En dado caso esta sí podría generar puntos extras, para aquellos equipos que sí la hiciceron."
   ]
  },
  {
   "cell_type": "markdown",
   "id": "47270528",
   "metadata": {},
   "source": [
    "# Pregunta - 9:"
   ]
  },
  {
   "cell_type": "markdown",
   "id": "ef6464ec",
   "metadata": {},
   "source": [
    "Con base a los resultados del ejercicio anterior, ¿cuántos tópicos o conceptos latentes identificas con claridad? \n",
    "\n",
    "¿Cómo los describirías, es decir, de qué temáticas estarían hablando?"
   ]
  },
  {
   "cell_type": "markdown",
   "id": "918b6378",
   "metadata": {},
   "source": [
    "<<<< Deben incluir sus comentarios>>>>"
   ]
  },
  {
   "cell_type": "markdown",
   "id": "74b5cd01",
   "metadata": {},
   "source": [
    "# Pregunta - 10:"
   ]
  },
  {
   "cell_type": "markdown",
   "id": "23d20c09",
   "metadata": {},
   "source": [
    "# LSI"
   ]
  },
  {
   "cell_type": "markdown",
   "id": "b234e06d",
   "metadata": {},
   "source": [
    "La librería de código abierto Gensim, incluye la implementación de la técnica LSI. \n",
    "\n",
    "Ver documentación: https://radimrehurek.com/gensim/models/lsimodel.html \n",
    "\n",
    "Investiga la documentación de este modelo LSI en Gensim y aplica dicha técnica a tu conjunto de datos. \n",
    "\n",
    "En particular, obtener los modelos de 2 a 10 temas/tópicos y para cada uno de ellos obtener su valor (score) de coherencia.  \n",
    "\n",
    "Con base a dichos valores, ¿qué cantidad de tópicos sería el adecuado? ¿Coincide con lo que obtuviste previamente, usando la técnica SVD de manera directa?\n"
   ]
  },
  {
   "cell_type": "markdown",
   "id": "b85efa0c",
   "metadata": {},
   "source": [
    "Además, aprovecharemos para evaluar la cantidad de tópicos generados mediante la métrica de Coherencia. Recuerda que LSI es una técnica no supervisada y no conocemos de antemano la cantidad de tópicos en nuestro corpus.\n",
    "\n",
    "https://radimrehurek.com/gensim/models/lsimodel.html \n",
    "\n",
    "https://radimrehurek.com/gensim/models/coherencemodel.html"
   ]
  },
  {
   "cell_type": "code",
   "execution_count": 42,
   "id": "da5ff972",
   "metadata": {},
   "outputs": [],
   "source": [
    "from gensim.models import LsiModel\n",
    "from gensim.models.coherencemodel import CoherenceModel\n",
    "\n",
    "import gensim\n",
    "import gensim.corpora as corpora"
   ]
  },
  {
   "cell_type": "code",
   "execution_count": 43,
   "id": "f5b802a0",
   "metadata": {},
   "outputs": [],
   "source": [
    "dictionary = corpora.Dictionary(df['Tokens'])    # generamos el diccionario"
   ]
  },
  {
   "cell_type": "code",
   "execution_count": 44,
   "id": "32c734a8",
   "metadata": {},
   "outputs": [],
   "source": [
    "# convert corpus into a bag of words:\n",
    "\n",
    "bow = [dictionary.doc2bow(text) for text in df['Tokens']]"
   ]
  },
  {
   "cell_type": "code",
   "execution_count": 55,
   "id": "72897520",
   "metadata": {},
   "outputs": [
    {
     "name": "stdout",
     "output_type": "stream",
     "text": [
      "[(13, 2), (20, 4), (27, 1), (37, 1), (53, 1), (64, 1), (65, 1), (92, 1), (93, 1), (106, 2), (107, 1), (119, 2), (120, 1), (127, 1), (129, 1), (138, 2), (140, 1), (153, 2), (157, 3), (159, 1), (174, 1), (177, 3), (178, 1), (189, 1), (190, 1), (193, 1), (195, 1), (206, 1), (208, 1), (217, 1), (224, 2), (225, 1), (282, 1), (289, 1), (295, 1), (297, 1), (299, 2), (304, 2), (318, 1), (327, 1), (333, 3), (334, 2), (346, 1), (355, 1), (378, 1), (387, 1), (389, 1), (487, 2), (489, 1), (490, 1), (492, 1), (493, 1), (494, 1), (500, 1), (515, 1), (519, 1), (528, 1), (556, 1), (562, 2), (580, 1), (584, 1), (586, 1), (610, 1), (611, 2), (612, 1), (613, 3), (614, 1), (615, 1), (616, 1), (617, 1), (618, 1), (619, 1), (620, 1), (621, 3), (622, 1), (623, 6), (624, 1), (625, 1), (626, 1), (627, 1), (628, 1), (629, 1), (630, 1), (631, 1), (632, 6), (633, 13), (634, 3), (635, 1), (636, 1), (637, 1), (638, 1), (639, 3), (640, 1), (641, 7), (642, 1), (643, 3), (644, 1), (645, 1), (646, 1), (647, 1), (648, 1), (649, 1), (650, 1), (651, 1), (652, 1), (653, 2), (654, 2), (655, 1), (656, 3), (657, 1), (658, 1), (659, 1), (660, 1), (661, 1), (662, 1), (663, 2), (664, 1), (665, 2), (666, 2), (667, 1), (668, 1), (669, 1), (670, 1), (671, 1), (672, 1), (673, 4), (674, 1), (675, 1), (676, 2), (677, 11), (678, 1), (679, 1), (680, 1), (681, 1), (682, 1), (683, 1), (684, 1), (685, 1), (686, 1), (687, 1), (688, 1), (689, 1), (690, 1), (691, 1), (692, 1), (693, 2), (694, 12), (695, 2), (696, 1), (697, 3), (698, 1), (699, 1), (700, 1), (701, 2), (702, 1), (703, 1), (704, 1), (705, 1), (706, 1), (707, 2), (708, 3), (709, 1), (710, 2), (711, 1), (712, 1), (713, 1), (714, 1), (715, 2), (716, 2), (717, 1), (718, 1), (719, 1), (720, 1), (721, 2), (722, 1), (723, 2), (724, 10), (725, 1), (726, 1), (727, 1), (728, 1), (729, 1), (730, 1), (731, 1), (732, 1), (733, 1), (734, 1), (735, 1), (736, 3), (737, 1), (738, 2), (739, 1), (740, 2), (741, 1), (742, 3)]\n"
     ]
    }
   ],
   "source": [
    "print(bow[2])   # ya tenemos la representación de cada documento en formato (word_id, frecuencia)"
   ]
  },
  {
   "cell_type": "code",
   "execution_count": 45,
   "id": "c42b7553",
   "metadata": {},
   "outputs": [
    {
     "name": "stdout",
     "output_type": "stream",
     "text": [
      "Coherence score with 2 clusters: 0.38459959790909415\n",
      "Coherence score with 3 clusters: 0.36490959814843743\n",
      "Coherence score with 4 clusters: 0.3777236090872181\n",
      "Coherence score with 5 clusters: 0.4182092825752467\n",
      "Coherence score with 6 clusters: 0.32086590189714304\n",
      "Coherence score with 7 clusters: 0.36140590096330777\n",
      "Coherence score with 8 clusters: 0.3831578574016312\n",
      "Coherence score with 9 clusters: 0.34300283569256856\n",
      "Coherence score with 10 clusters: 0.3600147885252509\n"
     ]
    }
   ],
   "source": [
    "# find the coherence score with a different number of topics:\n",
    "\n",
    "for i in range(2,11):\n",
    "    lsi = LsiModel(bow, num_topics=i, id2word=dictionary)\n",
    "    coherence_model = CoherenceModel(model=lsi, texts=df['Tokens'], dictionary=dictionary, coherence='c_v')\n",
    "    coherence_score = coherence_model.get_coherence()\n",
    "    print('Coherence score with {} clusters: {}'.format(i, coherence_score))"
   ]
  },
  {
   "cell_type": "markdown",
   "id": "ffdf292f",
   "metadata": {},
   "source": [
    "En este caso obtenemos 5 tópicos como la cantidad de tópicos más adecuada, pero obviamente puede varaiar en cada equipo.\n",
    "\n",
    "En este caso no coincide del todo con SVD, ya que en ese caso los valores singulares siguen estando bastante grandes todos."
   ]
  },
  {
   "cell_type": "code",
   "execution_count": 46,
   "id": "959ad5b3",
   "metadata": {},
   "outputs": [],
   "source": [
    "lsi = LsiModel(bow, num_topics=5, id2word=dictionary)"
   ]
  },
  {
   "cell_type": "code",
   "execution_count": 47,
   "id": "2e1d7afc",
   "metadata": {},
   "outputs": [
    {
     "name": "stdout",
     "output_type": "stream",
     "text": [
      "Words in 0: 0.229*\"cas\" + 0.174*\"part\" + 0.169*\"si\" + 0.168*\"hac\" + 0.167*\"pued\".\n",
      "Words in 1: 0.223*\"part\" + -0.213*\"coronavirus\" + -0.209*\"person\" + -0.204*\"cas\" + 0.200*\"polit\".\n",
      "Words in 2: -0.472*\"cas\" + 0.185*\"trabaj\" + 0.169*\"pued\" + -0.168*\"pp\" + 0.163*\"hac\".\n",
      "Words in 3: 0.335*\"gobiern\" + -0.264*\"cas\" + 0.147*\"part\" + -0.146*\"investig\" + -0.141*\"muj\".\n",
      "Words in 4: 0.289*\"trabaj\" + 0.183*\"empres\" + -0.171*\"non\" + 0.170*\"investig\" + -0.169*\"pais\".\n"
     ]
    }
   ],
   "source": [
    "# find the 5 words with the srongest association to the derived topics\n",
    "\n",
    "for topic_num, words in lsi.print_topics(num_words=5):\n",
    "    print('Words in {}: {}.'.format(topic_num, words))"
   ]
  },
  {
   "cell_type": "markdown",
   "id": "d44ad710",
   "metadata": {},
   "source": [
    "Tal vez en este caso truncamos demasiado con SnowBall y no se entienden bien algunas de las palabras..."
   ]
  },
  {
   "cell_type": "markdown",
   "id": "ee15c577",
   "metadata": {},
   "source": [
    "# Parte 2: Asignación de Dirichlet Latente (LDA):"
   ]
  },
  {
   "cell_type": "markdown",
   "id": "8b968ae6",
   "metadata": {},
   "source": [
    "# Pregunta - 11:"
   ]
  },
  {
   "cell_type": "markdown",
   "id": "922fb010",
   "metadata": {},
   "source": [
    "Utiliza la librería Gensim para implementar ahora la técnica de LDA. \n",
    "\n",
    "Revisa la documentación correspondiente y aplica de preferencia el modelo paralelizable:\n",
    "\n",
    "https://radimrehurek.com/gensim/models/ldamodel.html \n",
    "\n",
    "https://radimrehurek.com/gensim/models/ldamulticore.html \n"
   ]
  },
  {
   "cell_type": "markdown",
   "id": "da25be43",
   "metadata": {},
   "source": [
    "De lo anterior, tenemos que 5 o 10 son las cantidades de tópicos adecuadas.\n",
    "\n",
    "Calculemos por el momento cada una por separado y veamos.\n",
    "\n",
    "Se tarda cada uno no más de 3 mins aprox:"
   ]
  },
  {
   "cell_type": "code",
   "execution_count": 68,
   "id": "e71177be",
   "metadata": {},
   "outputs": [],
   "source": [
    "# Con 5 tópicos...\n",
    "\n",
    "lda_model5 = gensim.models.LdaMulticore(corpus=bow,\n",
    "                    id2word=dictionary,\n",
    "                    num_topics=5,      # total de tópicos que deseas buscar...\n",
    "                    chunksize=5,    # número de documentos a analizar en cada chunk de entrenamiento\n",
    "                    passes=10,        # número de pasadas al corpus durante el entrenamiento.\n",
    "                    alpha=0.2,        # alfa: similaridad document-topics\n",
    "                    eta=0.2,         # beta: similaridad topic-words      \n",
    "                    )"
   ]
  },
  {
   "cell_type": "code",
   "execution_count": 69,
   "id": "0f2711a3",
   "metadata": {},
   "outputs": [
    {
     "data": {
      "text/plain": [
       "[(0,\n",
       "  '0.013*\"gobiern\" + 0.013*\"part\" + 0.011*\"polit\" + 0.009*\"pp\" + 0.008*\"pod\" + 0.008*\"president\"'),\n",
       " (1,\n",
       "  '0.007*\"hac\" + 0.005*\"muj\" + 0.005*\"años\" + 0.004*\"sol\" + 0.004*\"ser\" + 0.004*\"pas\"'),\n",
       " (2,\n",
       "  '0.010*\"cas\" + 0.008*\"investig\" + 0.006*\"inform\" + 0.005*\"polic\" + 0.005*\"public\" + 0.005*\"dos\"'),\n",
       " (3,\n",
       "  '0.011*\"trabaj\" + 0.010*\"empres\" + 0.009*\"eur\" + 0.008*\"econom\" + 0.008*\"millon\" + 0.006*\"contrat\"'),\n",
       " (4,\n",
       "  '0.012*\"coronavirus\" + 0.012*\"cas\" + 0.009*\"person\" + 0.007*\"pued\" + 0.007*\"comun\" + 0.007*\"inform\"')]"
      ]
     },
     "execution_count": 69,
     "metadata": {},
     "output_type": "execute_result"
    }
   ],
   "source": [
    "lda_model5.print_topics(num_topics=5, num_words=6)"
   ]
  },
  {
   "cell_type": "code",
   "execution_count": 73,
   "id": "2ae76c85",
   "metadata": {},
   "outputs": [],
   "source": [
    "# Con 10 tópicos... habría que también hacer un fine-tuning de búsqueda de mejores hiperparámetros...\n",
    "\n",
    "lda_model10 = gensim.models.LdaMulticore(corpus=bow,\n",
    "                    id2word=dictionary,\n",
    "                    num_topics=10,      # total de tópicos que deseas buscar...\n",
    "                    chunksize=5,    # número de documentos a analizar en cada chunk de entrenamiento\n",
    "                    passes=10,        # número de pasadas al corpus durante el entrenamiento.\n",
    "                    alpha=0.2,        # alfa: similaridad document-topics  ... valores más pequeños, menos tópicos por docs\n",
    "                    eta=0.2,         # beta: similaridad topic-words ... valores más pequeños, menos tokens por tópico    \n",
    "                    )"
   ]
  },
  {
   "cell_type": "code",
   "execution_count": 74,
   "id": "9e6374c4",
   "metadata": {},
   "outputs": [
    {
     "data": {
      "text/plain": [
       "[(0,\n",
       "  '0.026*\"cas\" + 0.016*\"coronavirus\" + 0.013*\"person\" + 0.011*\"cov\" + 0.010*\"dat\" + 0.009*\"nuev\"'),\n",
       " (1,\n",
       "  '0.011*\"hac\" + 0.007*\"si\" + 0.007*\"pued\" + 0.007*\"muj\" + 0.006*\"ser\" + 0.006*\"sol\"'),\n",
       " (2,\n",
       "  '0.011*\"europ\" + 0.008*\"econom\" + 0.007*\"pais\" + 0.006*\"millon\" + 0.006*\"canari\" + 0.005*\"españ\"'),\n",
       " (3,\n",
       "  '0.011*\"unid\" + 0.009*\"pais\" + 0.009*\"trump\" + 0.008*\"the\" + 0.007*\"israel\" + 0.006*\"president\"'),\n",
       " (4,\n",
       "  '0.016*\"trabaj\" + 0.011*\"coronavirus\" + 0.010*\"pued\" + 0.008*\"med\" + 0.008*\"si\" + 0.007*\"inform\"'),\n",
       " (5,\n",
       "  '0.015*\"part\" + 0.015*\"gobiern\" + 0.013*\"polit\" + 0.011*\"pp\" + 0.009*\"pod\" + 0.008*\"president\"'),\n",
       " (6,\n",
       "  '0.022*\"madr\" + 0.013*\"comun\" + 0.010*\"gobiern\" + 0.010*\"centr\" + 0.009*\"educ\" + 0.009*\"consej\"'),\n",
       " (7,\n",
       "  '0.017*\"eur\" + 0.013*\"euskadi\" + 0.012*\"vasc\" + 0.010*\"millon\" + 0.010*\"empres\" + 0.010*\"contrat\"'),\n",
       " (8,\n",
       "  '0.007*\"histori\" + 0.007*\"guerr\" + 0.005*\"pelicul\" + 0.005*\"cin\" + 0.004*\"libr\" + 0.004*\"prim\"'),\n",
       " (9,\n",
       "  '0.012*\"cas\" + 0.011*\"investig\" + 0.008*\"inform\" + 0.007*\"polic\" + 0.006*\"tribunal\" + 0.006*\"fiscal\"')]"
      ]
     },
     "execution_count": 74,
     "metadata": {},
     "output_type": "execute_result"
    }
   ],
   "source": [
    "lda_model10.print_topics(num_topics=10, num_words=6)"
   ]
  },
  {
   "cell_type": "markdown",
   "id": "2618c473",
   "metadata": {},
   "source": [
    "# Pregunta - 12:"
   ]
  },
  {
   "cell_type": "markdown",
   "id": "bf8a4410",
   "metadata": {},
   "source": [
    "Con base a esta técnica ¿qué cantidad de tópicos consideras que es la más adecuada? \n",
    "\n",
    "Compara tus resultados con el método LSI. \n",
    "\n",
    "¿Qué encuentras de coincidencias y diferencias? \n",
    "\n",
    "¿Cuál consideras puede ser el mejor resultado, es decir, cuál consideras puede ser la mejor cantidad de tópicos a considerar?"
   ]
  },
  {
   "cell_type": "markdown",
   "id": "dbf23ca8",
   "metadata": {},
   "source": [
    "Se observan varios tokens en común entre cada tema, habría que hacer tal vez un ajuste del parámetro beta...\n",
    "\n",
    "Igualmente ver lo que obtengan y analicen los estudiantes..."
   ]
  },
  {
   "cell_type": "markdown",
   "id": "2b54f420",
   "metadata": {},
   "source": [
    "# Pregunta - 13:"
   ]
  },
  {
   "cell_type": "markdown",
   "id": "193b8461",
   "metadata": {},
   "source": [
    "La librería pyLDAvis nos ayuda a visualizar de manera interactiva los temas y tokens de los documentos analizados. \n",
    "\n",
    "Revisa la documentación y utilízala para visualizar tu mejor resultado.\n",
    "\n",
    "https://pypi.org/project/pyLDAvis/  \n"
   ]
  },
  {
   "cell_type": "code",
   "execution_count": 78,
   "id": "2fa4834e",
   "metadata": {},
   "outputs": [
    {
     "name": "stdout",
     "output_type": "stream",
     "text": [
      "Requirement already satisfied: pyLDAvis in c:\\users\\l00574111\\appdata\\roaming\\python\\python39\\site-packages (3.4.1)\n",
      "Requirement already satisfied: pandas>=2.0.0 in c:\\users\\l00574111\\anaconda3\\lib\\site-packages (from pyLDAvis) (2.0.1)\n",
      "Requirement already satisfied: jinja2 in c:\\users\\l00574111\\anaconda3\\lib\\site-packages (from pyLDAvis) (2.11.3)\n",
      "Requirement already satisfied: numexpr in c:\\users\\l00574111\\anaconda3\\lib\\site-packages (from pyLDAvis) (2.8.3)\n",
      "Requirement already satisfied: scikit-learn>=1.0.0 in c:\\users\\l00574111\\anaconda3\\lib\\site-packages (from pyLDAvis) (1.0.2)\n",
      "Requirement already satisfied: joblib>=1.2.0 in c:\\users\\l00574111\\anaconda3\\lib\\site-packages (from pyLDAvis) (1.2.0)\n",
      "Requirement already satisfied: setuptools in c:\\users\\l00574111\\anaconda3\\lib\\site-packages (from pyLDAvis) (63.4.1)\n",
      "Requirement already satisfied: gensim in c:\\users\\l00574111\\appdata\\roaming\\python\\python39\\site-packages (from pyLDAvis) (4.3.1)\n",
      "Requirement already satisfied: funcy in c:\\users\\l00574111\\anaconda3\\lib\\site-packages (from pyLDAvis) (2.0)\n",
      "Requirement already satisfied: scipy in c:\\users\\l00574111\\anaconda3\\lib\\site-packages (from pyLDAvis) (1.10.1)\n",
      "Requirement already satisfied: numpy>=1.24.2 in c:\\users\\l00574111\\appdata\\roaming\\python\\python39\\site-packages (from pyLDAvis) (1.24.3)\n",
      "Requirement already satisfied: pytz>=2020.1 in c:\\users\\l00574111\\anaconda3\\lib\\site-packages (from pandas>=2.0.0->pyLDAvis) (2022.1)\n",
      "Requirement already satisfied: python-dateutil>=2.8.2 in c:\\users\\l00574111\\anaconda3\\lib\\site-packages (from pandas>=2.0.0->pyLDAvis) (2.8.2)\n",
      "Requirement already satisfied: tzdata>=2022.1 in c:\\users\\l00574111\\anaconda3\\lib\\site-packages (from pandas>=2.0.0->pyLDAvis) (2023.3)\n",
      "Requirement already satisfied: threadpoolctl>=2.0.0 in c:\\users\\l00574111\\anaconda3\\lib\\site-packages (from scikit-learn>=1.0.0->pyLDAvis) (2.2.0)\n",
      "Requirement already satisfied: smart-open>=1.8.1 in c:\\users\\l00574111\\anaconda3\\lib\\site-packages (from gensim->pyLDAvis) (5.2.1)\n",
      "Requirement already satisfied: MarkupSafe>=0.23 in c:\\users\\l00574111\\anaconda3\\lib\\site-packages (from jinja2->pyLDAvis) (2.0.1)\n",
      "Requirement already satisfied: packaging in c:\\users\\l00574111\\anaconda3\\lib\\site-packages (from numexpr->pyLDAvis) (21.3)\n",
      "Requirement already satisfied: six>=1.5 in c:\\users\\l00574111\\anaconda3\\lib\\site-packages (from python-dateutil>=2.8.2->pandas>=2.0.0->pyLDAvis) (1.16.0)\n",
      "Requirement already satisfied: pyparsing!=3.0.5,>=2.0.2 in c:\\users\\l00574111\\anaconda3\\lib\\site-packages (from packaging->numexpr->pyLDAvis) (3.0.9)\n"
     ]
    }
   ],
   "source": [
    "!python -m pip install -U pyLDAvis"
   ]
  },
  {
   "cell_type": "code",
   "execution_count": 79,
   "id": "3831709a",
   "metadata": {},
   "outputs": [],
   "source": [
    "# Plotting tools\n",
    "import pyLDAvis\n",
    "import pyLDAvis.gensim \n",
    "\n",
    "pyLDAvis.enable_notebook()\n",
    "\n",
    "import matplotlib.pyplot as plt"
   ]
  },
  {
   "cell_type": "markdown",
   "id": "0e283316",
   "metadata": {},
   "source": [
    "Por simplicidad usaré el caso de 5 tópicos, pero cada equipo debe seleccionar su mejor caso:"
   ]
  },
  {
   "cell_type": "code",
   "execution_count": 80,
   "id": "8a291c39",
   "metadata": {},
   "outputs": [
    {
     "data": {
      "text/html": [
       "\n",
       "<link rel=\"stylesheet\" type=\"text/css\" href=\"https://cdn.jsdelivr.net/gh/bmabey/pyLDAvis@3.4.0/pyLDAvis/js/ldavis.v1.0.0.css\">\n",
       "\n",
       "\n",
       "<div id=\"ldavis_el1749624191554752486900496961\" style=\"background-color:white;\"></div>\n",
       "<script type=\"text/javascript\">\n",
       "\n",
       "var ldavis_el1749624191554752486900496961_data = {\"mdsDat\": {\"x\": [0.0629730884403059, -0.12246885542385218, 0.05308159253219086, 0.11978744676189182, -0.11337327231053643], \"y\": [0.15284261744838376, 0.026043455081910884, -0.014309125159924567, -0.10436807514874813, -0.06020887222162195], \"topics\": [1, 2, 3, 4, 5], \"cluster\": [1, 1, 1, 1, 1], \"Freq\": [27.57029659949221, 21.69912205091398, 18.256141327677618, 16.6896968360379, 15.784743185878286]}, \"tinfo\": {\"Term\": [\"coronavirus\", \"empres\", \"eur\", \"gobiern\", \"pp\", \"polit\", \"investig\", \"econom\", \"millon\", \"cov\", \"vot\", \"sanitari\", \"president\", \"cas\", \"contrat\", \"trabaj\", \"inform\", \"polic\", \"salud\", \"pandemi\", \"part\", \"eleccion\", \"juez\", \"muj\", \"contagi\", \"ciudad\", \"fiscal\", \"pso\", \"sanchez\", \"tribunal\", \"pelicul\", \"novel\", \"artist\", \"escritor\", \"arte\", \"of\", \"cancion\", \"ficcion\", \"editorial\", \"film\", \"literatur\", \"planet\", \"personaj\", \"trans\", \"videojueg\", \"musical\", \"femenin\", \"prostitu\", \"masculin\", \"modern\", \"literari\", \"espect\", \"narrat\", \"sue\\u00f1\", \"pentecostal\", \"comic\", \"pensamient\", \"refugi\", \"estet\", \"bolson\", \"adolescent\", \"music\", \"cin\", \"escen\", \"muj\", \"the\", \"histori\", \"trump\", \"hombr\", \"festival\", \"cultur\", \"cienci\", \"lgtbi\", \"premi\", \"sexual\", \"vid\", \"libr\", \"femin\", \"sigl\", \"viv\", \"jov\", \"hum\", \"gent\", \"escrib\", \"gen\", \"obra\", \"hac\", \"pens\", \"cre\", \"a\\u00f1os\", \"ser\", \"mund\", \"parec\", \"com\", \"habl\", \"sol\", \"form\", \"much\", \"pas\", \"dec\", \"lleg\", \"prim\", \"si\", \"pued\", \"mism\", \"tiemp\", \"person\", \"vez\", \"pod\", \"part\", \"llev\", \"nuev\", \"sab\", \"public\", \"trabaj\", \"dos\", \"contagi\", \"coronavirus\", \"virus\", \"mascarill\", \"epidemi\", \"pacient\", \"pcr\", \"brot\", \"epidemiolog\", \"curv\", \"perdert\", \"uci\", \"oms\", \"apuntat\", \"apuntart\", \"rebrot\", \"higi\", \"hospitaliz\", \"hospitalari\", \"diagnost\", \"guiart\", \"sintom\", \"sars\", \"asintomat\", \"respiratori\", \"illa\", \"grip\", \"desinfect\", \"anticuerp\", \"asistencial\", \"cov\", \"desescal\", \"transmision\", \"sanitari\", \"vacun\", \"haz\", \"boletin\", \"resident\", \"salud\", \"confin\", \"test\", \"hospital\", \"posit\", \"noved\", \"evolu\", \"aul\", \"pandemi\", \"enferm\", \"infect\", \"detect\", \"map\", \"grafic\", \"centr\", \"san\", \"educ\", \"alarm\", \"dat\", \"person\", \"med\", \"dias\", \"cas\", \"comun\", \"cad\", \"inform\", \"pued\", \"sem\", \"prueb\", \"madr\", \"si\", \"situacion\", \"ultim\", \"soci\", \"nuev\", \"public\", \"trabaj\", \"mayor\", \"hac\", \"deb\", \"pas\", \"vot\", \"vox\", \"coalicion\", \"bildu\", \"eh\", \"esca\\u00f1\", \"feij\", \"parlamentari\", \"erc\", \"iu\", \"mocion\", \"candidatur\", \"investidur\", \"votacion\", \"puigdemont\", \"abascal\", \"arrim\", \"votant\", \"comici\", \"abstencion\", \"junqu\", \"referendum\", \"elector\", \"errejon\", \"jxcat\", \"cs\", \"non\", \"urnas\", \"10n\", \"bng\", \"electoral\", \"eleccion\", \"pso\", \"urkullu\", \"parlament\", \"pse\", \"candidat\", \"lehendakari\", \"sanchez\", \"riv\", \"pp\", \"congr\", \"constitucional\", \"ciudad\", \"diput\", \"pact\", \"president\", \"portavoz\", \"lid\", \"gobiern\", \"polit\", \"izquierd\", \"popul\", \"part\", \"pod\", \"acuerd\", \"pedr\", \"derech\", \"iglesi\", \"pnv\", \"social\", \"pabl\", \"hac\", \"apoy\", \"si\", \"general\", \"madr\", \"unid\", \"cas\", \"pas\", \"comun\", \"pued\", \"prim\", \"ser\", \"juez\", \"villarej\", \"mast\", \"magistr\", \"israel\", \"querell\", \"anticorrupcion\", \"moss\", \"lars\", \"detencion\", \"corinn\", \"brig\", \"urjc\", \"ope\", \"diligent\", \"maur\", \"sumari\", \"instructor\", \"monarc\", \"cni\", \"espionaj\", \"arabi\", \"comis\", \"pujol\", \"borbon\", \"udef\", \"kitch\", \"arrest\", \"cdr\", \"casta\\u00f1\", \"delit\", \"imput\", \"penal\", \"presunt\", \"prision\", \"policial\", \"polic\", \"juzg\", \"cifuent\", \"comisari\", \"suiz\", \"palestin\", \"audienci\", \"cond\", \"g\\u00fcrtel\", \"judicial\", \"investig\", \"tribunal\", \"emerit\", \"carcel\", \"civil\", \"testig\", \"suprem\", \"barc\", \"fiscal\", \"juan\", \"rey\", \"guardi\", \"acus\", \"carl\", \"justici\", \"decl\", \"oper\", \"denunci\", \"cas\", \"inform\", \"dos\", \"document\", \"polit\", \"public\", \"segun\", \"nacional\", \"part\", \"a\\u00f1os\", \"proc\", \"despu\", \"pas\", \"mism\", \"pod\", \"prim\", \"montai\", \"desempl\", \"banki\", \"pib\", \"cotiz\", \"caixabank\", \"gogor\", \"erte\", \"mercantil\", \"elorz\", \"residu\", \"hondarribi\", \"consulting\", \"estali\", \"tell\", \"sostenibil\", \"katai\", \"karp\", \"errexal\", \"iva\", \"auditor\", \"inversor\", \"fotovolt\", \"urbanist\", \"denok\", \"billon\", \"txitx\", \"sto\", \"cabild\", \"escriv\", \"subsidi\", \"inversion\", \"empres\", \"emision\", \"viviend\", \"prestacion\", \"alquil\", \"conveni\", \"eur\", \"contrat\", \"adjud\", \"subvencion\", \"salari\", \"factur\", \"gast\", \"carp\", \"emple\", \"rent\", \"millon\", \"turism\", \"econom\", \"laboral\", \"entid\", \"merc\", \"preci\", \"banc\", \"sector\", \"pag\", \"trabaj\", \"europ\", \"ayunt\", \"impuest\", \"a\\u00f1o\", \"cost\", \"ayud\", \"proyect\", \"servici\", \"public\", \"social\", \"mes\", \"administr\", \"segun\", \"activ\", \"espa\\u00f1\", \"gobiern\", \"plan\", \"nuev\", \"medi\", \"part\", \"med\", \"deb\", \"mayor\", \"pued\", \"inform\", \"soci\"], \"Freq\": [6796.0, 4290.0, 4281.0, 10660.0, 4991.0, 8366.0, 4546.0, 4331.0, 4003.0, 3101.0, 2521.0, 3079.0, 5598.0, 14916.0, 2767.0, 10077.0, 8058.0, 2463.0, 3013.0, 3466.0, 13373.0, 2070.0, 1774.0, 3905.0, 2038.0, 3412.0, 2802.0, 1959.0, 2431.0, 2136.0, 1096.791413081141, 626.9343083875193, 624.8313971578184, 522.9593975408093, 469.26299070599913, 412.48806840521746, 370.0047617670106, 327.7087468234052, 324.1585383515977, 304.6955460942202, 304.84131391526967, 305.45821640321793, 726.4466022221544, 279.42351281731584, 277.96715807689463, 259.73979056676455, 255.69747869908338, 254.6751807842868, 239.06367255338685, 232.46613287921167, 225.50453553876105, 223.70145231833754, 212.3669030632828, 202.77464012215626, 222.5818586739286, 188.68584624832494, 177.48048007996275, 428.32086496822836, 164.56275042886242, 167.3806663656999, 237.24454225832378, 645.0427290248055, 1014.6216229372704, 359.6845075686526, 3552.7743494121946, 1203.279634955615, 2191.9496640917464, 801.204298220132, 1557.593583683423, 462.4350018052989, 1073.6079396553293, 540.3200575866431, 400.61604554583636, 655.2518944538803, 1178.0620707439175, 2531.710735892809, 2016.3456991420594, 639.2520511525465, 759.612348676338, 1882.2985290623424, 1130.290260409415, 1307.6484022244708, 1370.7731271450693, 766.0805605092813, 1840.925531098811, 762.7275490784056, 4937.926069018723, 976.5029551672694, 2195.282327170244, 3456.913757660618, 3142.3573462380373, 1805.9344712628154, 1449.7797410967125, 2141.288056852047, 1602.6718015511049, 3142.545940723492, 2079.2737233230037, 1344.0298500894182, 3021.330640173866, 2347.4593829175, 2171.163739420719, 2471.938526101809, 2899.145897795498, 2859.5936637854015, 2218.684090441282, 1606.3654410921135, 2273.023621014869, 1620.178663681606, 1938.6326944702528, 2170.8418053253727, 1590.06227499334, 1796.2474974945635, 1642.218907114667, 1800.223697896236, 1802.0753979626359, 1715.4375728510777, 2037.2284647207678, 6793.369278001617, 1631.3707677624955, 1362.1476244878227, 1189.87723362807, 932.5352200258903, 831.7812222386569, 818.4088643125851, 488.485452704668, 463.5578986716118, 409.21113767057346, 400.2779278515872, 394.639631974625, 379.6251066215734, 361.64212170864977, 342.81075903502966, 320.88568039885314, 366.1216331055816, 302.91695284153644, 296.1189936064585, 287.72287595074937, 926.9976370673025, 247.45243794663813, 228.926078519679, 215.6614645366646, 196.4198773789415, 193.40438156598236, 180.57643978723232, 179.29365211956534, 164.68308517537855, 3064.498930099088, 608.4067399003711, 532.6490113920531, 2991.8387585760697, 805.4860362516561, 383.51804827412633, 1351.065687954286, 1843.4604554847267, 2776.4456610903226, 1043.4048441673244, 438.2187692862844, 1428.8367634009685, 1784.7027030263746, 644.0960258845304, 1082.8711575498894, 621.9195881159402, 2997.17348345214, 1292.22864116201, 498.15112603020333, 1039.2698204288145, 937.5759439068864, 946.689974754176, 3574.0672358258334, 2536.304398354054, 1864.5998822146696, 1062.6008435932495, 2725.0246526844157, 4833.911237706728, 3039.0539121799943, 2810.476601780523, 6682.109822602764, 4049.804334045037, 2912.9386828511388, 3789.1106049356868, 4093.7633419958142, 2136.997923746154, 1470.790627275511, 2983.2301802809843, 3612.855836551463, 2041.602803706818, 2684.620218323327, 2797.904088014212, 2792.190989846873, 2746.1781414637244, 2658.903073708173, 2159.265178916898, 2407.355926486311, 2140.949099209622, 2007.2010415666746, 2520.1731971840854, 1468.4460291477544, 1044.6429070849574, 755.1346202093017, 690.1126726045088, 607.9786800740238, 561.6782640816102, 994.5284704717928, 491.14270858746323, 424.6738661363587, 384.40016578490315, 382.74406779413675, 374.78856981768973, 373.235799941078, 365.38869652488125, 297.8921049436424, 289.96829279493903, 286.0866282722633, 249.22149592293704, 218.12165059603703, 217.60878932018898, 215.68022607426093, 205.58948123738142, 197.17462091723615, 179.07664558134448, 174.97417986058443, 172.38029639062412, 166.84250649098686, 139.12245996825172, 134.49515151128247, 1400.6739598298918, 2010.9253654638064, 1902.8587822862037, 670.9669836022468, 1319.1785585970104, 396.50092041197155, 934.9996458824108, 357.05641927609395, 2137.5378799707355, 522.015221108745, 4125.980931964707, 1427.835478596431, 590.3008911297237, 2641.827057659394, 1593.0012926779277, 990.0610152356878, 3785.210343493995, 1258.9411983677105, 1636.608112063981, 6225.62661511086, 4984.14422567134, 907.6906798413928, 1448.2892418219858, 6010.740068357118, 3931.598100856403, 1680.6447851685002, 1007.9768449878948, 2152.733055555812, 1123.0534177557292, 1086.6548640125131, 2111.809535566757, 1121.4084933325682, 2331.884561301493, 1516.0250518175212, 2165.87032289545, 1496.3619828172177, 1703.8167925760154, 1402.6684416474525, 2012.7676895813293, 1707.7812181803174, 1625.1118255354077, 1605.353890755239, 1486.497913517274, 1436.190349456185, 1773.8456080206586, 982.4510316874071, 770.9664102114992, 575.8414465020121, 606.4762348498922, 361.88208116200803, 358.35122859933847, 358.63611731946423, 261.0635708487183, 256.2116998812051, 246.33555758351193, 245.46599478999684, 243.53974746166955, 235.55204759139934, 211.80929296923682, 211.41276712783142, 199.18422113045838, 194.65435528412434, 186.23918463369532, 181.68433250186294, 182.141208484745, 178.3787195358725, 177.5786451545825, 173.1226115286238, 166.3134231122388, 161.57286379334846, 158.47716817280968, 167.36224623057157, 143.30641194893346, 143.04032553382697, 1374.9430150572298, 978.8956685300453, 625.2938120476888, 629.5770322110701, 861.2241840480714, 859.4472034874204, 2293.400113693379, 978.278472227335, 625.6071170343882, 675.4958663037482, 458.61676086873877, 292.4010546626122, 807.5458815266087, 1348.6670566745395, 310.73828429170027, 1292.7429427484965, 3605.3433394113426, 1795.8637831799135, 350.01221855059873, 471.87716785175405, 1299.116097950213, 415.2526117319366, 747.1951892500466, 686.6102568060271, 2051.0962359822647, 1388.9111998869764, 1082.9309502922004, 994.1820676925155, 1238.0256814338377, 1206.509513131365, 994.9856346457765, 1668.2715916826241, 1275.3546912411805, 1280.7129726263038, 4092.794023381574, 2699.057015375986, 2074.719341848519, 1057.625000572183, 2007.2327366808693, 2112.042543220756, 1684.3572515447424, 1276.271622824438, 1877.2281418514383, 1487.1289333089167, 1168.0627801478822, 1241.493317192015, 1348.024523577316, 1205.6112085986194, 1155.6024851006944, 1136.8399378182537, 532.5246083962307, 475.29027297665044, 331.28418040047444, 326.212956536519, 304.4237687254175, 234.60238322688843, 217.42758362342138, 898.7762870577882, 192.43918468538055, 175.72265330741538, 167.7379625907472, 146.57903418276058, 135.8369082599523, 132.72050199955288, 137.97305833933402, 134.14307871444692, 126.16036518003669, 124.84343156267418, 124.90333900114886, 123.4097731556038, 123.4516610048772, 117.71205482241395, 111.84873859555901, 113.68253370186434, 92.14580957021624, 87.93748960859062, 84.25956950663823, 82.20441286334453, 82.85482295030997, 87.76575297839408, 251.55474390662775, 731.374066589623, 3983.2761772292247, 306.4288209656233, 892.4900314189508, 517.13081194884, 603.178873041364, 300.9690748682716, 3800.4373489900477, 2463.549013769384, 576.3212554681805, 315.3320371549679, 390.58709835963896, 392.8019213498239, 878.8647593845234, 239.42412694389947, 1740.296596245891, 553.7535787816909, 3172.3370762585337, 537.5092387809364, 3232.818300128124, 1178.2229398073914, 738.3131475560283, 888.7084276426027, 704.7482173989654, 726.3015403900486, 1192.0698456853459, 1588.8305121345331, 4289.598774965995, 1907.5217937851878, 1064.7233013840955, 729.1500562136167, 1793.139976892401, 937.1573964069446, 1225.0469725804737, 1061.8547532708242, 1271.2072404067883, 2228.7234102173966, 1697.400597130393, 1624.7304590200013, 971.9093936413248, 1608.2350287119007, 1215.037836662291, 1483.7430146568956, 1646.3115335991843, 1003.2704877850614, 1397.2238869315593, 1220.671787907808, 1427.3082185920728, 1141.3864478600456, 1165.762003174022, 1144.6796994580925, 1221.7649921052387, 1121.8909098623235, 1105.7934733193938], \"Total\": [6796.0, 4290.0, 4281.0, 10660.0, 4991.0, 8366.0, 4546.0, 4331.0, 4003.0, 3101.0, 2521.0, 3079.0, 5598.0, 14916.0, 2767.0, 10077.0, 8058.0, 2463.0, 3013.0, 3466.0, 13373.0, 2070.0, 1774.0, 3905.0, 2038.0, 3412.0, 2802.0, 1959.0, 2431.0, 2136.0, 1097.5911390448805, 627.7324737550748, 625.6343665772175, 523.7628323837667, 470.07003981329154, 413.3011595588368, 370.80470697552425, 328.50785980250475, 324.9684541674334, 305.49386901641964, 305.64169113860294, 306.26946799145776, 728.4423679349761, 280.2273293917122, 278.7686817223861, 260.54375153154734, 256.5020619070262, 255.48728598497854, 239.87398528337326, 233.2843236956709, 226.30324828406222, 224.50425209957427, 213.16985903423637, 203.59057686475296, 223.49065010140916, 189.48341803176032, 178.28786511471176, 430.35037906744157, 165.36521363063275, 168.19727933296733, 238.79900408963957, 656.225041949301, 1048.3486270323217, 366.0372535188297, 3905.380004888434, 1290.450390915324, 2416.2406387909036, 856.2618671905896, 1796.0031999987268, 489.0796308336682, 1252.2333508431398, 589.0794107557155, 424.0237665847028, 737.1324158890201, 1434.6806990698003, 3484.05287108544, 2692.0647394828534, 729.0908228105031, 893.2287888218409, 2639.6841374935734, 1446.4422773296433, 1800.7073686319281, 1928.8689125072688, 940.8496227831758, 2944.659797803588, 939.9122098603873, 11566.787204169894, 1307.4892908014472, 3992.7220982598774, 7471.086860727551, 6901.320074145714, 3161.5778802600444, 2333.8745663892482, 4453.125124150611, 2862.305714480506, 8154.496447271697, 4454.145244220805, 2214.135506582214, 9125.122091329056, 6005.220299257574, 5742.92454582223, 7422.795708174739, 10566.13534832052, 10281.73307264032, 6361.931390495978, 3321.1814178148006, 8778.347601991238, 3714.8118865056967, 8178.317266002542, 13373.207890422213, 4036.839948600852, 7689.740682830616, 4991.096187182958, 9832.956175472204, 10077.910223276376, 7400.757191233598, 2038.0386603813802, 6796.575861426943, 1632.1754876155694, 1362.951801088879, 1190.6870993604625, 933.3415243202626, 832.58024152123, 819.2118326166966, 489.28835789173763, 464.37852084394154, 410.01851567373836, 401.080721610556, 395.44269814803033, 380.4302212420149, 362.44634214913094, 343.62235576537773, 321.69763507002153, 367.066547101472, 303.7334359002543, 296.9414347464346, 288.5254249574662, 929.807450122401, 248.2549031686173, 229.7251385501712, 216.46196260147403, 197.22274625353856, 194.2092834550995, 181.37665058888186, 180.0955081640809, 165.49463029936166, 3101.603290289355, 611.8098418977315, 536.7382837010679, 3079.6172660851257, 821.7763412426287, 387.82628945751736, 1403.128262234842, 1932.4695840485572, 3013.4075458362386, 1096.555371977746, 445.36241983355177, 1528.6534771919148, 1940.8463940304027, 667.4698627519491, 1159.9914760945796, 644.6979144420088, 3466.987407047595, 1430.1340815031629, 510.3108105668084, 1161.8260853588308, 1037.5959053190513, 1057.2200922854884, 4964.888664197124, 3404.4851100741835, 2440.6327537565976, 1247.1133178124742, 4002.255683144784, 8778.347601991238, 4887.583439578362, 4559.47276797743, 14916.419360426036, 7575.060366429925, 5376.3700416982, 8058.197007100046, 10281.73307264032, 3800.367627773699, 2042.5532316048575, 7148.7372468641815, 10566.13534832052, 3728.4760112272256, 6459.90597746122, 7511.156488516688, 7689.740682830616, 9832.956175472204, 10077.910223276376, 5873.585133979303, 11566.787204169894, 6007.244433344122, 9125.122091329056, 2521.072142817198, 1469.253697838736, 1045.4525644891926, 755.9378606685749, 690.9241578016748, 608.7831578176923, 562.482174116304, 996.0950454173287, 491.94378206195245, 425.47801977808894, 385.20456002564043, 383.5538967339937, 375.5888284210106, 374.0423558612665, 366.1936379701764, 298.6997331194338, 290.7727071963927, 286.89000337685707, 250.02702184642249, 218.92452658387455, 218.41231187276728, 216.48849051108496, 206.39103824687098, 197.97972629489325, 179.87750937294413, 175.77907222317663, 173.19828012464575, 167.64363725378868, 139.92435936603235, 135.29499010486805, 1416.8701265123868, 2070.170453694948, 1959.3229300367243, 684.4291271199522, 1380.8495035667845, 407.5947953859826, 993.5367451045807, 368.0071412003991, 2431.3943464377535, 552.8122537695423, 4991.3951833088, 1626.9248726377205, 641.6238030802605, 3412.7680122728784, 1937.216643368818, 1183.350921891006, 5598.468758643753, 1566.9191831455835, 2143.455604615249, 10660.074724357919, 8366.94283154294, 1081.7015962658147, 1993.5955804736836, 13373.207890422213, 8178.317266002542, 2885.1224427442203, 1386.7186358166232, 4565.140201888304, 1667.002718605417, 1585.8116524300272, 6019.450594456971, 1721.5017783967903, 11566.787204169894, 3864.329964639763, 10566.13534832052, 3798.629738540426, 7148.7372468641815, 3745.659564873223, 14916.419360426036, 9125.122091329056, 7575.060366429925, 10281.73307264032, 7422.795708174739, 6901.320074145714, 1774.6550992984596, 983.2522730007277, 771.774597107445, 576.6526210599234, 607.3627153144487, 362.6943260681799, 359.1557941239689, 359.44692639897625, 261.865906587929, 257.0231878423673, 247.13807196725077, 246.27197222465557, 244.34159514604343, 236.3615772460345, 212.62023610511798, 212.22240563442793, 199.98775568158254, 195.46479477909915, 187.0457425148003, 182.4861819504094, 182.95423515406063, 179.18755703725367, 178.3926543436142, 173.93424191144769, 167.11623141516856, 162.37454693229972, 159.28285126570293, 168.25886360523188, 144.11484913629943, 143.84934489655336, 1384.9728326365994, 987.1547063280693, 635.6486042731962, 644.6328295607759, 893.8410523789191, 893.7755179016322, 2463.6008724098433, 1033.8577400233753, 654.2316182513409, 710.3360266163573, 476.64775125181467, 299.06866458711227, 862.5764223264496, 1493.7648699534438, 319.1680881916552, 1464.299186226742, 4546.757770075759, 2136.124992156245, 363.68592346432524, 507.65572890179976, 1575.5272424747534, 443.1586646397931, 864.904771280572, 789.4923592039803, 2802.4230057790564, 1785.909953682277, 1349.4923201055067, 1220.6747027457407, 1704.2969161643916, 1741.1241408459302, 1368.3070230856963, 2924.2349391678154, 1997.481135361153, 2081.3221769607344, 14916.419360426036, 8058.197007100046, 7400.757191233598, 1859.309743568589, 8366.94283154294, 9832.956175472204, 6099.85261644005, 3173.158147956835, 13373.207890422213, 7471.086860727551, 3146.2027291766817, 4512.590512856601, 9125.122091329056, 6361.931390495978, 8178.317266002542, 7422.795708174739, 533.33864843381, 476.1138536581611, 332.1017831935601, 327.0327870370173, 305.24718039078357, 235.41857677634212, 218.25923456929104, 902.2907390801661, 193.25984818353177, 176.53811201867072, 168.55540865797258, 147.39763034646347, 136.65482933302317, 133.53302131477628, 138.82118314903428, 134.9711783690011, 126.97746141965098, 125.65594352448528, 125.72102074270816, 124.2261715119405, 124.27714005819158, 118.5301279970617, 112.66189204459337, 114.51515121869608, 92.9581668885807, 88.75939583610857, 85.0781858643289, 83.01723971239333, 83.67408964088723, 88.64454898899243, 255.26927933925563, 751.1723153164645, 4290.997834296279, 313.7382252447148, 939.4713187461448, 538.6868716369011, 631.7596747861094, 310.6318458291709, 4281.980807607132, 2767.814402922947, 618.0817566741059, 332.26992720219465, 416.2708429449042, 419.10379274376953, 983.1463656607656, 249.58807811409673, 2078.705835690807, 612.6030902702756, 4003.185527285824, 598.8643277368193, 4331.529121445393, 1447.5237953469, 861.4168089579973, 1157.8840206841178, 885.9089807679212, 926.481741030232, 1772.8481903445975, 2568.450068787434, 10077.910223276376, 3595.183906415423, 1670.8779704517704, 1004.3871458317295, 3959.0212685610477, 1528.7332073766704, 2440.1911664928766, 2119.602432641411, 3055.687090309423, 9832.956175472204, 6019.450594456971, 5522.482230616449, 1922.8273550860279, 6099.85261644005, 3466.8268737606077, 5868.718632416375, 10660.074724357919, 2298.2469720342847, 7689.740682830616, 5796.725144893258, 13373.207890422213, 4887.583439578362, 6007.244433344122, 5873.585133979303, 10281.73307264032, 8058.197007100046, 7511.156488516688], \"Category\": [\"Default\", \"Default\", \"Default\", \"Default\", \"Default\", \"Default\", \"Default\", \"Default\", \"Default\", \"Default\", \"Default\", \"Default\", \"Default\", \"Default\", \"Default\", \"Default\", \"Default\", \"Default\", \"Default\", \"Default\", \"Default\", \"Default\", \"Default\", \"Default\", \"Default\", \"Default\", \"Default\", \"Default\", \"Default\", \"Default\", \"Topic1\", \"Topic1\", \"Topic1\", \"Topic1\", \"Topic1\", \"Topic1\", \"Topic1\", \"Topic1\", \"Topic1\", \"Topic1\", \"Topic1\", \"Topic1\", \"Topic1\", \"Topic1\", \"Topic1\", \"Topic1\", \"Topic1\", \"Topic1\", \"Topic1\", \"Topic1\", \"Topic1\", \"Topic1\", \"Topic1\", \"Topic1\", \"Topic1\", \"Topic1\", \"Topic1\", \"Topic1\", \"Topic1\", \"Topic1\", \"Topic1\", \"Topic1\", \"Topic1\", \"Topic1\", \"Topic1\", \"Topic1\", \"Topic1\", \"Topic1\", \"Topic1\", \"Topic1\", \"Topic1\", \"Topic1\", \"Topic1\", \"Topic1\", \"Topic1\", \"Topic1\", \"Topic1\", \"Topic1\", \"Topic1\", \"Topic1\", \"Topic1\", \"Topic1\", \"Topic1\", \"Topic1\", \"Topic1\", \"Topic1\", \"Topic1\", \"Topic1\", \"Topic1\", \"Topic1\", \"Topic1\", \"Topic1\", \"Topic1\", \"Topic1\", \"Topic1\", \"Topic1\", \"Topic1\", \"Topic1\", \"Topic1\", \"Topic1\", \"Topic1\", \"Topic1\", \"Topic1\", \"Topic1\", \"Topic1\", \"Topic1\", \"Topic1\", \"Topic1\", \"Topic1\", \"Topic1\", \"Topic1\", \"Topic1\", \"Topic1\", \"Topic1\", \"Topic1\", \"Topic1\", \"Topic2\", \"Topic2\", \"Topic2\", \"Topic2\", \"Topic2\", \"Topic2\", \"Topic2\", \"Topic2\", \"Topic2\", \"Topic2\", \"Topic2\", \"Topic2\", \"Topic2\", \"Topic2\", \"Topic2\", \"Topic2\", \"Topic2\", \"Topic2\", \"Topic2\", \"Topic2\", \"Topic2\", \"Topic2\", \"Topic2\", \"Topic2\", \"Topic2\", \"Topic2\", \"Topic2\", \"Topic2\", \"Topic2\", \"Topic2\", \"Topic2\", \"Topic2\", \"Topic2\", \"Topic2\", \"Topic2\", \"Topic2\", \"Topic2\", \"Topic2\", \"Topic2\", \"Topic2\", \"Topic2\", \"Topic2\", \"Topic2\", \"Topic2\", \"Topic2\", \"Topic2\", \"Topic2\", \"Topic2\", \"Topic2\", \"Topic2\", \"Topic2\", \"Topic2\", \"Topic2\", \"Topic2\", \"Topic2\", \"Topic2\", \"Topic2\", \"Topic2\", \"Topic2\", \"Topic2\", \"Topic2\", \"Topic2\", \"Topic2\", \"Topic2\", \"Topic2\", \"Topic2\", \"Topic2\", \"Topic2\", \"Topic2\", \"Topic2\", \"Topic2\", \"Topic2\", \"Topic2\", \"Topic2\", \"Topic2\", \"Topic2\", \"Topic2\", \"Topic2\", \"Topic2\", \"Topic3\", \"Topic3\", \"Topic3\", \"Topic3\", \"Topic3\", \"Topic3\", \"Topic3\", \"Topic3\", \"Topic3\", \"Topic3\", \"Topic3\", \"Topic3\", \"Topic3\", \"Topic3\", \"Topic3\", \"Topic3\", \"Topic3\", \"Topic3\", \"Topic3\", \"Topic3\", \"Topic3\", \"Topic3\", \"Topic3\", \"Topic3\", \"Topic3\", \"Topic3\", \"Topic3\", \"Topic3\", \"Topic3\", \"Topic3\", \"Topic3\", \"Topic3\", \"Topic3\", \"Topic3\", \"Topic3\", \"Topic3\", \"Topic3\", \"Topic3\", \"Topic3\", \"Topic3\", \"Topic3\", \"Topic3\", \"Topic3\", \"Topic3\", \"Topic3\", \"Topic3\", \"Topic3\", \"Topic3\", \"Topic3\", \"Topic3\", \"Topic3\", \"Topic3\", \"Topic3\", \"Topic3\", \"Topic3\", \"Topic3\", \"Topic3\", \"Topic3\", \"Topic3\", \"Topic3\", \"Topic3\", \"Topic3\", \"Topic3\", \"Topic3\", \"Topic3\", \"Topic3\", \"Topic3\", \"Topic3\", \"Topic3\", \"Topic3\", \"Topic3\", \"Topic3\", \"Topic3\", \"Topic3\", \"Topic4\", \"Topic4\", \"Topic4\", \"Topic4\", \"Topic4\", \"Topic4\", \"Topic4\", \"Topic4\", \"Topic4\", \"Topic4\", \"Topic4\", \"Topic4\", \"Topic4\", \"Topic4\", \"Topic4\", \"Topic4\", \"Topic4\", \"Topic4\", \"Topic4\", \"Topic4\", \"Topic4\", \"Topic4\", \"Topic4\", \"Topic4\", \"Topic4\", \"Topic4\", \"Topic4\", \"Topic4\", \"Topic4\", \"Topic4\", \"Topic4\", \"Topic4\", \"Topic4\", \"Topic4\", \"Topic4\", \"Topic4\", \"Topic4\", \"Topic4\", \"Topic4\", \"Topic4\", \"Topic4\", \"Topic4\", \"Topic4\", \"Topic4\", \"Topic4\", \"Topic4\", \"Topic4\", \"Topic4\", \"Topic4\", \"Topic4\", \"Topic4\", \"Topic4\", \"Topic4\", \"Topic4\", \"Topic4\", \"Topic4\", \"Topic4\", \"Topic4\", \"Topic4\", \"Topic4\", \"Topic4\", \"Topic4\", \"Topic4\", \"Topic4\", \"Topic4\", \"Topic4\", \"Topic4\", \"Topic4\", \"Topic4\", \"Topic4\", \"Topic4\", \"Topic4\", \"Topic4\", \"Topic4\", \"Topic4\", \"Topic4\", \"Topic4\", \"Topic4\", \"Topic4\", \"Topic4\", \"Topic5\", \"Topic5\", \"Topic5\", \"Topic5\", \"Topic5\", \"Topic5\", \"Topic5\", \"Topic5\", \"Topic5\", \"Topic5\", \"Topic5\", \"Topic5\", \"Topic5\", \"Topic5\", \"Topic5\", \"Topic5\", \"Topic5\", \"Topic5\", \"Topic5\", \"Topic5\", \"Topic5\", \"Topic5\", \"Topic5\", \"Topic5\", \"Topic5\", \"Topic5\", \"Topic5\", \"Topic5\", \"Topic5\", \"Topic5\", \"Topic5\", \"Topic5\", \"Topic5\", \"Topic5\", \"Topic5\", \"Topic5\", \"Topic5\", \"Topic5\", \"Topic5\", \"Topic5\", \"Topic5\", \"Topic5\", \"Topic5\", \"Topic5\", \"Topic5\", \"Topic5\", \"Topic5\", \"Topic5\", \"Topic5\", \"Topic5\", \"Topic5\", \"Topic5\", \"Topic5\", \"Topic5\", \"Topic5\", \"Topic5\", \"Topic5\", \"Topic5\", \"Topic5\", \"Topic5\", \"Topic5\", \"Topic5\", \"Topic5\", \"Topic5\", \"Topic5\", \"Topic5\", \"Topic5\", \"Topic5\", \"Topic5\", \"Topic5\", \"Topic5\", \"Topic5\", \"Topic5\", \"Topic5\", \"Topic5\", \"Topic5\", \"Topic5\", \"Topic5\", \"Topic5\", \"Topic5\", \"Topic5\", \"Topic5\", \"Topic5\", \"Topic5\", \"Topic5\"], \"logprob\": [30.0, 29.0, 28.0, 27.0, 26.0, 25.0, 24.0, 23.0, 22.0, 21.0, 20.0, 19.0, 18.0, 17.0, 16.0, 15.0, 14.0, 13.0, 12.0, 11.0, 10.0, 9.0, 8.0, 7.0, 6.0, 5.0, 4.0, 3.0, 2.0, 1.0, -6.4736, -7.0329, -7.0363, -7.2143, -7.3226, -7.4516, -7.5603, -7.6816, -7.6925, -7.7545, -7.754, -7.752, -6.8856, -7.841, -7.8463, -7.9141, -7.9298, -7.9338, -7.997, -8.025, -8.0554, -8.0635, -8.1155, -8.1617, -8.0685, -8.2337, -8.2949, -7.4139, -8.3705, -8.3535, -8.0047, -7.0045, -6.5515, -7.5885, -5.2983, -6.381, -5.7812, -6.7877, -6.1229, -7.3373, -6.495, -7.1816, -7.4808, -6.9888, -6.4021, -5.6371, -5.8647, -7.0135, -6.841, -5.9335, -6.4435, -6.2978, -6.2506, -6.8325, -5.9557, -6.8369, -4.9691, -6.5898, -5.7797, -5.3256, -5.421, -5.9749, -6.1946, -5.8046, -6.0943, -5.421, -5.834, -6.2703, -5.4603, -5.7127, -5.7908, -5.661, -5.5016, -5.5153, -5.7691, -6.092, -5.7449, -6.0835, -5.904, -5.7909, -6.1022, -5.9803, -6.07, -5.9781, -5.9771, -6.0263, -5.615, -4.4106, -5.8371, -6.0175, -6.1527, -6.3964, -6.5107, -6.5269, -7.043, -7.0954, -7.2201, -7.2421, -7.2563, -7.2951, -7.3436, -7.3971, -7.4632, -7.3313, -7.5208, -7.5435, -7.5723, -6.4024, -7.7231, -7.8009, -7.8606, -7.954, -7.9695, -8.0381, -8.0453, -8.1303, -5.2067, -6.8235, -6.9564, -5.2307, -6.5429, -7.2849, -6.0257, -5.7149, -5.3054, -6.2841, -7.1516, -5.9697, -5.7473, -6.7665, -6.2469, -6.8015, -5.2289, -6.0702, -7.0234, -6.288, -6.391, -6.3813, -5.0528, -5.3958, -5.7035, -6.2658, -5.3241, -4.7509, -5.215, -5.2932, -4.4271, -4.9279, -5.2574, -4.9944, -4.9171, -5.5671, -5.9407, -5.2335, -5.042, -5.6128, -5.339, -5.2977, -5.2997, -5.3163, -5.3486, -5.5568, -5.448, -5.5653, -5.6298, -5.2294, -5.7696, -6.1101, -6.4346, -6.5247, -6.6514, -6.7306, -6.1593, -6.8648, -7.0102, -7.1098, -7.1142, -7.1352, -7.1393, -7.1606, -7.3648, -7.3918, -7.4052, -7.5432, -7.6765, -7.6788, -7.6877, -7.7357, -7.7774, -7.8737, -7.8969, -7.9118, -7.9445, -8.1262, -8.16, -5.8168, -5.4552, -5.5104, -6.5528, -5.8768, -7.0789, -6.221, -7.1836, -5.3941, -6.8038, -4.7365, -5.7976, -6.6809, -5.1823, -5.6882, -6.1638, -4.8227, -5.9235, -5.6612, -4.3251, -4.5475, -6.2506, -5.7834, -4.3602, -4.7847, -5.6346, -6.1458, -5.387, -6.0377, -6.0707, -5.4062, -6.0392, -5.3071, -5.7377, -5.381, -5.7507, -5.6209, -5.8154, -5.4543, -5.6186, -5.6682, -5.6804, -5.7574, -5.7918, -5.4909, -6.0818, -6.3242, -6.616, -6.5642, -7.0805, -7.0903, -7.0895, -7.4071, -7.4258, -7.4651, -7.4687, -7.4765, -7.5099, -7.6161, -7.618, -7.6776, -7.7006, -7.7448, -7.7696, -7.767, -7.7879, -7.7924, -7.8178, -7.8579, -7.8869, -7.9062, -7.8517, -8.0068, -8.0087, -5.7457, -6.0854, -6.5336, -6.5268, -6.2135, -6.2155, -5.234, -6.086, -6.5331, -6.4564, -6.8436, -7.2937, -6.2778, -5.765, -7.2329, -5.8073, -4.7817, -5.4786, -7.1139, -6.8151, -5.8024, -6.9429, -6.3555, -6.4401, -5.3457, -5.7355, -5.9844, -6.0699, -5.8505, -5.8763, -6.0691, -5.5523, -5.8208, -5.8167, -4.6548, -5.0712, -5.3342, -6.008, -5.3673, -5.3164, -5.5427, -5.8201, -5.4343, -5.6672, -5.9087, -5.8478, -5.7654, -5.8771, -5.9194, -5.9358, -6.6384, -6.7521, -7.1131, -7.1285, -7.1977, -7.4582, -7.5342, -6.115, -7.6563, -7.7472, -7.7937, -7.9285, -8.0046, -8.0278, -7.989, -8.0172, -8.0785, -8.089, -8.0885, -8.1006, -8.1002, -8.1478, -8.1989, -8.1827, -8.3927, -8.4394, -8.4822, -8.5069, -8.499, -8.4414, -7.3884, -6.3211, -4.6262, -7.1911, -6.1221, -6.6678, -6.5139, -7.2091, -4.6732, -5.1067, -6.5594, -7.1624, -6.9484, -6.9428, -6.1374, -7.4378, -5.4543, -6.5994, -4.8539, -6.6291, -4.835, -5.8443, -6.3117, -6.1263, -6.3582, -6.3281, -5.8326, -5.5453, -4.5521, -5.3625, -5.9456, -6.3242, -5.4244, -6.0732, -5.8053, -5.9483, -5.7684, -5.2069, -5.4792, -5.523, -6.0368, -5.5332, -5.8135, -5.6138, -5.5098, -6.0051, -5.6738, -5.8089, -5.6525, -5.8761, -5.8549, -5.8732, -5.808, -5.8933, -5.9078], \"loglift\": [30.0, 29.0, 28.0, 27.0, 26.0, 25.0, 24.0, 23.0, 22.0, 21.0, 20.0, 19.0, 18.0, 17.0, 16.0, 15.0, 14.0, 13.0, 12.0, 11.0, 10.0, 9.0, 8.0, 7.0, 6.0, 5.0, 4.0, 3.0, 2.0, 1.0, 1.2877, 1.2872, 1.2871, 1.2869, 1.2867, 1.2865, 1.2863, 1.286, 1.2859, 1.2858, 1.2858, 1.2858, 1.2857, 1.2856, 1.2856, 1.2853, 1.2853, 1.2852, 1.285, 1.2849, 1.2849, 1.2848, 1.2847, 1.2844, 1.2844, 1.2842, 1.2839, 1.2837, 1.2836, 1.2836, 1.2819, 1.2712, 1.2557, 1.2709, 1.1938, 1.2185, 1.191, 1.222, 1.146, 1.2324, 1.1345, 1.202, 1.2316, 1.1707, 1.0914, 0.9691, 0.9994, 1.1569, 1.1264, 0.9503, 1.0418, 0.9685, 0.9469, 1.0829, 0.8187, 1.0795, 0.4372, 0.9965, 0.6903, 0.5178, 0.5017, 0.7284, 0.8123, 0.5562, 0.7085, 0.3349, 0.5266, 0.7892, 0.1831, 0.3491, 0.3157, 0.1889, -0.0048, 0.0087, 0.235, 0.5621, -0.0627, 0.4586, -0.1511, -0.5297, 0.3567, -0.1658, 0.1768, -0.4094, -0.433, -0.1735, 1.5275, 1.5274, 1.5274, 1.5273, 1.5272, 1.527, 1.5269, 1.5269, 1.5263, 1.5261, 1.5259, 1.5259, 1.5259, 1.5258, 1.5257, 1.5255, 1.5254, 1.5253, 1.5252, 1.5251, 1.5251, 1.5249, 1.5247, 1.5244, 1.5242, 1.5238, 1.5237, 1.5235, 1.5234, 1.523, 1.5159, 1.5223, 1.5203, 1.499, 1.5079, 1.5167, 1.4901, 1.4807, 1.446, 1.4782, 1.5117, 1.4604, 1.444, 1.4923, 1.4591, 1.4919, 1.3823, 1.4265, 1.5038, 1.4164, 1.4265, 1.4175, 1.1992, 1.2335, 1.2587, 1.3678, 1.1435, 0.9313, 1.0527, 1.044, 0.7249, 0.9017, 0.915, 0.7733, 0.607, 0.9522, 1.1995, 0.654, 0.4547, 0.9256, 0.6498, 0.5404, 0.5148, 0.2524, 0.1955, 0.5272, -0.0417, 0.4962, 0.0136, 1.7003, 1.7001, 1.6999, 1.6996, 1.6995, 1.6993, 1.6992, 1.6991, 1.699, 1.6988, 1.6986, 1.6986, 1.6985, 1.6985, 1.6985, 1.698, 1.6979, 1.6979, 1.6974, 1.697, 1.697, 1.6969, 1.6968, 1.6966, 1.6962, 1.6961, 1.6959, 1.6959, 1.6949, 1.6947, 1.6892, 1.6716, 1.6714, 1.6808, 1.655, 1.6731, 1.6399, 1.6705, 1.5719, 1.6433, 1.5103, 1.5701, 1.6173, 1.4446, 1.505, 1.5223, 1.3093, 1.4818, 1.4309, 1.1628, 1.1826, 1.5253, 1.3811, 0.901, 0.9682, 1.1603, 1.3817, 0.949, 1.3057, 1.3227, 0.6532, 1.2721, 0.0992, 0.765, 0.1158, 0.7691, 0.2666, 0.7184, -0.3023, 0.0248, 0.1614, -0.1564, 0.0925, 0.1309, 1.7899, 1.7896, 1.7893, 1.789, 1.7889, 1.7881, 1.7881, 1.7881, 1.7873, 1.7872, 1.7871, 1.7871, 1.7871, 1.7869, 1.7866, 1.7866, 1.7864, 1.7862, 1.7861, 1.786, 1.7859, 1.7859, 1.7858, 1.7857, 1.7856, 1.7854, 1.7853, 1.785, 1.7848, 1.7847, 1.7831, 1.782, 1.774, 1.7667, 1.7532, 1.7512, 1.7188, 1.7351, 1.7456, 1.7401, 1.7518, 1.7678, 1.7245, 1.6882, 1.7636, 1.6658, 1.5584, 1.6169, 1.7521, 1.7173, 1.5975, 1.7253, 1.6441, 1.6508, 1.4783, 1.539, 1.5703, 1.5851, 1.4707, 1.4236, 1.4718, 1.2291, 1.3417, 1.3048, 0.4971, 0.6966, 0.5186, 1.2262, 0.3628, 0.2523, 0.5035, 0.8796, -0.1731, 0.1762, 0.7995, 0.4998, -0.122, 0.127, -0.1665, -0.0859, 1.8446, 1.8444, 1.8437, 1.8436, 1.8434, 1.8427, 1.8423, 1.8422, 1.8419, 1.8415, 1.8413, 1.8406, 1.8401, 1.84, 1.84, 1.84, 1.8397, 1.8396, 1.8396, 1.8395, 1.8395, 1.8392, 1.8389, 1.8388, 1.8373, 1.8368, 1.8365, 1.8363, 1.8363, 1.8362, 1.8315, 1.8194, 1.7717, 1.8226, 1.7948, 1.8053, 1.7998, 1.8145, 1.7268, 1.7297, 1.7762, 1.7938, 1.7824, 1.7813, 1.734, 1.8046, 1.6684, 1.7451, 1.6135, 1.738, 1.5536, 1.6403, 1.6919, 1.5815, 1.6174, 1.6027, 1.4492, 1.3658, 0.992, 1.2123, 1.3955, 1.5259, 1.0541, 1.3568, 1.157, 1.1549, 0.9691, 0.3618, 0.5802, 0.6226, 1.1638, 0.513, 0.7977, 0.4711, -0.0218, 1.0172, 0.1407, 0.2882, -0.3913, 0.3917, 0.2065, 0.2108, -0.2839, -0.1255, -0.0697]}, \"token.table\": {\"Topic\": [3, 3, 3, 1, 2, 3, 4, 5, 1, 2, 3, 4, 5, 1, 2, 3, 4, 5, 4, 5, 2, 3, 4, 5, 1, 2, 2, 3, 4, 5, 1, 5, 4, 2, 1, 2, 3, 4, 5, 2, 2, 4, 4, 3, 1, 1, 2, 2, 1, 4, 5, 5, 1, 2, 3, 1, 2, 3, 4, 5, 2, 3, 4, 5, 1, 2, 3, 4, 5, 1, 2, 3, 4, 5, 1, 3, 4, 5, 5, 1, 4, 3, 5, 3, 2, 3, 5, 1, 4, 4, 2, 5, 1, 2, 3, 4, 5, 5, 1, 1, 3, 4, 3, 1, 3, 4, 1, 2, 3, 4, 5, 2, 5, 1, 2, 3, 4, 5, 4, 4, 1, 2, 3, 4, 5, 1, 2, 4, 3, 4, 1, 2, 1, 2, 3, 4, 5, 1, 2, 3, 4, 4, 3, 1, 2, 3, 4, 5, 1, 3, 4, 4, 5, 1, 2, 3, 4, 5, 1, 3, 4, 5, 1, 2, 1, 2, 3, 4, 3, 4, 5, 2, 1, 2, 3, 4, 5, 4, 5, 4, 2, 5, 1, 2, 3, 4, 5, 5, 2, 3, 5, 1, 2, 3, 4, 5, 3, 1, 3, 5, 2, 1, 2, 3, 4, 5, 1, 2, 3, 4, 5, 1, 2, 3, 4, 5, 1, 2, 3, 4, 5, 1, 2, 4, 5, 1, 2, 3, 4, 5, 1, 2, 3, 4, 5, 5, 2, 3, 2, 1, 2, 3, 4, 5, 1, 2, 3, 4, 5, 4, 2, 1, 2, 3, 4, 5, 4, 2, 3, 4, 5, 1, 2, 3, 4, 5, 1, 2, 3, 4, 5, 1, 2, 3, 4, 5, 1, 1, 2, 3, 5, 3, 1, 3, 4, 3, 3, 4, 5, 3, 4, 1, 5, 1, 2, 3, 4, 5, 1, 2, 4, 5, 1, 2, 1, 2, 3, 4, 5, 2, 2, 3, 3, 5, 2, 5, 3, 1, 4, 1, 2, 3, 4, 1, 5, 1, 2, 3, 4, 5, 1, 4, 5, 1, 3, 4, 5, 1, 2, 3, 4, 5, 1, 2, 3, 5, 1, 3, 4, 5, 3, 1, 1, 3, 1, 5, 1, 1, 3, 4, 5, 1, 2, 3, 4, 5, 5, 2, 3, 4, 5, 1, 2, 3, 4, 5, 1, 2, 3, 4, 5, 1, 2, 3, 5, 2, 3, 4, 5, 5, 1, 2, 5, 2, 1, 2, 3, 4, 2, 3, 4, 1, 2, 3, 4, 5, 1, 2, 3, 4, 5, 1, 2, 2, 1, 3, 4, 1, 2, 3, 4, 5, 1, 2, 4, 2, 2, 1, 2, 3, 4, 5, 1, 2, 3, 4, 2, 1, 2, 3, 4, 5, 4, 5, 1, 2, 1, 2, 3, 4, 5, 4, 1, 3, 5, 5, 3, 1, 2, 4, 5, 4, 3, 5, 1, 3, 4, 1, 2, 3, 4, 5, 1, 2, 3, 4, 5, 3, 4, 4, 3, 1, 2, 3, 4, 5, 1, 3, 4, 5, 3, 5, 5, 4, 1, 2, 3, 4, 5, 4, 3, 4, 5, 1, 3, 1, 2, 3, 4, 5, 1, 2, 3, 4, 5, 1, 1, 1, 2, 3, 4, 5, 1, 2, 3, 4, 5, 1, 2, 3, 4, 5, 4, 1, 2, 3, 2, 1, 4, 4, 1, 2, 3, 4, 5, 1, 2, 3, 4, 5, 1, 2, 3, 4, 5, 1, 2, 4, 5, 5, 1, 2, 3, 4, 5, 1, 2, 3, 4, 5, 1, 2, 3, 4, 5, 3, 1, 4, 5, 4, 1, 2, 3, 4, 5, 1, 2, 3, 4, 5, 1, 2, 3, 4, 5, 1, 5, 1, 1, 2, 3, 4, 5, 1, 3, 1, 2, 3, 4, 5, 1, 1, 2, 3, 4, 5, 1, 3, 4, 5, 1, 2, 4, 1, 2, 4, 5, 1, 2, 3, 4, 2, 1, 2, 3, 4, 5, 1, 2, 3, 4, 5, 1, 4, 1, 2, 3, 5, 1, 2, 3, 4, 5, 3, 5, 3, 4, 1, 2, 3, 4, 5, 1, 2, 3, 4, 5, 2, 1, 2, 3, 4, 5, 1, 2, 3, 4, 1, 2, 3, 4, 5, 1, 1, 2, 1, 2, 3, 4, 5, 1, 4, 5, 1, 2, 3, 4, 5, 1, 3, 5, 1, 2, 3, 4, 5, 1, 2, 4, 1, 2, 4, 1, 2, 3, 4, 5, 1, 2, 3, 4, 5, 1, 2, 3, 4, 5, 1, 2, 3, 5, 3, 4, 1, 3, 5, 1, 3, 4, 5, 1, 2, 3, 4, 5, 2, 5, 1, 4, 1, 2, 3, 4, 5, 1, 2, 3, 4, 1, 2, 3, 4, 5, 1, 1, 3, 4, 5, 1, 2, 3, 4, 3, 5, 3, 4, 1, 2, 3, 4, 5, 1, 2, 3, 4, 5, 3, 4, 4, 2, 3, 1, 4, 2, 3, 5, 1, 2, 4, 5, 5, 2, 1, 2, 3, 4, 1, 2, 3, 4, 1, 2, 3, 4, 5, 3, 4, 5, 1, 2, 3, 4, 5, 1, 2, 3, 4, 5, 2, 3, 4, 5, 2, 3, 5, 2, 1, 2, 3, 5, 1, 2, 3, 4, 5, 1, 2, 3, 4, 5, 1, 2, 3, 4, 5, 1, 2, 3, 4, 5, 1, 3, 4, 1, 2, 3, 4, 5, 1, 3, 4, 5, 1, 2, 1, 2, 3, 4, 5, 1, 2, 3, 4, 5, 1, 2, 3, 4, 5, 1, 2, 3, 4, 5, 5, 5, 2, 5, 3, 4, 5, 1, 2, 4, 4, 3, 4, 5, 1, 2, 1, 4, 5, 1, 4, 1, 2, 3, 4, 5, 1, 2, 3, 4, 5, 1, 2, 3, 3, 4, 5, 1, 4, 1, 2, 5, 5, 2, 4, 1, 2, 3, 4, 5, 1, 2, 3, 4, 5, 5, 4, 3, 5, 3, 1, 2, 1, 2, 3, 4, 5, 1, 2, 3, 4, 5, 1, 4, 2, 1, 2, 3, 4, 5, 1, 2, 3, 4, 5, 3, 3, 3, 3], \"Freq\": [0.9933938638688758, 0.9976574029306079, 0.9957769620503423, 0.10845652629666434, 0.41161559315250007, 0.024518097700043803, 0.10470669958959883, 0.35046457300650846, 0.021489555895945936, 0.03604699698674802, 0.5826442493723406, 0.05233746677883607, 0.30778589734838696, 0.021709832159569013, 0.015255557733751196, 0.22589960490362349, 0.7263992490147685, 0.01056153996952006, 0.06633426655499548, 0.9319155496506683, 0.2059467268096375, 0.049926479226578786, 0.23819091131013628, 0.5055056021691102, 0.9924664506181765, 0.004187622154507074, 0.8523684133728745, 0.09622221035253523, 0.0008018517529377935, 0.05051666043508099, 0.044320650901752745, 0.9544768747770324, 0.9967819143032676, 0.9939170711404817, 0.09574751726318789, 0.28284334153693075, 0.3923060437053861, 0.08047966991581469, 0.14853804029478337, 0.9987685290283678, 0.9988691191761518, 0.9933725474196472, 0.9925182924794653, 0.9973425731601736, 0.9977236587685602, 0.9989860426295185, 0.9968434514622663, 0.9970112003122583, 0.04869133784890857, 0.9367285948075744, 0.015071128381805035, 0.9897234514924179, 0.012408912485662473, 0.9647929457602573, 0.023266710910617137, 0.2901412027556681, 0.12130197177355616, 0.0467176512911669, 0.03934118003466686, 0.5020098494006969, 0.10054594229558028, 0.24717544147663487, 0.015560681545744567, 0.6373894556237679, 0.2871921929364264, 0.038140739783113796, 0.08486946070944527, 0.13690252293011707, 0.45288971146439094, 0.4627171473767807, 0.0915529444043153, 0.10199319245042143, 0.19903395954563868, 0.14469112997231703, 0.016190281292883607, 0.04857084387865082, 0.15110929206691368, 0.7836096145755665, 0.9966823930213048, 0.12919694384736455, 0.8701794159131317, 0.998759341584313, 0.9914443329750603, 0.9904283957309558, 0.9628485409082885, 0.001425386441018932, 0.035634661025473295, 0.9928816961979678, 0.9933206283691529, 0.9948350914106651, 0.9985207335045128, 0.9919438664492163, 0.23938084432772477, 0.5418153842476008, 0.09820752587804094, 0.021389896734800583, 0.09913752138824966, 0.9982219891816788, 0.9978298361364184, 0.019123600705880324, 0.9410824557893739, 0.03925370671207014, 0.9985558829183846, 0.045306294582266184, 0.0256079056334548, 0.9297639583838972, 0.04824469320101917, 0.07466440614443444, 0.1751741836465577, 0.6932302939717874, 0.008615123785896281, 0.040066016275940065, 0.9575777889949676, 0.07870521548319279, 0.44796273412154536, 0.13495195806445237, 0.2743956107092914, 0.06402340782491407, 0.9940955942679881, 0.9922641619307041, 0.08439262757723023, 0.7198550142267801, 0.07955868232220989, 0.06566108971402639, 0.0505550107920878, 0.9166845592298792, 0.07299525193867556, 0.008487819992869253, 0.042798298368458, 0.9568476706662395, 0.9681893731031771, 0.03147807814030034, 0.04483164382981401, 0.11251863549443515, 0.7741516535841085, 0.03076681439300961, 0.037506211831478384, 0.11043922016016058, 0.027927159120960148, 0.03681307338672019, 0.8244859022301644, 0.9973357875910763, 0.9995671114074758, 0.48078595150823983, 0.32022455247582904, 0.10756490928185282, 0.055017542325791105, 0.03637894635419657, 0.9974487581194081, 0.9958923565987466, 0.9977989321081692, 0.9502544918287781, 0.04786467069952363, 0.09293655310258478, 0.5346492046384493, 0.21451974260184695, 0.08990027366883556, 0.06798625688612381, 0.038828065357975436, 0.04753090759338373, 0.9030872442742908, 0.01071119044357943, 0.04833317254596023, 0.9511603578384248, 0.022127635151113944, 0.008605191447655423, 0.8777295276608531, 0.09158382326433272, 0.9195419452451286, 0.07948582916525687, 0.9952081508116528, 0.9994903627681009, 0.004335550818482415, 0.07045270080033925, 0.0068646221292638235, 0.0281810803201357, 0.8902331013950558, 0.02897320452117928, 0.968992728986107, 0.995394995363557, 0.9994738730943565, 0.00044139873682954065, 0.23548909532603501, 0.05756400107969745, 0.03009027329166003, 0.06410536483875398, 0.6129257842235967, 0.9959141952132469, 0.9878761766834963, 0.002579311166275447, 0.009027589081964065, 0.5497502570881737, 0.05610207634977263, 0.2456970397282453, 0.04032336737639908, 0.10819686153170435, 0.9955678897759371, 0.8576676218349131, 0.03194292818752004, 0.11020310224694414, 0.9991848872698642, 0.02498590992603069, 0.6808660454843363, 0.024486191727510074, 0.05721773373061028, 0.21213037527200054, 0.1857756933953732, 0.35640301035796956, 0.15731006295575956, 0.10653803205469431, 0.1940989771496462, 0.39082662800732887, 0.14670569206410597, 0.22480440895180825, 0.14737177920174097, 0.09025480714954079, 0.04616592127800052, 0.08104683957693425, 0.18534762468649096, 0.5704056051237397, 0.11661169745035686, 0.002166107471067748, 0.004332214942135496, 0.9927992575727179, 0.9896924937243098, 0.12732291181702976, 0.08984673399918704, 0.07639374709021786, 0.6154741510853401, 0.09128812545371945, 0.17261244236793763, 0.012047822754107323, 0.47161749799260116, 0.18378405983083715, 0.1601265169682264, 0.9976605308801605, 0.9937728332615343, 0.004903484374645728, 0.9979233788491574, 0.27788916287159005, 0.15689435989879247, 0.23578474425468246, 0.2750083342293806, 0.054292539795486094, 0.01291071029393116, 0.8942818663596317, 0.0034428560783816425, 0.06197140941086957, 0.02668213460745773, 0.9960190835272231, 0.9968295608619305, 0.11360962689328298, 0.616299327355454, 0.08685214720027039, 0.1232598654710908, 0.05965602029917562, 0.9970828924072338, 0.0438773847473172, 0.8223138106173682, 0.04542599832663428, 0.08827097402107342, 0.00806751002724827, 0.1952337426594081, 0.08443993828519855, 0.5690283739219112, 0.1436016784850192, 0.23173304510401518, 0.22213943215801804, 0.15660559724522075, 0.2803767163794936, 0.1091780177516293, 0.03601499508052348, 0.09996469788376068, 0.11520181118705908, 0.002308653530802787, 0.746387686508541, 0.9970198517578743, 0.09014055869789431, 0.7641460998707859, 0.1266065119893152, 0.019257301176368327, 0.998662432350585, 0.012559352276327705, 0.9714175933728851, 0.015940716350723624, 0.9981053525860787, 0.9887991664052859, 0.011292495833322322, 0.9969518648833527, 0.03574512831337339, 0.9623688392062066, 0.022311594306176824, 0.9753354082414439, 0.03944762101115154, 0.0673495968483075, 0.03656120971765265, 0.019242741956659287, 0.837059275114679, 0.012584485493886521, 0.026567247153760437, 0.03262644387303913, 0.9282223281879632, 0.0957952137298932, 0.9034117966351972, 0.01393053847476654, 0.019734929505919267, 0.00696526923738327, 0.10215728214828797, 0.8567281161981423, 0.999422938771377, 0.9973668740100644, 0.998081524563647, 0.9950513806982745, 0.9942649149804172, 0.0033248706542841487, 0.9963529060671499, 0.9987135685216725, 0.9835064506118115, 0.016391774176863525, 0.8141577372737376, 0.0031886073261373537, 0.013817298413261864, 0.1679333191765673, 0.9985435538060329, 0.9927288367266388, 0.16170480464987985, 0.3043253752420289, 0.20157722223478175, 0.07957444022285974, 0.2528661012649333, 0.9977539307391353, 0.9947842959018844, 0.9960083183206063, 0.9977914724468684, 0.0021018309993382253, 0.11022935907640471, 0.8874397552761396, 0.15159168882222554, 0.0592459260901542, 0.255063447064185, 0.0036159485407136365, 0.530709985821663, 0.02241395780556589, 0.9336275501318406, 0.006896602401712581, 0.037069237909205126, 0.011930218925641852, 0.031018569206668817, 0.019088350281026966, 0.9377152075554497, 0.9991427744051418, 0.9980426593716499, 0.8764340189289167, 0.1220698398821183, 0.9446314482827486, 0.05316107717608542, 0.9984540406344917, 0.9983833750313559, 0.042106419964675075, 0.7318666724368524, 0.22587596472575697, 0.4667562205560035, 0.14570696832171537, 0.17511777394597533, 0.10305007466820856, 0.10933635373293589, 0.9941249695652955, 0.0010171425485847238, 0.07018283585234596, 0.03458284665188061, 0.8940683002059723, 0.6251995566255891, 0.06656116952667869, 0.11614244886798016, 0.02445104186694319, 0.16810091283523443, 0.04422647416659035, 0.1766426438439412, 0.3938262223405902, 0.2461413889628689, 0.13899749023785538, 0.710779250528687, 0.17108472113381962, 0.11250116510920866, 0.005702824037793987, 0.16594630391829182, 0.5840484387763057, 0.09559032430341399, 0.15440792326145183, 0.9942305553679046, 0.0728325166745007, 0.8957453674123658, 0.03121393571764316, 0.9937732973749471, 0.1253405183672992, 0.05734533520072512, 0.00245765722288822, 0.8143037598502968, 0.9981789301322624, 0.025065162514606193, 0.9744081927553158, 0.5600380112754435, 0.04786351063302293, 0.3036013922634812, 0.08210164232671817, 0.0066380051242878515, 0.4269119776163793, 0.20809581411960812, 0.20161173183503373, 0.07893289501088584, 0.08446597856038934, 0.010313895959954415, 0.9901340121556239, 0.9978313950928807, 0.9071944096995593, 0.056285784543403314, 0.0364202135280845, 0.8674817505899235, 0.006681502571937793, 0.03507788850267341, 0.09075707660215503, 0.9973023287719834, 0.022895967282456863, 0.9348096356180244, 0.04186691160220683, 0.9975852645327624, 0.9970944039714489, 0.7263812115089758, 0.07219385129676366, 0.007219385129676366, 0.1571604608998778, 0.037762937601384064, 0.055788751249189354, 0.011397701868113954, 0.6736641683101037, 0.2597476267838601, 0.9938001763145177, 0.05475976094303227, 0.03882964866869561, 0.1662705468633889, 0.013938848240044578, 0.7258157404994641, 0.9917391810262421, 0.008104099538518832, 0.02351508091053657, 0.9758758577872676, 0.011044654272113532, 0.47020443861840644, 0.04455090880549166, 0.3349384480947688, 0.139237102172038, 0.9976221048929838, 0.001331252469786118, 0.023962544456150123, 0.9731455554136523, 0.995527483130071, 0.9984322525686239, 0.08907446151309965, 0.08995420928113027, 0.7928726759375907, 0.027931991634971988, 0.9977563401899915, 0.9988765112276816, 0.9901295234569581, 0.14144381456787844, 0.8394181936446642, 0.018489387525212866, 0.7812271652389442, 0.07328325620825495, 0.0034567573683139123, 0.08434487978685946, 0.057382172314010944, 0.0655128214940309, 0.020157791228932583, 0.0985492015636704, 0.7777547782496488, 0.03807582787687266, 0.11677941339340552, 0.8830162661852242, 0.9996308582446705, 0.9981122315439458, 0.054081429643707546, 0.002923320521281489, 0.18563085310137456, 0.7271759796687703, 0.02996403534313526, 0.03675554046646769, 0.004836255324535222, 0.9459715414790895, 0.011607012778884533, 0.9951216281790695, 0.9947798448200147, 0.9923020872466449, 0.9919460804756504, 0.024179222554066702, 0.12642279221126304, 0.033850911575693386, 0.001381669860232383, 0.8138035476768737, 0.9966933206418064, 0.970089870635404, 0.0190213700124589, 0.010869354292833658, 0.9457017073119566, 0.05424224256402743, 0.7488675775261164, 0.16232893421573058, 0.047918609871462806, 0.030459891546201164, 0.010400938576751617, 0.0653150919937668, 0.027059109540274816, 0.7637200399556874, 0.11476794736047594, 0.02939179139719506, 0.9986599914656038, 0.9979005117521355, 0.37803038899045327, 0.17447556414944, 0.17639096455427414, 0.14731170386270082, 0.12363038976656925, 0.393872439889792, 0.23657118244952913, 0.13872236876621605, 0.12162979118609299, 0.10899614688774117, 0.11680384537370928, 0.41727649191589794, 0.23836377546922227, 0.13764668724279033, 0.08994595517999408, 0.9988682596140397, 0.056862213601216974, 0.9040128196261275, 0.039514419621184675, 0.9993016619603726, 0.9963564815820241, 0.9989963428307331, 0.9942399784284152, 0.15986828803549422, 0.3675778848441235, 0.23290715445426632, 0.04477674095136845, 0.1949405642179349, 0.024756610602322184, 0.6217796662847695, 0.09882184232166623, 0.02107380902511723, 0.2334486999772695, 0.2259896695557613, 0.2943041040168922, 0.12093034989205242, 0.1481871191972511, 0.21063617292182027, 0.22972939884155066, 0.001727288713094366, 0.000863644356547183, 0.7677798329704456, 0.993481066060161, 0.1035766121308371, 0.2120423300790389, 0.24318774491558431, 0.1468542525141764, 0.29425173900805995, 0.06669688381418262, 0.04871120728002102, 0.012989655274672272, 0.07918693696290596, 0.7923689717550085, 0.34879345025866526, 0.17746183206040247, 0.17243191299403143, 0.18956507481385773, 0.11175851425593104, 0.9968729341481309, 0.9944945992284232, 0.994409161626774, 0.9993650405144939, 0.9987566275682097, 0.6070089188328978, 0.21227246417519488, 0.08084419380289337, 0.001354930622394861, 0.09845829189402656, 0.9097706229746264, 0.015875535779461537, 0.011778623320245655, 0.05146746276889949, 0.01126650926284367, 0.5712337536507099, 0.3514068108006306, 0.03384386026612733, 0.026885309557203956, 0.017080079012811927, 0.9828945236287275, 0.016762542263435664, 0.9979130125809925, 0.08571901787345144, 0.08351301373700232, 0.3220766039215712, 0.4021230397298678, 0.10651848544568598, 0.9945120804623299, 0.9930814548286312, 0.016480144818295586, 0.9648375693620325, 0.011985559867851336, 0.0044945849504442505, 0.001498194983481417, 0.9988331434397631, 0.23355794090820853, 0.3630811642626493, 0.16619546129214394, 0.05539848709738131, 0.18167062552826688, 0.8117779426584261, 0.010639291515837826, 0.06596360739819451, 0.11064863176471339, 0.9968517882692958, 0.9988804998799987, 0.9984702367861671, 0.06408070531132053, 0.01602017632783013, 0.6383039005619818, 0.280853716247272, 0.02846351982606314, 0.008132434236018041, 0.6511756270411588, 0.312517829926979, 0.9996340842967302, 0.017746215101131457, 0.0025351735858759224, 0.8366072833390543, 0.02366162013484194, 0.11999821639812698, 0.05450758093424571, 0.09344156731584978, 0.01518425468882559, 0.21841966360079887, 0.6186610436036888, 0.020062282380146613, 0.9763644091671352, 0.012979568344703318, 0.864439251757241, 0.06489784172351659, 0.05739853556879912, 0.6212844601341639, 0.09769162545557888, 0.22494782177271452, 0.038990955773937186, 0.017567353700345324, 0.9552090916446543, 0.04417570476900979, 0.9989006617166036, 0.0010039202630317625, 0.16233950879914558, 0.14110301847258763, 0.4494807864540139, 0.14035525472869473, 0.10670588625351486, 0.33106406355599755, 0.21994226268020095, 0.18717557780656863, 0.147724050868416, 0.11408066539615805, 0.9993030803611554, 0.042546482376546096, 0.04687324329619485, 0.7268958345009909, 0.1485521249079406, 0.03461408735719004, 0.9994614214493432, 0.004719588747355491, 0.01101237374382948, 0.9832476556990606, 0.7472336537465112, 0.08260105896071976, 0.1567890471013662, 0.0038241231000333224, 0.009942720060086637, 0.9927764847378527, 0.9978046056907234, 0.9975159276110622, 0.25893255804593607, 0.5506731128878377, 0.03212449686271622, 0.07176749299117455, 0.08646274155603409, 0.9966471363521868, 0.0013727921988322133, 0.9968419465021396, 0.11617550387270431, 0.2158166663702672, 0.1718701274521281, 0.059610651799852026, 0.43641958945439113, 0.9958550618846108, 0.6854534069883581, 0.3146653634656768, 0.2370903374047946, 0.09720826108138819, 0.4807835000905892, 0.14134937083029528, 0.04377428612218487, 0.03815553121965375, 0.030849152900996653, 0.9307514158155964, 0.004475396696243178, 0.033565475221823834, 0.9610914405182225, 0.10194882613327227, 0.010876135027113456, 0.5956775491772908, 0.2398725604331506, 0.05163176188695619, 0.11035337465371357, 0.009530518720093445, 0.7263258477208057, 0.1459674182919575, 0.008025699974815533, 0.002552780030409748, 0.11678968639124597, 0.8034875145714682, 0.058713940699424205, 0.018507655220470674, 0.03555149970251543, 0.9197018401302903, 0.020094325918813067, 0.024216238927800362, 0.8266225871670756, 0.1732982399174795, 0.1817342452725137, 0.022575682642548285, 0.795792813149827, 0.8885784777352871, 0.02441895053318346, 0.04341146761454837, 0.04341146761454837, 0.004465506744393503, 0.05501504309092795, 0.6760777211011763, 0.18862300488318157, 0.07573499438491381, 0.03898368626691711, 0.959741228571245, 0.021717789349231523, 0.9773005207154186, 0.33302816043793065, 0.17136400488553713, 0.20019411262571396, 0.15317678738589285, 0.1421297367564793, 0.020137808564614237, 0.004475068569914275, 0.012306438567264256, 0.9632585096740477, 0.11664855433395384, 0.12395895419684468, 0.1487507450362136, 0.37124117564593484, 0.2390182911693005, 0.9980927192400204, 0.3359120507862025, 0.15899208021762676, 0.004246079293645818, 0.5010373566502065, 0.03231249936538645, 0.7201770691891435, 0.006364583208333695, 0.24087499526924444, 0.9740065488914068, 0.024534169997264654, 0.9712538810354919, 0.02858130180661458, 0.18305786864890197, 0.27926494850549155, 0.09620707985658959, 0.21478789921471164, 0.22668666067689025, 0.27816322207492983, 0.39818189901215484, 0.15610208791267915, 0.04872719379704191, 0.11885155852292457, 0.996740418602593, 0.9946287637144886, 0.9980856439754467, 0.9981888379643068, 0.9977435728341413, 0.994538452429077, 0.0023236879729651334, 0.0016323783145769113, 0.09304556393088395, 0.9043375862756089, 0.007762088533665167, 0.9537019445029935, 0.031048354134660668, 0.007244615964754155, 0.9967048897309514, 0.9978658485956512, 0.06372766907875127, 0.007410194078924566, 0.12671431874961006, 0.8025240187475304, 0.04522331013744507, 0.003617864810995606, 0.9442627156698531, 0.007235729621991212, 0.3289858456778744, 0.22279674810828037, 0.20356249647303315, 0.17851789798963832, 0.0663180967840295, 0.03363194957628339, 0.026425103238508378, 0.9392923060233432, 0.03152577225449169, 0.9212162502996731, 0.01592881124437475, 0.01858361311843721, 0.012610308901796678, 0.08106952771897598, 0.7448997184613155, 0.05052158973791256, 0.06873286045739267, 0.054633812158440334, 0.02179819167452229, 0.8793308264175218, 0.03331421746483595, 0.0658058616589352, 0.9715493002815553, 0.027925548069590158, 0.0003247156752277925, 0.9949451021808623, 0.10604404879329092, 0.051329832128667416, 0.1703473549764567, 0.6723643944766104, 0.09787121714891804, 0.2744328601462124, 0.08787097553068689, 0.2760722440180536, 0.26361292659206065, 0.07999226121660416, 0.5623140204601417, 0.20524330180576067, 0.0789397314637541, 0.07315081782307879, 0.4552752178196771, 0.16431638988144934, 0.20807613392395172, 0.09331548067341568, 0.07882549920238839, 0.008181465988216898, 0.36652967627211697, 0.02290810476700731, 0.18621016589181658, 0.41594573084094705, 0.8210886232482087, 0.002788076819178977, 0.17564883960827554, 0.27436710816512433, 0.3419414838912019, 0.2049945347656638, 0.08631348832238475, 0.09237057522220123, 0.8508458409658199, 0.11643153613216484, 0.02574928202922876, 0.00783673800889571, 0.0021509829801177843, 0.996980611284593, 0.11559682795387936, 0.5476768507698878, 0.1378579340331647, 0.03406217436228, 0.16494674986458424, 0.19837158262884855, 0.37251254241309945, 0.16428894829798596, 0.11769159667375981, 0.14724763113255468, 0.19486828267685435, 0.1707797055343617, 0.3508625856892723, 0.0016612811822408725, 0.28191941662627606, 0.3854315248431525, 0.2231897471252108, 0.15095965863249147, 0.11122697837503637, 0.1292538425659188, 0.992804549973284, 0.9877466449629321, 0.011752295488768813, 0.9871928210565803, 0.024076810283019678, 0.024076810283019678, 0.9480244048938998, 0.9970991935194266, 0.035665750977221834, 0.9629752763849896, 0.9950609192136981, 0.13527500816855317, 0.8636788983069165, 0.9940845976787801, 0.015717536299125007, 0.983468699859536, 0.049643619216792195, 0.9364591806803982, 0.013539168877306962, 0.9322326595962399, 0.06741832201568818, 0.48356286452327596, 0.22431776716677496, 0.11682589753115259, 0.07256453944589633, 0.1023732091767832, 0.1788069113612486, 0.2638443825247281, 0.04514824898411105, 0.08662510189698669, 0.42568349042161846, 0.9956202366329638, 0.9930351834132445, 0.005589316229342839, 0.13154660941275412, 0.8407747704815174, 0.027620106602677913, 0.935461487533125, 0.06306481938425562, 0.04007585506169469, 0.06178360988677932, 0.8983670842996561, 0.987327117364159, 0.9973054760492693, 0.9976933149968641, 0.1667206928022917, 0.4156407243956855, 0.1972164926927759, 0.07445928805747662, 0.14613215785084807, 0.18581507153695562, 0.11479954132311913, 0.3745668755263631, 0.2114447365765357, 0.113464662935641, 0.9955014579886267, 0.9986019770975169, 0.9803790829644241, 0.01899393156264905, 0.9961606818825202, 0.019470017810206117, 0.9795852710759951, 0.43609206858758004, 0.16609185575218327, 0.20835509943628824, 0.10471593498800534, 0.08506487263807118, 0.7267398325132671, 0.17479642891018154, 0.03989606505503322, 0.04247926351183394, 0.016073234842315542, 0.9972425822096057, 0.998726397044671, 0.9992798031679261, 0.7129640903880993, 0.14850261606383364, 0.10796746320967497, 0.015532161374023417, 0.015153328169778943, 0.02235299745821663, 0.013837569855086485, 0.006386570702347608, 0.007450999152738877, 0.9494701777490111, 0.9995747274348128, 0.9972132678427116, 0.9968977539601198, 0.9991467111224017], \"Term\": [\"10n\", \"abascal\", \"abstencion\", \"activ\", \"activ\", \"activ\", \"activ\", \"activ\", \"acuerd\", \"acuerd\", \"acuerd\", \"acuerd\", \"acuerd\", \"acus\", \"acus\", \"acus\", \"acus\", \"acus\", \"adjud\", \"adjud\", \"administr\", \"administr\", \"administr\", \"administr\", \"adolescent\", \"adolescent\", \"alarm\", \"alarm\", \"alarm\", \"alarm\", \"alquil\", \"alquil\", \"anticorrupcion\", \"anticuerp\", \"apoy\", \"apoy\", \"apoy\", \"apoy\", \"apoy\", \"apuntart\", \"apuntat\", \"arabi\", \"arrest\", \"arrim\", \"arte\", \"artist\", \"asintomat\", \"asistencial\", \"audienci\", \"audienci\", \"audienci\", \"auditor\", \"aul\", \"aul\", \"aul\", \"ayud\", \"ayud\", \"ayud\", \"ayud\", \"ayud\", \"ayunt\", \"ayunt\", \"ayunt\", \"ayunt\", \"a\\u00f1o\", \"a\\u00f1o\", \"a\\u00f1o\", \"a\\u00f1o\", \"a\\u00f1o\", \"a\\u00f1os\", \"a\\u00f1os\", \"a\\u00f1os\", \"a\\u00f1os\", \"a\\u00f1os\", \"banc\", \"banc\", \"banc\", \"banc\", \"banki\", \"barc\", \"barc\", \"bildu\", \"billon\", \"bng\", \"boletin\", \"boletin\", \"boletin\", \"bolson\", \"borbon\", \"brig\", \"brot\", \"cabild\", \"cad\", \"cad\", \"cad\", \"cad\", \"cad\", \"caixabank\", \"cancion\", \"candidat\", \"candidat\", \"candidat\", \"candidatur\", \"carcel\", \"carcel\", \"carcel\", \"carl\", \"carl\", \"carl\", \"carl\", \"carl\", \"carp\", \"carp\", \"cas\", \"cas\", \"cas\", \"cas\", \"cas\", \"casta\\u00f1\", \"cdr\", \"centr\", \"centr\", \"centr\", \"centr\", \"centr\", \"cienci\", \"cienci\", \"cienci\", \"cifuent\", \"cifuent\", \"cin\", \"cin\", \"ciudad\", \"ciudad\", \"ciudad\", \"ciudad\", \"ciudad\", \"civil\", \"civil\", \"civil\", \"civil\", \"cni\", \"coalicion\", \"com\", \"com\", \"com\", \"com\", \"com\", \"comic\", \"comici\", \"comis\", \"comisari\", \"comisari\", \"comun\", \"comun\", \"comun\", \"comun\", \"comun\", \"cond\", \"cond\", \"cond\", \"cond\", \"confin\", \"confin\", \"congr\", \"congr\", \"congr\", \"congr\", \"constitucional\", \"constitucional\", \"consulting\", \"contagi\", \"contrat\", \"contrat\", \"contrat\", \"contrat\", \"contrat\", \"conveni\", \"conveni\", \"corinn\", \"coronavirus\", \"coronavirus\", \"cost\", \"cost\", \"cost\", \"cost\", \"cost\", \"cotiz\", \"cov\", \"cov\", \"cov\", \"cre\", \"cre\", \"cre\", \"cre\", \"cre\", \"cs\", \"cultur\", \"cultur\", \"cultur\", \"curv\", \"dat\", \"dat\", \"dat\", \"dat\", \"dat\", \"deb\", \"deb\", \"deb\", \"deb\", \"deb\", \"dec\", \"dec\", \"dec\", \"dec\", \"dec\", \"decl\", \"decl\", \"decl\", \"decl\", \"decl\", \"delit\", \"delit\", \"delit\", \"denok\", \"denunci\", \"denunci\", \"denunci\", \"denunci\", \"denunci\", \"derech\", \"derech\", \"derech\", \"derech\", \"derech\", \"desempl\", \"desescal\", \"desescal\", \"desinfect\", \"despu\", \"despu\", \"despu\", \"despu\", \"despu\", \"detect\", \"detect\", \"detect\", \"detect\", \"detect\", \"detencion\", \"diagnost\", \"dias\", \"dias\", \"dias\", \"dias\", \"dias\", \"diligent\", \"diput\", \"diput\", \"diput\", \"diput\", \"document\", \"document\", \"document\", \"document\", \"document\", \"dos\", \"dos\", \"dos\", \"dos\", \"dos\", \"econom\", \"econom\", \"econom\", \"econom\", \"econom\", \"editorial\", \"educ\", \"educ\", \"educ\", \"educ\", \"eh\", \"eleccion\", \"eleccion\", \"eleccion\", \"elector\", \"electoral\", \"electoral\", \"elorz\", \"emerit\", \"emerit\", \"emision\", \"emision\", \"emple\", \"emple\", \"emple\", \"emple\", \"emple\", \"empres\", \"empres\", \"empres\", \"empres\", \"enferm\", \"enferm\", \"entid\", \"entid\", \"entid\", \"entid\", \"entid\", \"epidemi\", \"epidemiolog\", \"erc\", \"errejon\", \"errexal\", \"erte\", \"erte\", \"esca\\u00f1\", \"escen\", \"escen\", \"escrib\", \"escrib\", \"escrib\", \"escrib\", \"escritor\", \"escriv\", \"espa\\u00f1\", \"espa\\u00f1\", \"espa\\u00f1\", \"espa\\u00f1\", \"espa\\u00f1\", \"espect\", \"espionaj\", \"estali\", \"estet\", \"eur\", \"eur\", \"eur\", \"europ\", \"europ\", \"europ\", \"europ\", \"europ\", \"evolu\", \"evolu\", \"evolu\", \"evolu\", \"factur\", \"factur\", \"factur\", \"factur\", \"feij\", \"femenin\", \"femin\", \"femin\", \"festival\", \"festival\", \"ficcion\", \"film\", \"fiscal\", \"fiscal\", \"fiscal\", \"form\", \"form\", \"form\", \"form\", \"form\", \"fotovolt\", \"gast\", \"gast\", \"gast\", \"gast\", \"gen\", \"gen\", \"gen\", \"gen\", \"gen\", \"general\", \"general\", \"general\", \"general\", \"general\", \"gent\", \"gent\", \"gent\", \"gent\", \"gobiern\", \"gobiern\", \"gobiern\", \"gobiern\", \"gogor\", \"grafic\", \"grafic\", \"grafic\", \"grip\", \"guardi\", \"guardi\", \"guardi\", \"guardi\", \"guiart\", \"g\\u00fcrtel\", \"g\\u00fcrtel\", \"habl\", \"habl\", \"habl\", \"habl\", \"habl\", \"hac\", \"hac\", \"hac\", \"hac\", \"hac\", \"haz\", \"haz\", \"higi\", \"histori\", \"histori\", \"histori\", \"hombr\", \"hombr\", \"hombr\", \"hombr\", \"hondarribi\", \"hospital\", \"hospital\", \"hospital\", \"hospitalari\", \"hospitaliz\", \"hum\", \"hum\", \"hum\", \"hum\", \"hum\", \"iglesi\", \"iglesi\", \"iglesi\", \"iglesi\", \"illa\", \"impuest\", \"impuest\", \"impuest\", \"impuest\", \"impuest\", \"imput\", \"imput\", \"infect\", \"infect\", \"inform\", \"inform\", \"inform\", \"inform\", \"inform\", \"instructor\", \"inversion\", \"inversion\", \"inversion\", \"inversor\", \"investidur\", \"investig\", \"investig\", \"investig\", \"investig\", \"israel\", \"iu\", \"iva\", \"izquierd\", \"izquierd\", \"izquierd\", \"jov\", \"jov\", \"jov\", \"jov\", \"jov\", \"juan\", \"juan\", \"juan\", \"juan\", \"juan\", \"judicial\", \"judicial\", \"juez\", \"junqu\", \"justici\", \"justici\", \"justici\", \"justici\", \"justici\", \"juzg\", \"juzg\", \"juzg\", \"juzg\", \"jxcat\", \"karp\", \"katai\", \"kitch\", \"laboral\", \"laboral\", \"laboral\", \"laboral\", \"laboral\", \"lars\", \"lehendakari\", \"lehendakari\", \"lehendakari\", \"lgtbi\", \"lgtbi\", \"libr\", \"libr\", \"libr\", \"libr\", \"libr\", \"lid\", \"lid\", \"lid\", \"lid\", \"lid\", \"literari\", \"literatur\", \"lleg\", \"lleg\", \"lleg\", \"lleg\", \"lleg\", \"llev\", \"llev\", \"llev\", \"llev\", \"llev\", \"madr\", \"madr\", \"madr\", \"madr\", \"madr\", \"magistr\", \"map\", \"map\", \"map\", \"mascarill\", \"masculin\", \"mast\", \"maur\", \"mayor\", \"mayor\", \"mayor\", \"mayor\", \"mayor\", \"med\", \"med\", \"med\", \"med\", \"med\", \"medi\", \"medi\", \"medi\", \"medi\", \"medi\", \"merc\", \"merc\", \"merc\", \"merc\", \"mercantil\", \"mes\", \"mes\", \"mes\", \"mes\", \"mes\", \"millon\", \"millon\", \"millon\", \"millon\", \"millon\", \"mism\", \"mism\", \"mism\", \"mism\", \"mism\", \"mocion\", \"modern\", \"monarc\", \"montai\", \"moss\", \"much\", \"much\", \"much\", \"much\", \"much\", \"muj\", \"muj\", \"muj\", \"muj\", \"muj\", \"mund\", \"mund\", \"mund\", \"mund\", \"mund\", \"music\", \"music\", \"musical\", \"nacional\", \"nacional\", \"nacional\", \"nacional\", \"nacional\", \"narrat\", \"non\", \"noved\", \"noved\", \"noved\", \"noved\", \"noved\", \"novel\", \"nuev\", \"nuev\", \"nuev\", \"nuev\", \"nuev\", \"obra\", \"obra\", \"obra\", \"obra\", \"of\", \"oms\", \"ope\", \"oper\", \"oper\", \"oper\", \"oper\", \"pabl\", \"pabl\", \"pabl\", \"pabl\", \"pacient\", \"pact\", \"pact\", \"pact\", \"pact\", \"pact\", \"pag\", \"pag\", \"pag\", \"pag\", \"pag\", \"palestin\", \"palestin\", \"pandemi\", \"pandemi\", \"pandemi\", \"pandemi\", \"parec\", \"parec\", \"parec\", \"parec\", \"parec\", \"parlament\", \"parlament\", \"parlamentari\", \"parlamentari\", \"part\", \"part\", \"part\", \"part\", \"part\", \"pas\", \"pas\", \"pas\", \"pas\", \"pas\", \"pcr\", \"pedr\", \"pedr\", \"pedr\", \"pedr\", \"pedr\", \"pelicul\", \"penal\", \"penal\", \"penal\", \"pens\", \"pens\", \"pens\", \"pens\", \"pens\", \"pensamient\", \"pentecostal\", \"perdert\", \"person\", \"person\", \"person\", \"person\", \"person\", \"personaj\", \"personaj\", \"pib\", \"plan\", \"plan\", \"plan\", \"plan\", \"plan\", \"planet\", \"pnv\", \"pnv\", \"pod\", \"pod\", \"pod\", \"pod\", \"pod\", \"polic\", \"polic\", \"polic\", \"policial\", \"policial\", \"policial\", \"polit\", \"polit\", \"polit\", \"polit\", \"polit\", \"popul\", \"popul\", \"popul\", \"popul\", \"popul\", \"portavoz\", \"portavoz\", \"portavoz\", \"portavoz\", \"portavoz\", \"posit\", \"posit\", \"posit\", \"posit\", \"pp\", \"pp\", \"preci\", \"preci\", \"preci\", \"premi\", \"premi\", \"premi\", \"premi\", \"president\", \"president\", \"president\", \"president\", \"president\", \"prestacion\", \"prestacion\", \"presunt\", \"presunt\", \"prim\", \"prim\", \"prim\", \"prim\", \"prim\", \"prision\", \"prision\", \"prision\", \"prision\", \"proc\", \"proc\", \"proc\", \"proc\", \"proc\", \"prostitu\", \"proyect\", \"proyect\", \"proyect\", \"proyect\", \"prueb\", \"prueb\", \"prueb\", \"prueb\", \"pse\", \"pse\", \"pso\", \"pso\", \"public\", \"public\", \"public\", \"public\", \"public\", \"pued\", \"pued\", \"pued\", \"pued\", \"pued\", \"puigdemont\", \"pujol\", \"querell\", \"rebrot\", \"referendum\", \"refugi\", \"refugi\", \"rent\", \"rent\", \"rent\", \"resident\", \"resident\", \"resident\", \"resident\", \"residu\", \"respiratori\", \"rey\", \"rey\", \"rey\", \"rey\", \"riv\", \"riv\", \"riv\", \"riv\", \"sab\", \"sab\", \"sab\", \"sab\", \"sab\", \"salari\", \"salari\", \"salari\", \"salud\", \"salud\", \"salud\", \"salud\", \"salud\", \"san\", \"san\", \"san\", \"san\", \"san\", \"sanchez\", \"sanchez\", \"sanchez\", \"sanchez\", \"sanitari\", \"sanitari\", \"sanitari\", \"sars\", \"sector\", \"sector\", \"sector\", \"sector\", \"segun\", \"segun\", \"segun\", \"segun\", \"segun\", \"sem\", \"sem\", \"sem\", \"sem\", \"sem\", \"ser\", \"ser\", \"ser\", \"ser\", \"ser\", \"servici\", \"servici\", \"servici\", \"servici\", \"servici\", \"sexual\", \"sexual\", \"sexual\", \"si\", \"si\", \"si\", \"si\", \"si\", \"sigl\", \"sigl\", \"sigl\", \"sigl\", \"sintom\", \"sintom\", \"situacion\", \"situacion\", \"situacion\", \"situacion\", \"situacion\", \"soci\", \"soci\", \"soci\", \"soci\", \"soci\", \"social\", \"social\", \"social\", \"social\", \"social\", \"sol\", \"sol\", \"sol\", \"sol\", \"sol\", \"sostenibil\", \"sto\", \"subsidi\", \"subsidi\", \"subvencion\", \"subvencion\", \"subvencion\", \"sue\\u00f1\", \"suiz\", \"suiz\", \"sumari\", \"suprem\", \"suprem\", \"tell\", \"test\", \"test\", \"testig\", \"testig\", \"testig\", \"the\", \"the\", \"tiemp\", \"tiemp\", \"tiemp\", \"tiemp\", \"tiemp\", \"trabaj\", \"trabaj\", \"trabaj\", \"trabaj\", \"trabaj\", \"trans\", \"transmision\", \"transmision\", \"tribunal\", \"tribunal\", \"tribunal\", \"trump\", \"trump\", \"turism\", \"turism\", \"turism\", \"txitx\", \"uci\", \"udef\", \"ultim\", \"ultim\", \"ultim\", \"ultim\", \"ultim\", \"unid\", \"unid\", \"unid\", \"unid\", \"unid\", \"urbanist\", \"urjc\", \"urkullu\", \"urkullu\", \"urnas\", \"vacun\", \"vacun\", \"vez\", \"vez\", \"vez\", \"vez\", \"vez\", \"vid\", \"vid\", \"vid\", \"vid\", \"vid\", \"videojueg\", \"villarej\", \"virus\", \"viv\", \"viv\", \"viv\", \"viv\", \"viv\", \"viviend\", \"viviend\", \"viviend\", \"viviend\", \"viviend\", \"vot\", \"votacion\", \"votant\", \"vox\"]}, \"R\": 30, \"lambda.step\": 0.01, \"plot.opts\": {\"xlab\": \"PC1\", \"ylab\": \"PC2\"}, \"topic.order\": [2, 5, 1, 3, 4]};\n",
       "\n",
       "function LDAvis_load_lib(url, callback){\n",
       "  var s = document.createElement('script');\n",
       "  s.src = url;\n",
       "  s.async = true;\n",
       "  s.onreadystatechange = s.onload = callback;\n",
       "  s.onerror = function(){console.warn(\"failed to load library \" + url);};\n",
       "  document.getElementsByTagName(\"head\")[0].appendChild(s);\n",
       "}\n",
       "\n",
       "if(typeof(LDAvis) !== \"undefined\"){\n",
       "   // already loaded: just create the visualization\n",
       "   !function(LDAvis){\n",
       "       new LDAvis(\"#\" + \"ldavis_el1749624191554752486900496961\", ldavis_el1749624191554752486900496961_data);\n",
       "   }(LDAvis);\n",
       "}else if(typeof define === \"function\" && define.amd){\n",
       "   // require.js is available: use it to load d3/LDAvis\n",
       "   require.config({paths: {d3: \"https://d3js.org/d3.v5\"}});\n",
       "   require([\"d3\"], function(d3){\n",
       "      window.d3 = d3;\n",
       "      LDAvis_load_lib(\"https://cdn.jsdelivr.net/gh/bmabey/pyLDAvis@3.4.0/pyLDAvis/js/ldavis.v3.0.0.js\", function(){\n",
       "        new LDAvis(\"#\" + \"ldavis_el1749624191554752486900496961\", ldavis_el1749624191554752486900496961_data);\n",
       "      });\n",
       "    });\n",
       "}else{\n",
       "    // require.js not available: dynamically load d3 & LDAvis\n",
       "    LDAvis_load_lib(\"https://d3js.org/d3.v5.js\", function(){\n",
       "         LDAvis_load_lib(\"https://cdn.jsdelivr.net/gh/bmabey/pyLDAvis@3.4.0/pyLDAvis/js/ldavis.v3.0.0.js\", function(){\n",
       "                 new LDAvis(\"#\" + \"ldavis_el1749624191554752486900496961\", ldavis_el1749624191554752486900496961_data);\n",
       "            })\n",
       "         });\n",
       "}\n",
       "</script>"
      ],
      "text/plain": [
       "PreparedData(topic_coordinates=              x         y  topics  cluster       Freq\n",
       "topic                                                \n",
       "1      0.062973  0.152843       1        1  27.570297\n",
       "4     -0.122469  0.026043       2        1  21.699122\n",
       "0      0.053082 -0.014309       3        1  18.256141\n",
       "2      0.119787 -0.104368       4        1  16.689697\n",
       "3     -0.113373 -0.060209       5        1  15.784743, topic_info=             Term          Freq         Total Category  logprob  loglift\n",
       "289   coronavirus   6796.000000   6796.000000  Default  30.0000  30.0000\n",
       "1439       empres   4290.000000   4290.000000  Default  29.0000  29.0000\n",
       "1445          eur   4281.000000   4281.000000  Default  28.0000  28.0000\n",
       "387       gobiern  10660.000000  10660.000000  Default  27.0000  27.0000\n",
       "151            pp   4991.000000   4991.000000  Default  26.0000  26.0000\n",
       "...           ...           ...           ...      ...      ...      ...\n",
       "297           deb   1165.762003   6007.244433   Topic5  -5.8549   0.2065\n",
       "444         mayor   1144.679699   5873.585134   Topic5  -5.8732   0.2108\n",
       "518          pued   1221.764992  10281.733073   Topic5  -5.8080  -0.2839\n",
       "673        inform   1121.890910   8058.197007   Topic5  -5.8933  -0.1255\n",
       "1084         soci   1105.793473   7511.156489   Topic5  -5.9078  -0.0697\n",
       "\n",
       "[434 rows x 6 columns], token_table=      Topic      Freq        Term\n",
       "term                             \n",
       "5496      3  0.993394         10n\n",
       "0         3  0.997657     abascal\n",
       "4376      3  0.995777  abstencion\n",
       "748       1  0.108457       activ\n",
       "748       2  0.411616       activ\n",
       "...     ...       ...         ...\n",
       "2006      5  0.949470     viviend\n",
       "199       3  0.999575         vot\n",
       "4097      3  0.997213    votacion\n",
       "2917      3  0.996898      votant\n",
       "200       3  0.999147         vox\n",
       "\n",
       "[983 rows x 3 columns], R=30, lambda_step=0.01, plot_opts={'xlab': 'PC1', 'ylab': 'PC2'}, topic_order=[2, 5, 1, 3, 4])"
      ]
     },
     "execution_count": 80,
     "metadata": {},
     "output_type": "execute_result"
    }
   ],
   "source": [
    "# solo requerimos el modelo-LDA, el corpus (diccionario idx-freq) y el diccionario id2word\n",
    "vis = pyLDAvis.gensim.prepare(lda_model5, bow, dictionary)\n",
    "\n",
    "vis"
   ]
  },
  {
   "cell_type": "markdown",
   "id": "a84233f2",
   "metadata": {},
   "source": [
    "Vemos que con 5 están bastante independinetes cada tópico y está bien, para un caso basntante genérico.\n",
    "\n",
    "Pero tal vez podría intentarse con valores más grandes, en particular el de 10 tópicos..."
   ]
  },
  {
   "cell_type": "markdown",
   "id": "9d49aa76",
   "metadata": {},
   "source": [
    "# Pregunta - 14:"
   ]
  },
  {
   "cell_type": "markdown",
   "id": "c69d8ca9",
   "metadata": {},
   "source": [
    "<<<< Incluyen sus concluiones finales >>>>"
   ]
  },
  {
   "cell_type": "code",
   "execution_count": null,
   "id": "24ae1c8c",
   "metadata": {},
   "outputs": [],
   "source": []
  },
  {
   "cell_type": "code",
   "execution_count": null,
   "id": "f1992a73",
   "metadata": {},
   "outputs": [],
   "source": []
  }
 ],
 "metadata": {
  "kernelspec": {
   "display_name": "Python 3 (ipykernel)",
   "language": "python",
   "name": "python3"
  },
  "language_info": {
   "codemirror_mode": {
    "name": "ipython",
    "version": 3
   },
   "file_extension": ".py",
   "mimetype": "text/x-python",
   "name": "python",
   "nbconvert_exporter": "python",
   "pygments_lexer": "ipython3",
   "version": "3.9.13"
  }
 },
 "nbformat": 4,
 "nbformat_minor": 5
}
