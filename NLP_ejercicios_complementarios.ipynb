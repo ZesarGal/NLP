{
  "nbformat": 4,
  "nbformat_minor": 0,
  "metadata": {
    "colab": {
      "provenance": []
    },
    "kernelspec": {
      "name": "python3",
      "display_name": "Python 3"
    },
    "language_info": {
      "name": "python"
    }
  },
  "cells": [
    {
      "cell_type": "markdown",
      "source": [
        "##**Cadena de caracteres (String)**"
      ],
      "metadata": {
        "id": "wpgrXL1nQ50n"
      }
    },
    {
      "cell_type": "markdown",
      "source": [
        "Para el procesamiento y análisis de documentos de texto, uno de los tipos de datos más usuales es la cadena de caracteres, o \"string\" por su nombre en inglés. Es común también en español referirnos a este tipo de datos simplemente como \"string\".\n",
        "\n",
        "La manera estándar de introducir una frase es mediante dobles comillas:\n",
        "\n"
      ],
      "metadata": {
        "id": "OR5_keKxcivo"
      }
    },
    {
      "cell_type": "code",
      "source": [
        "doc = \"Vine a Comala porque me dijeron que acá vivía mi padre, un tal Pedro Páramo. Mi madre me lo dijo.\" \n",
        "\n",
        "doc  # es un String (str)"
      ],
      "metadata": {
        "id": "PLAJI7eEPSBG"
      },
      "execution_count": null,
      "outputs": []
    },
    {
      "cell_type": "code",
      "source": [
        "type(doc)   # Podemos verificar el tipo de dato de cualquier objeto de Python con esta función."
      ],
      "metadata": {
        "id": "Zar2O9_SvM2s"
      },
      "execution_count": null,
      "outputs": []
    },
    {
      "cell_type": "code",
      "source": [
        "doc[3]  # podemos tener acceso a cada caracter individual, los cuales están indexados a partir del primer caracter que incia con 0."
      ],
      "metadata": {
        "id": "ni5SrmKeTK9u"
      },
      "execution_count": null,
      "outputs": []
    },
    {
      "cell_type": "code",
      "source": [
        "doc[:9]   # la notación de \":\" nos permite definir un rango, en este caso del índice 0 al 8 (9-1)."
      ],
      "metadata": {
        "id": "Pk1kR0CxTPBb"
      },
      "execution_count": null,
      "outputs": []
    },
    {
      "cell_type": "code",
      "source": [
        "doc[-1]   # también podemos usar índices negativos..."
      ],
      "metadata": {
        "id": "NhfLhE6vTtzL"
      },
      "execution_count": null,
      "outputs": []
    },
    {
      "cell_type": "code",
      "source": [
        "doc[-8:-1]"
      ],
      "metadata": {
        "id": "0bxgRDEqTh0d"
      },
      "execution_count": null,
      "outputs": []
    },
    {
      "cell_type": "code",
      "source": [
        "len(doc) # podemos obtener el total de caracteres... reucerda que los espacios en blanco también son caracteres."
      ],
      "metadata": {
        "id": "N8ZVFBiZQ_Oh"
      },
      "execution_count": null,
      "outputs": []
    },
    {
      "cell_type": "code",
      "source": [
        "doc.lower()   # podemos transformar todo a minúsculas..."
      ],
      "metadata": {
        "id": "sz_8pGquRJp_"
      },
      "execution_count": null,
      "outputs": []
    },
    {
      "cell_type": "code",
      "source": [
        "doc.upper()    # o todo a mayúsculas."
      ],
      "metadata": {
        "id": "HjXi2prewvtq"
      },
      "execution_count": null,
      "outputs": []
    },
    {
      "cell_type": "code",
      "source": [
        "# Podemos hacer algunas operaciones entre strings:\n",
        "\n",
        "x = \"Hola\"\n",
        "y = 'mundo'\n",
        "\n",
        "x + ' ' + y\n",
        "\n"
      ],
      "metadata": {
        "id": "iRc6BuW6VHsQ"
      },
      "execution_count": null,
      "outputs": []
    },
    {
      "cell_type": "markdown",
      "source": [
        "También se pueden usar comillas sencillas para definir una cadena de caracteres o string:"
      ],
      "metadata": {
        "id": "JN2B1aqTxqNA"
      }
    },
    {
      "cell_type": "code",
      "source": [
        "w = '¡Buenos días, Señor Sol!'\n",
        "\n",
        "w"
      ],
      "metadata": {
        "id": "EZpRcL_wXWIe"
      },
      "execution_count": null,
      "outputs": []
    },
    {
      "cell_type": "markdown",
      "source": [
        "Sin embargo, si dentro del enunciado se requieren usar comillas sencillas, no podemos usarlas con el mismo tipo de comillas del string porque se genera un error de sintaxis. \n",
        "\n",
        "Así, en el caso de que el enunciado requiera el uso de comillas, se puede proceder de cualquiera de las formas que se muestran en el ejemplo siguiente:"
      ],
      "metadata": {
        "id": "4dYulpkEyVU5"
      }
    },
    {
      "cell_type": "code",
      "source": [
        "t1 = \"Y me preguntó, '¿qué te pasó?', a lo cual no supe contestar.\"   # intenta ejecutar esta instrucción usando solamente comillas sencillas\"\n",
        "\n",
        "t2 = 'Y me preguntó, \"¿qué te pasó?\", a lo cual no supe contestar.'\n",
        "\n",
        "t3 = 'Y me preguntó, \\'¿qué te pasó?\\', a lo cual no supe contestar.'\n",
        "\n",
        "print(t1)\n",
        "print(t2)\n",
        "print(t3)"
      ],
      "metadata": {
        "id": "GzGKKwolx--C"
      },
      "execution_count": null,
      "outputs": []
    },
    {
      "cell_type": "markdown",
      "source": [
        "##**Listas y segmentación con Python: split(), strip()**"
      ],
      "metadata": {
        "id": "LSKexgxmtjYO"
      }
    },
    {
      "cell_type": "markdown",
      "source": [
        "Puedes encontrar más información en la documentación de los métodos \"split()\" y \"strip()\" de Python, en las siguientes ligas:\n",
        "\n",
        "https://python-reference.readthedocs.io/en/latest/docs/str/split.html \n",
        "\n",
        "https://python-reference.readthedocs.io/en/latest/docs/str/strip.html \n",
        "\n",
        "Al aplicar el método \"split()\" obtenemos una lista de strings y al aplicar el método \"strip()\" obtenemos un string."
      ],
      "metadata": {
        "id": "tTwXaC8QstX7"
      }
    },
    {
      "cell_type": "code",
      "execution_count": null,
      "metadata": {
        "id": "TiAucTxYltCW"
      },
      "outputs": [],
      "source": [
        "# Definamos el siguiente string con el siguiente poema infantil-\n",
        "# Observa que estamos utilizando el salto de línea (new line) \"\\n\":\n",
        "\n",
        "doc = \"Aquel caracol\\nQue va por el sol\\nEn cada ramita\\nLleva una flor.\\n\\nQue viva la gracia\\nQue viva el amor\\nQue viva la gracia\\nDe aquel caracol.\"\n",
        "\n",
        "print(doc)\n"
      ]
    },
    {
      "cell_type": "code",
      "source": [
        "len(doc)"
      ],
      "metadata": {
        "id": "4MY62a1elLbW"
      },
      "execution_count": null,
      "outputs": []
    },
    {
      "cell_type": "code",
      "source": [
        "milista = doc.split()   # Como valor predeterminado separa por espacios en blanco \" \" y saltos de línea \"\\n\".\n",
        "\n",
        "milista  # Ahora tenemos una lista, la cual se identifica por las corcheas al inicio y al final de la lista de strings."
      ],
      "metadata": {
        "id": "cKY0uWwIpNJy"
      },
      "execution_count": null,
      "outputs": []
    },
    {
      "cell_type": "code",
      "source": [
        "len(milista)   # Este es el total de palabras (tokens) que tenemos en esta lista."
      ],
      "metadata": {
        "id": "zqZ92mxylPgW"
      },
      "execution_count": null,
      "outputs": []
    },
    {
      "cell_type": "code",
      "source": [
        "milista[1]    # Y podemos accesar cada palabra (token) de la lista con el índice correspondiente."
      ],
      "metadata": {
        "id": "iSfA7qLh0cus"
      },
      "execution_count": null,
      "outputs": []
    },
    {
      "cell_type": "code",
      "source": [
        "type(milista)   # Recuerda que también puedes verificar el tipo de dato con esta instrucción."
      ],
      "metadata": {
        "id": "d5ngMgfYvf80"
      },
      "execution_count": null,
      "outputs": []
    },
    {
      "cell_type": "markdown",
      "source": [
        "Regresando con la cadena de caracteres (string) y para entender mejor la manera en que puede aplicarse el método \"split()\", podemos aplicar las siguientes variantes:"
      ],
      "metadata": {
        "id": "uhn6OLCB8R5i"
      }
    },
    {
      "cell_type": "code",
      "source": [
        "doc.split('\\n')   # Si segmentamos por salto de línea de manera explícita, los espacios en blanco ya no se toman en cuenta."
      ],
      "metadata": {
        "id": "XEKP3CmZqOFU"
      },
      "execution_count": null,
      "outputs": []
    },
    {
      "cell_type": "code",
      "source": [
        "doc.split(' ')    # O bien separar solamente por espacios en blanco."
      ],
      "metadata": {
        "id": "0v-24syFqtXa"
      },
      "execution_count": null,
      "outputs": []
    },
    {
      "cell_type": "code",
      "source": [
        "doc.split('el')   # Pero en general podemos separar con respecto a cualquier caracter o cadena de caracteres que indiquemos..."
      ],
      "metadata": {
        "id": "dvTY6ogIqzeD"
      },
      "execution_count": null,
      "outputs": []
    },
    {
      "cell_type": "code",
      "source": [
        "doc.split(' ', 4)   # Se puede indicar un máximo de separaciones a aplicar con el separador en cuestión."
      ],
      "metadata": {
        "id": "sOPynldBrsI1"
      },
      "execution_count": null,
      "outputs": []
    },
    {
      "cell_type": "code",
      "source": [
        "doc.upper().split()    # También podemos hacer algunas combinaciones de métodos..."
      ],
      "metadata": {
        "id": "PEieh9Kk6uTz"
      },
      "execution_count": null,
      "outputs": []
    },
    {
      "cell_type": "markdown",
      "source": [
        "También podemos eliminar espacios en blanco al inicio o al final de una frase, lo cual es un caso muy común cuando se analizan documentos de texto."
      ],
      "metadata": {
        "id": "w-7I7M4U2GjY"
      }
    },
    {
      "cell_type": "code",
      "source": [
        "# Se pueden omitir espacios en blanco al principio o final de un string, mientras\n",
        "# no haya algún tipo de caracter antes o después:\n",
        "\n",
        "txt = \"                    Hola      mundo      .   \"\n",
        "\n",
        "x = txt.strip(' ')"
      ],
      "metadata": {
        "id": "BVbQwo-R8kC0"
      },
      "execution_count": null,
      "outputs": []
    },
    {
      "cell_type": "code",
      "source": [
        "txt    # string original"
      ],
      "metadata": {
        "id": "YN9I8t9o2ZcL"
      },
      "execution_count": null,
      "outputs": []
    },
    {
      "cell_type": "code",
      "source": [
        "x   # se omiten los espacios en blanco, pero solo al inicio y al final del string."
      ],
      "metadata": {
        "id": "7DehZZXz2bMk"
      },
      "execution_count": null,
      "outputs": []
    },
    {
      "cell_type": "code",
      "source": [
        "type(x)    # En este caso tenemos un solo string."
      ],
      "metadata": {
        "id": "PE9q4LWFpd0k"
      },
      "execution_count": null,
      "outputs": []
    },
    {
      "cell_type": "code",
      "source": [
        "txt.find('o')   # Nos regresa el índice de la primera aparición del caracter indicado."
      ],
      "metadata": {
        "id": "ifpJoFEF_8y-"
      },
      "execution_count": null,
      "outputs": []
    },
    {
      "cell_type": "code",
      "source": [
        "\n",
        "'!!¡!¡¡hola¡¡¡!!!¡!!!'.strip('¡!')    # puedes indicar caracteres que se irán quitando tanto del inicio como del final de manera iterativa."
      ],
      "metadata": {
        "id": "Uyx1sSor_HU2"
      },
      "execution_count": null,
      "outputs": []
    },
    {
      "cell_type": "markdown",
      "source": [
        "###También tenemos el método \"splitlines()\" para separar por saltos de línea. Veamos un ejemplo:"
      ],
      "metadata": {
        "id": "qbbcKTVC2heS"
      }
    },
    {
      "cell_type": "code",
      "source": [
        "txt ='Hola mundo de terrícolas\\nHemos llegado a visitarlos\\nSaludos\\n'\n",
        "\n",
        "# Observa la diferencia entre ambas salidas:\n",
        "\n",
        "print(txt)\n",
        "\n",
        "txt"
      ],
      "metadata": {
        "id": "5-CjUi6318lu"
      },
      "execution_count": null,
      "outputs": []
    },
    {
      "cell_type": "code",
      "source": [
        "print('Separando por espacios en blanco y saltos de línea con split:\\n\\t', txt.split())\n",
        "\n",
        "print('\\nSeparando solo por saltos de línea con splitlines:\\n\\t', txt.splitlines())"
      ],
      "metadata": {
        "id": "TydKZ7kP3KzS"
      },
      "execution_count": null,
      "outputs": []
    },
    {
      "cell_type": "markdown",
      "source": [
        "##**replace()**\n",
        "\n",
        "Recuerda siempre consultar la documentación correspondiente para obtener más información de cualquier función o método.\n",
        "\n",
        "En particular para el método \"replace\" de una cadena de caracteres (String) puedes consultar esta documentación:\n",
        "\n",
        "https://www.w3schools.com/python/ref_string_replace.asp "
      ],
      "metadata": {
        "id": "4do2UxqE50Hg"
      }
    },
    {
      "cell_type": "code",
      "source": [
        "doc.replace('a', 'A').split()    # podemos sustituir un string por otro que se indique en una cadena de caracteres."
      ],
      "metadata": {
        "id": "v7HWz5D5BI5z"
      },
      "execution_count": null,
      "outputs": []
    },
    {
      "cell_type": "markdown",
      "source": [
        "##**join()**\n",
        "\n",
        "En un String podemos unir los elementos indicados en su argumento mediante el string indicado.\n",
        "\n",
        "Este método nos será más útil al aplicarlo a una lista. Veamos algunos ejemplos:[texto del enlace](https://)\n"
      ],
      "metadata": {
        "id": "RVnN-MzP6bSy"
      }
    },
    {
      "cell_type": "code",
      "source": [
        "txt = 'Hola'   # Podemos aplicar el método a un String donde cada caracter del argumento \"Hola\" \n",
        "               # se une con el string o caracter indicado entre las comillas.\n",
        "'-'.join(txt)"
      ],
      "metadata": {
        "id": "vHwDuqjnCo4Q"
      },
      "execution_count": null,
      "outputs": []
    },
    {
      "cell_type": "code",
      "source": [
        "# Sin embargo, se obtienen resultados más útiles con otro tipo de datos, como una lista de strings:\n",
        "\n",
        "unalista = ['Mucha','luz','es','como','mucha','sombra','no','deja','ver','Octavio','Paz']\n",
        "unalista"
      ],
      "metadata": {
        "id": "ypBBtNuRC0R3"
      },
      "execution_count": null,
      "outputs": []
    },
    {
      "cell_type": "code",
      "source": [
        "u = ' '.join(unalista)   # Y podemos conjuntar ahora los elementos de la lista de strings separándolos con un espacio en blanco,\n",
        "                         # para obtener un solo string.\n",
        "\n",
        "u    # string"
      ],
      "metadata": {
        "id": "SZ0jC9IOEmlD"
      },
      "execution_count": null,
      "outputs": []
    },
    {
      "cell_type": "markdown",
      "source": [
        "##**find() y findall()**\n",
        "\n",
        "Estos métodos encuentran un patrón o patrones de caracteres indicados. \n",
        "\n",
        "https://pandas.pydata.org/docs/reference/api/pandas.Series.str.find.html\n",
        "\n",
        "https://pandas.pydata.org/docs/reference/api/pandas.Series.str.findall.html"
      ],
      "metadata": {
        "id": "Lru7zVMhVrvI"
      }
    },
    {
      "cell_type": "markdown",
      "source": [
        "###**También podemos usar el método find() en un String.** \n",
        "\n",
        "Veamos algún par de ejemplos, con la siguiente frase de Octavio Paz:"
      ],
      "metadata": {
        "id": "e0G4Nfabxwgl"
      }
    },
    {
      "cell_type": "code",
      "source": [
        "op = 'Mucha luz es como mucha sombra, no deja ver.'"
      ],
      "metadata": {
        "id": "sA9esJWFx9yz"
      },
      "execution_count": null,
      "outputs": []
    },
    {
      "cell_type": "code",
      "source": [
        "op.find('mucha')    # Recuerda que mayúsculas y minúsculas son caracteres diferentes."
      ],
      "metadata": {
        "id": "sW4GowZnzwvC"
      },
      "execution_count": null,
      "outputs": []
    },
    {
      "cell_type": "code",
      "source": [
        "op.lower().find('mucha')"
      ],
      "metadata": {
        "id": "fWMVQ4u1y2eW"
      },
      "execution_count": null,
      "outputs": []
    },
    {
      "cell_type": "code",
      "source": [
        "op.lower().find('mucha', 1)   # Si deseamos encontrar la segunda coincidencia de \"mucha\", en este caso \n",
        "                              # debemos realizar la búsqueda a partir del índice 1 y no del 0."
      ],
      "metadata": {
        "id": "Bod4pdVp0J1z"
      },
      "execution_count": null,
      "outputs": []
    },
    {
      "cell_type": "code",
      "source": [
        "op.lower().rfind('mucha')     # O bien, podemos realizar la búsqueda en orden inverso: \"reverse find\"."
      ],
      "metadata": {
        "id": "v9RVhZGJzPKf"
      },
      "execution_count": null,
      "outputs": []
    },
    {
      "cell_type": "markdown",
      "source": [
        "##**Podemos separar una oración con respecto a sus palabras, caracteres especiales y signos de puntuación.**\n",
        "\n",
        "### Por ejemplo:"
      ],
      "metadata": {
        "id": "xgNZ2YWyhpVz"
      }
    },
    {
      "cell_type": "code",
      "source": [
        "import re"
      ],
      "metadata": {
        "id": "OhwA8acrjH9o"
      },
      "execution_count": null,
      "outputs": []
    },
    {
      "cell_type": "code",
      "source": [
        "X = \"-¿Qué eres? -Definirse es limitarse.\""
      ],
      "metadata": {
        "id": "GGYpIB6ihqdC"
      },
      "execution_count": null,
      "outputs": []
    },
    {
      "cell_type": "code",
      "source": [
        "x = re.split(r' ', X)  # Separa con respecto a los espacios en blanco.\n",
        "x"
      ],
      "metadata": {
        "id": "7qGHUIx0hrtI"
      },
      "execution_count": null,
      "outputs": []
    },
    {
      "cell_type": "code",
      "source": [
        "# O bien, si tenemos una frase en dos renglones:\n",
        "X = \"\"\"-¿Qué eres?\n",
        "-Definirse es limitarse. Lao-Tse\"\"\""
      ],
      "metadata": {
        "id": "jY92eEWFhrpg"
      },
      "execution_count": null,
      "outputs": []
    },
    {
      "cell_type": "code",
      "source": [
        "x1 = re.split(r' ', X)  # Separa con respecto a los espacios en blanco.\n",
        "x2 = re.split(r'[\\n]', X)  # salto de línea.\n",
        "x3 = re.split(r'[ \\n]', X)  # espacios en blanco o salto de línea.\n",
        "x4 = re.split(r'[-]', X)  # por el caracter \"-\" ... agrega un caracter vacío...\n",
        "x5 = re.split(r'[ \\n-]', X)\n",
        "x6 = re.split(r'\\W+', X)   # separamos con respecto a todo lo que no sea palabra: espacios en blanco, \"-\", signos de interrogación, el punto y seguido, en este caso.\n",
        "\n",
        "x7 = re.findall(r'\\w+', X)  # ... ahora sí, haciendo la búsqueda con respecto a las palabras :)\n",
        "\n",
        "print('1:',x1)\n",
        "print('2 ',x2)\n",
        "print('3 ',x3)\n",
        "print('4 ',x4)\n",
        "print('5 ',x5)\n",
        "print('6 ',x6)\n",
        "print('7 ',x7)"
      ],
      "metadata": {
        "id": "Qr0VPDjvh4c-"
      },
      "execution_count": null,
      "outputs": []
    },
    {
      "cell_type": "markdown",
      "source": [
        "### Veamos un ejemplo estándar para el caso del idioma inglés:"
      ],
      "metadata": {
        "id": "WbDTDpTfiD7K"
      }
    },
    {
      "cell_type": "code",
      "source": [
        "Y = \"To say 'I don't have time', is like saying, 'I don't want to'. -Lao-Tzu\""
      ],
      "metadata": {
        "id": "bo63NR8vh4Y_"
      },
      "execution_count": null,
      "outputs": []
    },
    {
      "cell_type": "code",
      "source": [
        "y1 = re.findall(r\"\\w+\", Y)  # Se tiene el inconveniente de que \"don't\" quedó separado, lo mismo que el nombre de Lao-Tzu.\n",
        "y2 = re.findall(r\"\\w+|\\S\\w*\", Y)  # primero busca palabras, de lo contrario todo lo que no sea espacio en blanco, seguido tal vez de palabras.\n",
        "y3 = re.findall(r\"\\w+(?:['-]\\w+)*\", Y) # Si no agregamos \"?:\" no se obtiene lo deseado, ya que los paréntesis () tienen como segunda función \n",
        "                                       # buscar lo que está dentro, haciendo match con lo de afuera y una vez localizado solo extrae lo de adentro.\n",
        "                                       # Así, esta última instrucción es la que extrae como tokens las negaciones con sus contracciones\n",
        "                                       # y el nombre de Lao-Tzu, como una sola entidad.... Quita \"?:\" y observa lo que queda.\n",
        "\n",
        "print(y1)\n",
        "print(y2)\n",
        "print(y3)"
      ],
      "metadata": {
        "id": "XiVPnMQ6iKoL"
      },
      "execution_count": null,
      "outputs": []
    },
    {
      "cell_type": "markdown",
      "source": [
        "###**La combinación ?: con paréntesis redondos y findall**"
      ],
      "metadata": {
        "id": "WUJxzhoIiWGc"
      }
    },
    {
      "cell_type": "code",
      "source": [
        "re.findall(r\"\\w+(ing|ed)\", \"cat playing red\")   # El paréntesis introduce prioridad y por lo tanto inicia buscando lo que haga match \n",
        "                                         # con \"ing\" o con \"ed\", además de con lo que está afuera y una vez que lo encuentra, \n",
        "                                         # se termina y da como salida solo lo que encontró dentro del paréntesis.\n",
        "                                         # Si nada hace match dentro del paréntesis, regresa vacío."
      ],
      "metadata": {
        "id": "Z_yN8QWJia9Y"
      },
      "execution_count": null,
      "outputs": []
    },
    {
      "cell_type": "code",
      "source": [
        "re.findall(r\"\\w+(?:ing|ed)\", \"cat playing red\") # La combinación \"?:\" cancela la instrucción de que una vez encontrado el match (en dado caso)\n",
        "                                                # dentro y fuera del paréntesis, regrese solo lo que está dentro, sino que regrese todo\n",
        "                                                # lo que hizo match."
      ],
      "metadata": {
        "id": "0zCIws2Qia1m"
      },
      "execution_count": null,
      "outputs": []
    },
    {
      "cell_type": "markdown",
      "source": [
        "Recuerda que no existe una única manera de resolver los ejemplos anteriores y tú puedes proponer algunas otras formas."
      ],
      "metadata": {
        "id": "6EXU4ZNiZZUP"
      }
    },
    {
      "cell_type": "markdown",
      "source": [
        "###**Fin del los ejercicios complementarios para practicar de la Semana 2**"
      ],
      "metadata": {
        "id": "ymmsttwf4ky3"
      }
    }
  ]
}