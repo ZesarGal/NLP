{
  "nbformat": 4,
  "nbformat_minor": 0,
  "metadata": {
    "colab": {
      "provenance": []
    },
    "kernelspec": {
      "name": "python3",
      "display_name": "Python 3"
    }
  },
  "cells": [
    {
      "cell_type": "markdown",
      "source": [
        "#**Actividad 5 **\n",
        "\n",
        "Curso MNA- NLP\n",
        "\n",
        "Dr. Julio César Galindo\n",
        "\n",
        "Vectores embebidos FasText para clasificación (Sentiment analysis)"
      ],
      "metadata": {
        "id": "GM4TDiriwTrb"
      }
    },
    {
      "cell_type": "code",
      "metadata": {
        "id": "wCL2p6MA8NuT"
      },
      "source": [
        "import pandas as pd\n",
        "import numpy as np\n",
        "\n",
        "import nltk\n",
        "from nltk.corpus import stopwords\n",
        "\n",
        "import re\n",
        "import string"
      ],
      "execution_count": null,
      "outputs": []
    },
    {
      "cell_type": "code",
      "metadata": {
        "id": "2V1Sx5oV_8KZ",
        "colab": {
          "base_uri": "https://localhost:8080/"
        },
        "outputId": "e16a264b-446c-479b-c4e4-1b43f6b3bcec"
      },
      "source": [
        "nltk.download('punkt')    # es un tokenizador que ayuda a dividr el texto en enunciados mediante un modelo no-supervisado.\n",
        "nltk.download('stopwords')    # para tener acceso a \"stopwords\" en varios idiomas."
      ],
      "execution_count": null,
      "outputs": [
        {
          "output_type": "stream",
          "name": "stderr",
          "text": [
            "[nltk_data] Downloading package punkt to /root/nltk_data...\n",
            "[nltk_data]   Unzipping tokenizers/punkt.zip.\n",
            "[nltk_data] Downloading package stopwords to /root/nltk_data...\n",
            "[nltk_data]   Unzipping corpora/stopwords.zip.\n"
          ]
        },
        {
          "output_type": "execute_result",
          "data": {
            "text/plain": [
              "True"
            ]
          },
          "metadata": {},
          "execution_count": 3
        }
      ]
    },
    {
      "cell_type": "code",
      "source": [
        "# Veamos la lista de stopwords que se incluyen de manera predeterminada la suite de librerías de NLTK:\n",
        "\n",
        "mystopwords = stopwords.words('english')\n",
        "print(len(mystopwords))\n",
        "print(mystopwords)"
      ],
      "metadata": {
        "id": "Dk4T-Oaf99Am",
        "colab": {
          "base_uri": "https://localhost:8080/"
        },
        "outputId": "d45b3375-92ed-4283-f68a-8d5b8d810831"
      },
      "execution_count": null,
      "outputs": [
        {
          "output_type": "stream",
          "name": "stdout",
          "text": [
            "179\n",
            "['i', 'me', 'my', 'myself', 'we', 'our', 'ours', 'ourselves', 'you', \"you're\", \"you've\", \"you'll\", \"you'd\", 'your', 'yours', 'yourself', 'yourselves', 'he', 'him', 'his', 'himself', 'she', \"she's\", 'her', 'hers', 'herself', 'it', \"it's\", 'its', 'itself', 'they', 'them', 'their', 'theirs', 'themselves', 'what', 'which', 'who', 'whom', 'this', 'that', \"that'll\", 'these', 'those', 'am', 'is', 'are', 'was', 'were', 'be', 'been', 'being', 'have', 'has', 'had', 'having', 'do', 'does', 'did', 'doing', 'a', 'an', 'the', 'and', 'but', 'if', 'or', 'because', 'as', 'until', 'while', 'of', 'at', 'by', 'for', 'with', 'about', 'against', 'between', 'into', 'through', 'during', 'before', 'after', 'above', 'below', 'to', 'from', 'up', 'down', 'in', 'out', 'on', 'off', 'over', 'under', 'again', 'further', 'then', 'once', 'here', 'there', 'when', 'where', 'why', 'how', 'all', 'any', 'both', 'each', 'few', 'more', 'most', 'other', 'some', 'such', 'no', 'nor', 'not', 'only', 'own', 'same', 'so', 'than', 'too', 'very', 's', 't', 'can', 'will', 'just', 'don', \"don't\", 'should', \"should've\", 'now', 'd', 'll', 'm', 'o', 're', 've', 'y', 'ain', 'aren', \"aren't\", 'couldn', \"couldn't\", 'didn', \"didn't\", 'doesn', \"doesn't\", 'hadn', \"hadn't\", 'hasn', \"hasn't\", 'haven', \"haven't\", 'isn', \"isn't\", 'ma', 'mightn', \"mightn't\", 'mustn', \"mustn't\", 'needn', \"needn't\", 'shan', \"shan't\", 'shouldn', \"shouldn't\", 'wasn', \"wasn't\", 'weren', \"weren't\", 'won', \"won't\", 'wouldn', \"wouldn't\"]\n"
          ]
        }
      ]
    },
    {
      "cell_type": "markdown",
      "source": [
        "##**Pregunta - 1: cargamos los datos...**\n",
        "\n"
      ],
      "metadata": {
        "id": "4c34ZOnna3Gu"
      }
    },
    {
      "cell_type": "markdown",
      "source": [
        "Descarga los 3 archivos de Canvas. En particular, el archivo de datos de IMDb ya no requiere\n",
        "transformarse para obtener sus 1000 registros. Al cargar los datos de los tres archivos deberás\n",
        "tener un DataFrame de Pandas de 3000 registros, con sus etiquetas. Los archivos los encuentras en\n",
        "Canvas y se llaman: amazon5.txt, imdb5.txt, yelp5.txt.\n"
      ],
      "metadata": {
        "id": "yeNllxRdmeWg"
      }
    },
    {
      "cell_type": "code",
      "metadata": {
        "id": "1bXOeDGf9GIG",
        "colab": {
          "base_uri": "https://localhost:8080/"
        },
        "outputId": "e5f491f7-38c1-41f9-858d-ba259d0df815"
      },
      "source": [
        "# Puedes modificar en dado caso la ruta de los archivos:\n",
        "\n",
        "dfa = pd.read_csv('amazon5.txt', sep='\\t', names=['review','label'], header=None, encoding='utf-8')\n",
        "dfi = pd.read_csv('imdb5.txt', delimiter='\\t', names=['review','label'], header=None, encoding='utf-8')\n",
        "dfy = pd.read_csv('yelp5.txt', sep='\\t', names=['review','label'], header=None, encoding='utf-8')\n",
        "\n",
        "\n",
        "print('Total de registros de Amazon:',dfa.shape)\n",
        "print('Total de registros de IMBD:',dfi.shape)\n",
        "print('Total de registros de Yelp:',dfy.shape)"
      ],
      "execution_count": null,
      "outputs": [
        {
          "output_type": "stream",
          "name": "stdout",
          "text": [
            "Total de registros de Amazon: (1000, 2)\n",
            "Total de registros de IMBD: (1000, 2)\n",
            "Total de registros de Yelp: (1000, 2)\n"
          ]
        }
      ]
    },
    {
      "cell_type": "code",
      "source": [
        "dfa.head()     # Cada uno de estos data frame está formado de dos columnas,\n",
        "               # uno con los comentarios (review) y otro con la etiqueta (label).\n",
        "               # En particular aquí mostramos en el Amazon:"
      ],
      "metadata": {
        "colab": {
          "base_uri": "https://localhost:8080/",
          "height": 206
        },
        "id": "sUUzqqqKnS9U",
        "outputId": "3c3bacf3-1d15-4fa2-8589-7c35ab4a739c"
      },
      "execution_count": null,
      "outputs": [
        {
          "output_type": "execute_result",
          "data": {
            "text/plain": [
              "                                              review  label\n",
              "0  So there is no way for me to plug it in here i...      0\n",
              "1                        Good case, Excellent value.      1\n",
              "2                             Great for the jawbone.      1\n",
              "3  Tied to charger for conversations lasting more...      0\n",
              "4                                  The mic is great.      1"
            ],
            "text/html": [
              "\n",
              "  <div id=\"df-824a4c0c-325e-4c8c-aabe-51093ed2a2ff\">\n",
              "    <div class=\"colab-df-container\">\n",
              "      <div>\n",
              "<style scoped>\n",
              "    .dataframe tbody tr th:only-of-type {\n",
              "        vertical-align: middle;\n",
              "    }\n",
              "\n",
              "    .dataframe tbody tr th {\n",
              "        vertical-align: top;\n",
              "    }\n",
              "\n",
              "    .dataframe thead th {\n",
              "        text-align: right;\n",
              "    }\n",
              "</style>\n",
              "<table border=\"1\" class=\"dataframe\">\n",
              "  <thead>\n",
              "    <tr style=\"text-align: right;\">\n",
              "      <th></th>\n",
              "      <th>review</th>\n",
              "      <th>label</th>\n",
              "    </tr>\n",
              "  </thead>\n",
              "  <tbody>\n",
              "    <tr>\n",
              "      <th>0</th>\n",
              "      <td>So there is no way for me to plug it in here i...</td>\n",
              "      <td>0</td>\n",
              "    </tr>\n",
              "    <tr>\n",
              "      <th>1</th>\n",
              "      <td>Good case, Excellent value.</td>\n",
              "      <td>1</td>\n",
              "    </tr>\n",
              "    <tr>\n",
              "      <th>2</th>\n",
              "      <td>Great for the jawbone.</td>\n",
              "      <td>1</td>\n",
              "    </tr>\n",
              "    <tr>\n",
              "      <th>3</th>\n",
              "      <td>Tied to charger for conversations lasting more...</td>\n",
              "      <td>0</td>\n",
              "    </tr>\n",
              "    <tr>\n",
              "      <th>4</th>\n",
              "      <td>The mic is great.</td>\n",
              "      <td>1</td>\n",
              "    </tr>\n",
              "  </tbody>\n",
              "</table>\n",
              "</div>\n",
              "      <button class=\"colab-df-convert\" onclick=\"convertToInteractive('df-824a4c0c-325e-4c8c-aabe-51093ed2a2ff')\"\n",
              "              title=\"Convert this dataframe to an interactive table.\"\n",
              "              style=\"display:none;\">\n",
              "        \n",
              "  <svg xmlns=\"http://www.w3.org/2000/svg\" height=\"24px\"viewBox=\"0 0 24 24\"\n",
              "       width=\"24px\">\n",
              "    <path d=\"M0 0h24v24H0V0z\" fill=\"none\"/>\n",
              "    <path d=\"M18.56 5.44l.94 2.06.94-2.06 2.06-.94-2.06-.94-.94-2.06-.94 2.06-2.06.94zm-11 1L8.5 8.5l.94-2.06 2.06-.94-2.06-.94L8.5 2.5l-.94 2.06-2.06.94zm10 10l.94 2.06.94-2.06 2.06-.94-2.06-.94-.94-2.06-.94 2.06-2.06.94z\"/><path d=\"M17.41 7.96l-1.37-1.37c-.4-.4-.92-.59-1.43-.59-.52 0-1.04.2-1.43.59L10.3 9.45l-7.72 7.72c-.78.78-.78 2.05 0 2.83L4 21.41c.39.39.9.59 1.41.59.51 0 1.02-.2 1.41-.59l7.78-7.78 2.81-2.81c.8-.78.8-2.07 0-2.86zM5.41 20L4 18.59l7.72-7.72 1.47 1.35L5.41 20z\"/>\n",
              "  </svg>\n",
              "      </button>\n",
              "      \n",
              "  <style>\n",
              "    .colab-df-container {\n",
              "      display:flex;\n",
              "      flex-wrap:wrap;\n",
              "      gap: 12px;\n",
              "    }\n",
              "\n",
              "    .colab-df-convert {\n",
              "      background-color: #E8F0FE;\n",
              "      border: none;\n",
              "      border-radius: 50%;\n",
              "      cursor: pointer;\n",
              "      display: none;\n",
              "      fill: #1967D2;\n",
              "      height: 32px;\n",
              "      padding: 0 0 0 0;\n",
              "      width: 32px;\n",
              "    }\n",
              "\n",
              "    .colab-df-convert:hover {\n",
              "      background-color: #E2EBFA;\n",
              "      box-shadow: 0px 1px 2px rgba(60, 64, 67, 0.3), 0px 1px 3px 1px rgba(60, 64, 67, 0.15);\n",
              "      fill: #174EA6;\n",
              "    }\n",
              "\n",
              "    [theme=dark] .colab-df-convert {\n",
              "      background-color: #3B4455;\n",
              "      fill: #D2E3FC;\n",
              "    }\n",
              "\n",
              "    [theme=dark] .colab-df-convert:hover {\n",
              "      background-color: #434B5C;\n",
              "      box-shadow: 0px 1px 3px 1px rgba(0, 0, 0, 0.15);\n",
              "      filter: drop-shadow(0px 1px 2px rgba(0, 0, 0, 0.3));\n",
              "      fill: #FFFFFF;\n",
              "    }\n",
              "  </style>\n",
              "\n",
              "      <script>\n",
              "        const buttonEl =\n",
              "          document.querySelector('#df-824a4c0c-325e-4c8c-aabe-51093ed2a2ff button.colab-df-convert');\n",
              "        buttonEl.style.display =\n",
              "          google.colab.kernel.accessAllowed ? 'block' : 'none';\n",
              "\n",
              "        async function convertToInteractive(key) {\n",
              "          const element = document.querySelector('#df-824a4c0c-325e-4c8c-aabe-51093ed2a2ff');\n",
              "          const dataTable =\n",
              "            await google.colab.kernel.invokeFunction('convertToInteractive',\n",
              "                                                     [key], {});\n",
              "          if (!dataTable) return;\n",
              "\n",
              "          const docLinkHtml = 'Like what you see? Visit the ' +\n",
              "            '<a target=\"_blank\" href=https://colab.research.google.com/notebooks/data_table.ipynb>data table notebook</a>'\n",
              "            + ' to learn more about interactive tables.';\n",
              "          element.innerHTML = '';\n",
              "          dataTable['output_type'] = 'display_data';\n",
              "          await google.colab.output.renderOutput(dataTable, element);\n",
              "          const docLink = document.createElement('div');\n",
              "          docLink.innerHTML = docLinkHtml;\n",
              "          element.appendChild(docLink);\n",
              "        }\n",
              "      </script>\n",
              "    </div>\n",
              "  </div>\n",
              "  "
            ]
          },
          "metadata": {},
          "execution_count": 97
        }
      ]
    },
    {
      "cell_type": "code",
      "source": [
        "dfi.head()     # por alguna razón los labels de este archivo está separado por 4 tabs... habría que ver con algún\n",
        "               # argumento de pd.read_csv() el poder cargarlo directamente... mientras tanto usemos regex par ajustarlo..."
      ],
      "metadata": {
        "colab": {
          "base_uri": "https://localhost:8080/",
          "height": 206
        },
        "id": "C42b0SrfyFuJ",
        "outputId": "1759e7ae-f55b-496a-d8a3-6c05e15e57b9"
      },
      "execution_count": null,
      "outputs": [
        {
          "output_type": "execute_result",
          "data": {
            "text/plain": [
              "                                              review  label\n",
              "0  A very, very, very slow-moving, aimless movie ...    NaN\n",
              "1  Not sure who was more lost - the flat characte...    NaN\n",
              "2  Attempting artiness with black & white and cle...    NaN\n",
              "3    Very little music or anything to speak of.    0    NaN\n",
              "4  The best scene in the movie was when Gerardo i...    NaN"
            ],
            "text/html": [
              "\n",
              "  <div id=\"df-9afd92f2-6e47-4776-80b1-b984562f0340\">\n",
              "    <div class=\"colab-df-container\">\n",
              "      <div>\n",
              "<style scoped>\n",
              "    .dataframe tbody tr th:only-of-type {\n",
              "        vertical-align: middle;\n",
              "    }\n",
              "\n",
              "    .dataframe tbody tr th {\n",
              "        vertical-align: top;\n",
              "    }\n",
              "\n",
              "    .dataframe thead th {\n",
              "        text-align: right;\n",
              "    }\n",
              "</style>\n",
              "<table border=\"1\" class=\"dataframe\">\n",
              "  <thead>\n",
              "    <tr style=\"text-align: right;\">\n",
              "      <th></th>\n",
              "      <th>review</th>\n",
              "      <th>label</th>\n",
              "    </tr>\n",
              "  </thead>\n",
              "  <tbody>\n",
              "    <tr>\n",
              "      <th>0</th>\n",
              "      <td>A very, very, very slow-moving, aimless movie ...</td>\n",
              "      <td>NaN</td>\n",
              "    </tr>\n",
              "    <tr>\n",
              "      <th>1</th>\n",
              "      <td>Not sure who was more lost - the flat characte...</td>\n",
              "      <td>NaN</td>\n",
              "    </tr>\n",
              "    <tr>\n",
              "      <th>2</th>\n",
              "      <td>Attempting artiness with black &amp; white and cle...</td>\n",
              "      <td>NaN</td>\n",
              "    </tr>\n",
              "    <tr>\n",
              "      <th>3</th>\n",
              "      <td>Very little music or anything to speak of.    0</td>\n",
              "      <td>NaN</td>\n",
              "    </tr>\n",
              "    <tr>\n",
              "      <th>4</th>\n",
              "      <td>The best scene in the movie was when Gerardo i...</td>\n",
              "      <td>NaN</td>\n",
              "    </tr>\n",
              "  </tbody>\n",
              "</table>\n",
              "</div>\n",
              "      <button class=\"colab-df-convert\" onclick=\"convertToInteractive('df-9afd92f2-6e47-4776-80b1-b984562f0340')\"\n",
              "              title=\"Convert this dataframe to an interactive table.\"\n",
              "              style=\"display:none;\">\n",
              "        \n",
              "  <svg xmlns=\"http://www.w3.org/2000/svg\" height=\"24px\"viewBox=\"0 0 24 24\"\n",
              "       width=\"24px\">\n",
              "    <path d=\"M0 0h24v24H0V0z\" fill=\"none\"/>\n",
              "    <path d=\"M18.56 5.44l.94 2.06.94-2.06 2.06-.94-2.06-.94-.94-2.06-.94 2.06-2.06.94zm-11 1L8.5 8.5l.94-2.06 2.06-.94-2.06-.94L8.5 2.5l-.94 2.06-2.06.94zm10 10l.94 2.06.94-2.06 2.06-.94-2.06-.94-.94-2.06-.94 2.06-2.06.94z\"/><path d=\"M17.41 7.96l-1.37-1.37c-.4-.4-.92-.59-1.43-.59-.52 0-1.04.2-1.43.59L10.3 9.45l-7.72 7.72c-.78.78-.78 2.05 0 2.83L4 21.41c.39.39.9.59 1.41.59.51 0 1.02-.2 1.41-.59l7.78-7.78 2.81-2.81c.8-.78.8-2.07 0-2.86zM5.41 20L4 18.59l7.72-7.72 1.47 1.35L5.41 20z\"/>\n",
              "  </svg>\n",
              "      </button>\n",
              "      \n",
              "  <style>\n",
              "    .colab-df-container {\n",
              "      display:flex;\n",
              "      flex-wrap:wrap;\n",
              "      gap: 12px;\n",
              "    }\n",
              "\n",
              "    .colab-df-convert {\n",
              "      background-color: #E8F0FE;\n",
              "      border: none;\n",
              "      border-radius: 50%;\n",
              "      cursor: pointer;\n",
              "      display: none;\n",
              "      fill: #1967D2;\n",
              "      height: 32px;\n",
              "      padding: 0 0 0 0;\n",
              "      width: 32px;\n",
              "    }\n",
              "\n",
              "    .colab-df-convert:hover {\n",
              "      background-color: #E2EBFA;\n",
              "      box-shadow: 0px 1px 2px rgba(60, 64, 67, 0.3), 0px 1px 3px 1px rgba(60, 64, 67, 0.15);\n",
              "      fill: #174EA6;\n",
              "    }\n",
              "\n",
              "    [theme=dark] .colab-df-convert {\n",
              "      background-color: #3B4455;\n",
              "      fill: #D2E3FC;\n",
              "    }\n",
              "\n",
              "    [theme=dark] .colab-df-convert:hover {\n",
              "      background-color: #434B5C;\n",
              "      box-shadow: 0px 1px 3px 1px rgba(0, 0, 0, 0.15);\n",
              "      filter: drop-shadow(0px 1px 2px rgba(0, 0, 0, 0.3));\n",
              "      fill: #FFFFFF;\n",
              "    }\n",
              "  </style>\n",
              "\n",
              "      <script>\n",
              "        const buttonEl =\n",
              "          document.querySelector('#df-9afd92f2-6e47-4776-80b1-b984562f0340 button.colab-df-convert');\n",
              "        buttonEl.style.display =\n",
              "          google.colab.kernel.accessAllowed ? 'block' : 'none';\n",
              "\n",
              "        async function convertToInteractive(key) {\n",
              "          const element = document.querySelector('#df-9afd92f2-6e47-4776-80b1-b984562f0340');\n",
              "          const dataTable =\n",
              "            await google.colab.kernel.invokeFunction('convertToInteractive',\n",
              "                                                     [key], {});\n",
              "          if (!dataTable) return;\n",
              "\n",
              "          const docLinkHtml = 'Like what you see? Visit the ' +\n",
              "            '<a target=\"_blank\" href=https://colab.research.google.com/notebooks/data_table.ipynb>data table notebook</a>'\n",
              "            + ' to learn more about interactive tables.';\n",
              "          element.innerHTML = '';\n",
              "          dataTable['output_type'] = 'display_data';\n",
              "          await google.colab.output.renderOutput(dataTable, element);\n",
              "          const docLink = document.createElement('div');\n",
              "          docLink.innerHTML = docLinkHtml;\n",
              "          element.appendChild(docLink);\n",
              "        }\n",
              "      </script>\n",
              "    </div>\n",
              "  </div>\n",
              "  "
            ]
          },
          "metadata": {},
          "execution_count": 98
        }
      ]
    },
    {
      "cell_type": "code",
      "source": [
        "dfii = pd.DataFrame({\"review\":[\"review\"]*dfa.shape[0], \"label\":[\"label\"]*dfa.shape[0]})\n",
        "\n",
        "for k in range(dfii.shape[0]):\n",
        "  dfii.iloc[k,:][0] = dfi.iloc[k,:][0][0:-5]   # tiene 4 tabs de más, aunque igualmente se pueden dejar ahí y luego limpiarlo.\n",
        "  dfii.iloc[k,:][1] = float(dfi.iloc[k,:][0][-1])\n",
        "\n",
        "dfii.head()"
      ],
      "metadata": {
        "colab": {
          "base_uri": "https://localhost:8080/",
          "height": 206
        },
        "id": "_D4vNSJf3UCX",
        "outputId": "c5281998-096a-421a-90fa-3825e484fc13"
      },
      "execution_count": null,
      "outputs": [
        {
          "output_type": "execute_result",
          "data": {
            "text/plain": [
              "                                              review label\n",
              "0  A very, very, very slow-moving, aimless movie ...   0.0\n",
              "1  Not sure who was more lost - the flat characte...   0.0\n",
              "2  Attempting artiness with black & white and cle...   0.0\n",
              "3         Very little music or anything to speak of.   0.0\n",
              "4  The best scene in the movie was when Gerardo i...   1.0"
            ],
            "text/html": [
              "\n",
              "  <div id=\"df-3f6c0881-ef81-46e6-ad92-bb9519352546\">\n",
              "    <div class=\"colab-df-container\">\n",
              "      <div>\n",
              "<style scoped>\n",
              "    .dataframe tbody tr th:only-of-type {\n",
              "        vertical-align: middle;\n",
              "    }\n",
              "\n",
              "    .dataframe tbody tr th {\n",
              "        vertical-align: top;\n",
              "    }\n",
              "\n",
              "    .dataframe thead th {\n",
              "        text-align: right;\n",
              "    }\n",
              "</style>\n",
              "<table border=\"1\" class=\"dataframe\">\n",
              "  <thead>\n",
              "    <tr style=\"text-align: right;\">\n",
              "      <th></th>\n",
              "      <th>review</th>\n",
              "      <th>label</th>\n",
              "    </tr>\n",
              "  </thead>\n",
              "  <tbody>\n",
              "    <tr>\n",
              "      <th>0</th>\n",
              "      <td>A very, very, very slow-moving, aimless movie ...</td>\n",
              "      <td>0.0</td>\n",
              "    </tr>\n",
              "    <tr>\n",
              "      <th>1</th>\n",
              "      <td>Not sure who was more lost - the flat characte...</td>\n",
              "      <td>0.0</td>\n",
              "    </tr>\n",
              "    <tr>\n",
              "      <th>2</th>\n",
              "      <td>Attempting artiness with black &amp; white and cle...</td>\n",
              "      <td>0.0</td>\n",
              "    </tr>\n",
              "    <tr>\n",
              "      <th>3</th>\n",
              "      <td>Very little music or anything to speak of.</td>\n",
              "      <td>0.0</td>\n",
              "    </tr>\n",
              "    <tr>\n",
              "      <th>4</th>\n",
              "      <td>The best scene in the movie was when Gerardo i...</td>\n",
              "      <td>1.0</td>\n",
              "    </tr>\n",
              "  </tbody>\n",
              "</table>\n",
              "</div>\n",
              "      <button class=\"colab-df-convert\" onclick=\"convertToInteractive('df-3f6c0881-ef81-46e6-ad92-bb9519352546')\"\n",
              "              title=\"Convert this dataframe to an interactive table.\"\n",
              "              style=\"display:none;\">\n",
              "        \n",
              "  <svg xmlns=\"http://www.w3.org/2000/svg\" height=\"24px\"viewBox=\"0 0 24 24\"\n",
              "       width=\"24px\">\n",
              "    <path d=\"M0 0h24v24H0V0z\" fill=\"none\"/>\n",
              "    <path d=\"M18.56 5.44l.94 2.06.94-2.06 2.06-.94-2.06-.94-.94-2.06-.94 2.06-2.06.94zm-11 1L8.5 8.5l.94-2.06 2.06-.94-2.06-.94L8.5 2.5l-.94 2.06-2.06.94zm10 10l.94 2.06.94-2.06 2.06-.94-2.06-.94-.94-2.06-.94 2.06-2.06.94z\"/><path d=\"M17.41 7.96l-1.37-1.37c-.4-.4-.92-.59-1.43-.59-.52 0-1.04.2-1.43.59L10.3 9.45l-7.72 7.72c-.78.78-.78 2.05 0 2.83L4 21.41c.39.39.9.59 1.41.59.51 0 1.02-.2 1.41-.59l7.78-7.78 2.81-2.81c.8-.78.8-2.07 0-2.86zM5.41 20L4 18.59l7.72-7.72 1.47 1.35L5.41 20z\"/>\n",
              "  </svg>\n",
              "      </button>\n",
              "      \n",
              "  <style>\n",
              "    .colab-df-container {\n",
              "      display:flex;\n",
              "      flex-wrap:wrap;\n",
              "      gap: 12px;\n",
              "    }\n",
              "\n",
              "    .colab-df-convert {\n",
              "      background-color: #E8F0FE;\n",
              "      border: none;\n",
              "      border-radius: 50%;\n",
              "      cursor: pointer;\n",
              "      display: none;\n",
              "      fill: #1967D2;\n",
              "      height: 32px;\n",
              "      padding: 0 0 0 0;\n",
              "      width: 32px;\n",
              "    }\n",
              "\n",
              "    .colab-df-convert:hover {\n",
              "      background-color: #E2EBFA;\n",
              "      box-shadow: 0px 1px 2px rgba(60, 64, 67, 0.3), 0px 1px 3px 1px rgba(60, 64, 67, 0.15);\n",
              "      fill: #174EA6;\n",
              "    }\n",
              "\n",
              "    [theme=dark] .colab-df-convert {\n",
              "      background-color: #3B4455;\n",
              "      fill: #D2E3FC;\n",
              "    }\n",
              "\n",
              "    [theme=dark] .colab-df-convert:hover {\n",
              "      background-color: #434B5C;\n",
              "      box-shadow: 0px 1px 3px 1px rgba(0, 0, 0, 0.15);\n",
              "      filter: drop-shadow(0px 1px 2px rgba(0, 0, 0, 0.3));\n",
              "      fill: #FFFFFF;\n",
              "    }\n",
              "  </style>\n",
              "\n",
              "      <script>\n",
              "        const buttonEl =\n",
              "          document.querySelector('#df-3f6c0881-ef81-46e6-ad92-bb9519352546 button.colab-df-convert');\n",
              "        buttonEl.style.display =\n",
              "          google.colab.kernel.accessAllowed ? 'block' : 'none';\n",
              "\n",
              "        async function convertToInteractive(key) {\n",
              "          const element = document.querySelector('#df-3f6c0881-ef81-46e6-ad92-bb9519352546');\n",
              "          const dataTable =\n",
              "            await google.colab.kernel.invokeFunction('convertToInteractive',\n",
              "                                                     [key], {});\n",
              "          if (!dataTable) return;\n",
              "\n",
              "          const docLinkHtml = 'Like what you see? Visit the ' +\n",
              "            '<a target=\"_blank\" href=https://colab.research.google.com/notebooks/data_table.ipynb>data table notebook</a>'\n",
              "            + ' to learn more about interactive tables.';\n",
              "          element.innerHTML = '';\n",
              "          dataTable['output_type'] = 'display_data';\n",
              "          await google.colab.output.renderOutput(dataTable, element);\n",
              "          const docLink = document.createElement('div');\n",
              "          docLink.innerHTML = docLinkHtml;\n",
              "          element.appendChild(docLink);\n",
              "        }\n",
              "      </script>\n",
              "    </div>\n",
              "  </div>\n",
              "  "
            ]
          },
          "metadata": {},
          "execution_count": 164
        }
      ]
    },
    {
      "cell_type": "code",
      "source": [
        "dfii['label'] = pd.to_numeric(dfii['label'])   # para quitar algunos strings que hay por ahí en los labels..."
      ],
      "metadata": {
        "id": "Cw_qz-l6MaDL"
      },
      "execution_count": null,
      "outputs": []
    },
    {
      "cell_type": "code",
      "source": [
        "dfii.info()"
      ],
      "metadata": {
        "colab": {
          "base_uri": "https://localhost:8080/"
        },
        "id": "rIfgBYZQMOHw",
        "outputId": "8e73e994-f219-4c93-ddee-55c546a1adb0"
      },
      "execution_count": null,
      "outputs": [
        {
          "output_type": "stream",
          "name": "stdout",
          "text": [
            "<class 'pandas.core.frame.DataFrame'>\n",
            "RangeIndex: 1000 entries, 0 to 999\n",
            "Data columns (total 2 columns):\n",
            " #   Column  Non-Null Count  Dtype  \n",
            "---  ------  --------------  -----  \n",
            " 0   review  1000 non-null   object \n",
            " 1   label   1000 non-null   float64\n",
            "dtypes: float64(1), object(1)\n",
            "memory usage: 15.8+ KB\n"
          ]
        }
      ]
    },
    {
      "cell_type": "code",
      "source": [
        "dfy.head()"
      ],
      "metadata": {
        "colab": {
          "base_uri": "https://localhost:8080/",
          "height": 206
        },
        "id": "z7HbslRByJPO",
        "outputId": "12037fef-3355-45eb-f1e0-f40d214d03bf"
      },
      "execution_count": null,
      "outputs": [
        {
          "output_type": "execute_result",
          "data": {
            "text/plain": [
              "                                              review  label\n",
              "0                           Wow... Loved this place.      1\n",
              "1                                 Crust is not good.      0\n",
              "2          Not tasty and the texture was just nasty.      0\n",
              "3  Stopped by during the late May bank holiday of...      1\n",
              "4  The selection on the menu was great and so wer...      1"
            ],
            "text/html": [
              "\n",
              "  <div id=\"df-46295807-b6b8-41c4-b2cb-0b6960e345b7\">\n",
              "    <div class=\"colab-df-container\">\n",
              "      <div>\n",
              "<style scoped>\n",
              "    .dataframe tbody tr th:only-of-type {\n",
              "        vertical-align: middle;\n",
              "    }\n",
              "\n",
              "    .dataframe tbody tr th {\n",
              "        vertical-align: top;\n",
              "    }\n",
              "\n",
              "    .dataframe thead th {\n",
              "        text-align: right;\n",
              "    }\n",
              "</style>\n",
              "<table border=\"1\" class=\"dataframe\">\n",
              "  <thead>\n",
              "    <tr style=\"text-align: right;\">\n",
              "      <th></th>\n",
              "      <th>review</th>\n",
              "      <th>label</th>\n",
              "    </tr>\n",
              "  </thead>\n",
              "  <tbody>\n",
              "    <tr>\n",
              "      <th>0</th>\n",
              "      <td>Wow... Loved this place.</td>\n",
              "      <td>1</td>\n",
              "    </tr>\n",
              "    <tr>\n",
              "      <th>1</th>\n",
              "      <td>Crust is not good.</td>\n",
              "      <td>0</td>\n",
              "    </tr>\n",
              "    <tr>\n",
              "      <th>2</th>\n",
              "      <td>Not tasty and the texture was just nasty.</td>\n",
              "      <td>0</td>\n",
              "    </tr>\n",
              "    <tr>\n",
              "      <th>3</th>\n",
              "      <td>Stopped by during the late May bank holiday of...</td>\n",
              "      <td>1</td>\n",
              "    </tr>\n",
              "    <tr>\n",
              "      <th>4</th>\n",
              "      <td>The selection on the menu was great and so wer...</td>\n",
              "      <td>1</td>\n",
              "    </tr>\n",
              "  </tbody>\n",
              "</table>\n",
              "</div>\n",
              "      <button class=\"colab-df-convert\" onclick=\"convertToInteractive('df-46295807-b6b8-41c4-b2cb-0b6960e345b7')\"\n",
              "              title=\"Convert this dataframe to an interactive table.\"\n",
              "              style=\"display:none;\">\n",
              "        \n",
              "  <svg xmlns=\"http://www.w3.org/2000/svg\" height=\"24px\"viewBox=\"0 0 24 24\"\n",
              "       width=\"24px\">\n",
              "    <path d=\"M0 0h24v24H0V0z\" fill=\"none\"/>\n",
              "    <path d=\"M18.56 5.44l.94 2.06.94-2.06 2.06-.94-2.06-.94-.94-2.06-.94 2.06-2.06.94zm-11 1L8.5 8.5l.94-2.06 2.06-.94-2.06-.94L8.5 2.5l-.94 2.06-2.06.94zm10 10l.94 2.06.94-2.06 2.06-.94-2.06-.94-.94-2.06-.94 2.06-2.06.94z\"/><path d=\"M17.41 7.96l-1.37-1.37c-.4-.4-.92-.59-1.43-.59-.52 0-1.04.2-1.43.59L10.3 9.45l-7.72 7.72c-.78.78-.78 2.05 0 2.83L4 21.41c.39.39.9.59 1.41.59.51 0 1.02-.2 1.41-.59l7.78-7.78 2.81-2.81c.8-.78.8-2.07 0-2.86zM5.41 20L4 18.59l7.72-7.72 1.47 1.35L5.41 20z\"/>\n",
              "  </svg>\n",
              "      </button>\n",
              "      \n",
              "  <style>\n",
              "    .colab-df-container {\n",
              "      display:flex;\n",
              "      flex-wrap:wrap;\n",
              "      gap: 12px;\n",
              "    }\n",
              "\n",
              "    .colab-df-convert {\n",
              "      background-color: #E8F0FE;\n",
              "      border: none;\n",
              "      border-radius: 50%;\n",
              "      cursor: pointer;\n",
              "      display: none;\n",
              "      fill: #1967D2;\n",
              "      height: 32px;\n",
              "      padding: 0 0 0 0;\n",
              "      width: 32px;\n",
              "    }\n",
              "\n",
              "    .colab-df-convert:hover {\n",
              "      background-color: #E2EBFA;\n",
              "      box-shadow: 0px 1px 2px rgba(60, 64, 67, 0.3), 0px 1px 3px 1px rgba(60, 64, 67, 0.15);\n",
              "      fill: #174EA6;\n",
              "    }\n",
              "\n",
              "    [theme=dark] .colab-df-convert {\n",
              "      background-color: #3B4455;\n",
              "      fill: #D2E3FC;\n",
              "    }\n",
              "\n",
              "    [theme=dark] .colab-df-convert:hover {\n",
              "      background-color: #434B5C;\n",
              "      box-shadow: 0px 1px 3px 1px rgba(0, 0, 0, 0.15);\n",
              "      filter: drop-shadow(0px 1px 2px rgba(0, 0, 0, 0.3));\n",
              "      fill: #FFFFFF;\n",
              "    }\n",
              "  </style>\n",
              "\n",
              "      <script>\n",
              "        const buttonEl =\n",
              "          document.querySelector('#df-46295807-b6b8-41c4-b2cb-0b6960e345b7 button.colab-df-convert');\n",
              "        buttonEl.style.display =\n",
              "          google.colab.kernel.accessAllowed ? 'block' : 'none';\n",
              "\n",
              "        async function convertToInteractive(key) {\n",
              "          const element = document.querySelector('#df-46295807-b6b8-41c4-b2cb-0b6960e345b7');\n",
              "          const dataTable =\n",
              "            await google.colab.kernel.invokeFunction('convertToInteractive',\n",
              "                                                     [key], {});\n",
              "          if (!dataTable) return;\n",
              "\n",
              "          const docLinkHtml = 'Like what you see? Visit the ' +\n",
              "            '<a target=\"_blank\" href=https://colab.research.google.com/notebooks/data_table.ipynb>data table notebook</a>'\n",
              "            + ' to learn more about interactive tables.';\n",
              "          element.innerHTML = '';\n",
              "          dataTable['output_type'] = 'display_data';\n",
              "          await google.colab.output.renderOutput(dataTable, element);\n",
              "          const docLink = document.createElement('div');\n",
              "          docLink.innerHTML = docLinkHtml;\n",
              "          element.appendChild(docLink);\n",
              "        }\n",
              "      </script>\n",
              "    </div>\n",
              "  </div>\n",
              "  "
            ]
          },
          "metadata": {},
          "execution_count": 100
        }
      ]
    },
    {
      "cell_type": "code",
      "source": [
        "# y concatenamos los tres conjuntos para tener finalmente los 3000 registros:\n",
        "\n",
        "df = pd.concat([dfa, dfii, dfy], ignore_index=True)\n",
        "\n",
        "df.info()"
      ],
      "metadata": {
        "colab": {
          "base_uri": "https://localhost:8080/"
        },
        "id": "T_lyEFRkxzC6",
        "outputId": "bf0d75c4-e02f-4b80-a3ea-451872ba24e0"
      },
      "execution_count": null,
      "outputs": [
        {
          "output_type": "stream",
          "name": "stdout",
          "text": [
            "<class 'pandas.core.frame.DataFrame'>\n",
            "RangeIndex: 3000 entries, 0 to 2999\n",
            "Data columns (total 2 columns):\n",
            " #   Column  Non-Null Count  Dtype  \n",
            "---  ------  --------------  -----  \n",
            " 0   review  3000 non-null   object \n",
            " 1   label   3000 non-null   float64\n",
            "dtypes: float64(1), object(1)\n",
            "memory usage: 47.0+ KB\n"
          ]
        }
      ]
    },
    {
      "cell_type": "markdown",
      "source": [
        "##**Pregunta - 2:**"
      ],
      "metadata": {
        "id": "MfZZ0stLmWJN"
      }
    },
    {
      "cell_type": "markdown",
      "source": [
        "Realiza de nuevo un proceso de limpieza. Aplica el preprocesamiento que consideres adecuado, sin embargo, deberás aplicar necesariamente alguna de las técnicas de lematización.\n",
        "\n",
        "Como aplicaremos modelos embebidos pre-entrenados, queremos palabras lo más cercanas a las existentes en un idioma, inglés en este caso.\n",
        "\n",
        "Aplica y justifica cualquier otro proceso de limpieza que consideres\n",
        "adecuado.\n",
        "\n",
        "Recuerda que en esta actividad se usarán vectores embebidos para un problema de clasificación, por lo que deberás tomar de acuerdo a este contexto.\n",
        "\n",
        "Justifica todas las transformaciones que se apliquen.\n",
        "\n",
        "\n",
        "\n",
        "\n",
        "\n",
        "\n",
        "\n"
      ],
      "metadata": {
        "id": "7F6JF5BommZ6"
      }
    },
    {
      "cell_type": "code",
      "source": [
        "# Separamos la información:\n",
        " #     La \"X\" serán los datos de entrada, los comentarios.\n",
        " #     La \"Y\" será la variable de salida, la evaluación.\n",
        " # Ambos, X y Y son \"Series\"\n",
        "\n",
        "X = df.review     # Serie de strings\n",
        "Y = df.label      # Serie de enteros 0s y 1s\n",
        "\n",
        "assert X.shape == (3000,)           # verificando que tenemos la dimensiones esperadas.\n",
        "assert Y.shape == (3000,)"
      ],
      "metadata": {
        "id": "8aAcN1Ra5tKf"
      },
      "execution_count": null,
      "outputs": []
    },
    {
      "cell_type": "code",
      "source": [
        "def clean_tok(doc):\n",
        "\n",
        "  doc = re.sub('[!,\\.:-]', ' ', doc)       # Primero separamos por aquellos casos que se omitieron espacios en blanco erróneamente.\n",
        "\n",
        "  # tokenizamos por espacios en blanco cada reseña\n",
        "  tokens = doc.split()\n",
        "\n",
        "  # omitimos todos los signos de puntuación\n",
        "  re_punc = re.compile('[%s]' % re.escape(string.punctuation))\n",
        "  tokens = [re_punc.sub('', w) for w in tokens]\n",
        "\n",
        "  # nos quedamos solo con letras y las transformamos a minúsculas\n",
        "  tokens = [word.lower() for word in tokens if word.isalpha()]\n",
        "\n",
        "  # omitamos las stopwords\n",
        "  tokens = [w for w in tokens if not w in mystopwords]\n",
        "\n",
        "  # apliquemos esto hasta después de la lemmatization:\n",
        "  #tokens = [word for word in tokens if len(word) > 1]\n",
        "\n",
        "\n",
        "  return tokens"
      ],
      "metadata": {
        "id": "qY5tjwvL5tHG"
      },
      "execution_count": null,
      "outputs": []
    },
    {
      "cell_type": "code",
      "source": [
        "# Aplicamos el proceso de limpieza y tokenización:\n",
        "\n",
        "Xcleantok = [clean_tok(x) for x in X]"
      ],
      "metadata": {
        "id": "dTQm2Jzw6Cae"
      },
      "execution_count": null,
      "outputs": []
    },
    {
      "cell_type": "code",
      "source": [
        "for x in Xcleantok[0:5]:\n",
        "  print(x)"
      ],
      "metadata": {
        "colab": {
          "base_uri": "https://localhost:8080/"
        },
        "id": "5pDLinPj6CXK",
        "outputId": "0b7f5d27-3caf-4594-c3a9-c153e70157a7"
      },
      "execution_count": null,
      "outputs": [
        {
          "output_type": "stream",
          "name": "stdout",
          "text": [
            "['way', 'plug', 'us', 'unless', 'go', 'converter']\n",
            "['good', 'case', 'excellent', 'value']\n",
            "['great', 'jawbone']\n",
            "['tied', 'charger', 'conversations', 'lasting', 'minutes', 'major', 'problems']\n",
            "['mic', 'great']\n"
          ]
        }
      ]
    },
    {
      "cell_type": "code",
      "source": [
        "from nltk.stem import WordNetLemmatizer\n",
        "nltk.download('wordnet')"
      ],
      "metadata": {
        "colab": {
          "base_uri": "https://localhost:8080/"
        },
        "id": "JDnNU1zM7AI8",
        "outputId": "a894f407-ea7d-407e-f1b9-4ba651dc7879"
      },
      "execution_count": null,
      "outputs": [
        {
          "output_type": "stream",
          "name": "stderr",
          "text": [
            "[nltk_data] Downloading package wordnet to /root/nltk_data...\n",
            "[nltk_data]   Package wordnet is already up-to-date!\n"
          ]
        },
        {
          "output_type": "execute_result",
          "data": {
            "text/plain": [
              "True"
            ]
          },
          "metadata": {},
          "execution_count": 118
        }
      ]
    },
    {
      "cell_type": "code",
      "source": [
        "import re"
      ],
      "metadata": {
        "id": "cpvWvjFz8zAw"
      },
      "execution_count": null,
      "outputs": []
    },
    {
      "cell_type": "code",
      "source": [
        "# apliquemos la lematización que nos piden, puede variar con cada equipo:\n",
        "\n",
        "\n",
        "def clean_lemma_doc(doc):\n",
        "\n",
        "  wnl = WordNetLemmatizer()\n",
        "\n",
        "  tokens = [wnl.lemmatize(w, pos='v') for w in doc]   # verbs\n",
        "  tokens = [wnl.lemmatize(w, 'n') for w in tokens]    # nouns\n",
        "  tokens = [wnl.lemmatize(w, 'a') for w in tokens]    # adverbs\n",
        "\n",
        "  # omitimos caracteres de longitud menor a una determinada\n",
        "  tokens = [word for word in tokens if len(word) > 1]\n",
        "\n",
        "\n",
        "  return tokens"
      ],
      "metadata": {
        "id": "SvDIYrU76eki"
      },
      "execution_count": null,
      "outputs": []
    },
    {
      "cell_type": "code",
      "source": [
        "# Aplicamos el proceso de limpieza/normalización adicionales:\n",
        "\n",
        "Xclean = [clean_lemma_doc(x) for x in Xcleantok]"
      ],
      "metadata": {
        "id": "koUK0Wu86eoo"
      },
      "execution_count": null,
      "outputs": []
    },
    {
      "cell_type": "code",
      "source": [
        "for x in Xclean[0:5]:\n",
        "  print(x)"
      ],
      "metadata": {
        "colab": {
          "base_uri": "https://localhost:8080/"
        },
        "id": "5fWw9DMp6etH",
        "outputId": "421b77b7-96e2-4dc8-9566-34eb89f0aa05"
      },
      "execution_count": null,
      "outputs": [
        {
          "output_type": "stream",
          "name": "stdout",
          "text": [
            "['way', 'plug', 'unless', 'go', 'converter']\n",
            "['good', 'case', 'excellent', 'value']\n",
            "['great', 'jawbone']\n",
            "['tie', 'charger', 'conversation', 'last', 'minute', 'major', 'problem']\n",
            "['mic', 'great']\n"
          ]
        }
      ]
    },
    {
      "cell_type": "markdown",
      "source": [
        "#**Pregunta 3:**\n",
        "\n",
        "Llamar Xclean a los comentarios procesados y Y a las etiquetas.\n",
        "\n",
        "Realicemos una partición aleatoria con los mismos porcentajes de la práctica pasada para poder comparar dichos resultados con los de\n",
        "esta actividad, a saber, 70%, 15% y 15%, para entrenamiento, validación y prueba, respectivamente.\n",
        "\n",
        "Verifica que obtienes 2100 registros de entrenamiento y 450 para cada uno de validación y prueba."
      ],
      "metadata": {
        "id": "7wEIOkkl9Dot"
      }
    },
    {
      "cell_type": "code",
      "source": [
        "from sklearn.model_selection import train_test_split\n",
        "\n",
        "x_train, x_val_and_test, y_train, y_val_and_test = train_test_split(Xclean, Y, train_size=.70, shuffle=True, random_state=1)\n",
        "x_val, x_test, y_val, y_test = train_test_split(x_val_and_test, y_val_and_test, test_size=.50, shuffle=True, random_state=17)\n",
        "\n",
        "print('X,y Train:', len(x_train), len(y_train))\n",
        "print('X,y Val:', len(x_val), len(y_val))\n",
        "print('X,y Test', len(x_test), len(y_test))"
      ],
      "metadata": {
        "colab": {
          "base_uri": "https://localhost:8080/"
        },
        "id": "b0SAcYdq9X0w",
        "outputId": "0bd0959b-321c-47d2-b9c0-0a69fef09754"
      },
      "execution_count": null,
      "outputs": [
        {
          "output_type": "stream",
          "name": "stdout",
          "text": [
            "X,y Train: 2100 2100\n",
            "X,y Val: 450 450\n",
            "X,y Test 450 450\n"
          ]
        }
      ]
    },
    {
      "cell_type": "markdown",
      "source": [
        "#**Pregunta 4**\n",
        "\n",
        "Usando el conjunto de entrenamiento genera un vocabulario que no sea mayor a 1500 palabras, ni menor a 1000.\n",
        "\n",
        "¿Por qué es importante acotar un vocabulario inferior y superiormente?\n",
        "¿Por qué debe usarse solamente el conjunto de entrenamiento para generar el diccionario?\n",
        "\n",
        "Con este vocabulario que obtienes, filtra los conjuntos de entrenamiento, validación y prueba, de esta manera todos los comentarios usarán solamente palabras válidas de acuerdo a este vocabulario.\n",
        "\n",
        "Indica el tamaño del vocabulario obtenido."
      ],
      "metadata": {
        "id": "jENsKiN99r3F"
      }
    },
    {
      "cell_type": "code",
      "source": [
        "from collections import Counter"
      ],
      "metadata": {
        "id": "Z3mcL4dq9Xtp"
      },
      "execution_count": null,
      "outputs": []
    },
    {
      "cell_type": "code",
      "source": [
        "midiccionario = Counter()\n",
        "\n",
        "for k in range(len(x_train)):\n",
        "  midiccionario.update(x_train[k])\n",
        "\n",
        "\n",
        "print('Longitud del diccionario:', len(midiccionario))\n",
        "print('\\n(word,frequency):')\n",
        "print(midiccionario.most_common(10))"
      ],
      "metadata": {
        "colab": {
          "base_uri": "https://localhost:8080/"
        },
        "id": "R_DqSHbt9Xq1",
        "outputId": "19e5afd5-22ed-4df0-82bf-420322ab8b58"
      },
      "execution_count": null,
      "outputs": [
        {
          "output_type": "stream",
          "name": "stdout",
          "text": [
            "Longitud del diccionario: 3271\n",
            "\n",
            "(word,frequency):\n",
            "[('good', 201), ('great', 141), ('movie', 140), ('phone', 133), ('film', 130), ('work', 112), ('bad', 112), ('like', 101), ('time', 101), ('one', 100)]\n"
          ]
        }
      ]
    },
    {
      "cell_type": "code",
      "source": [
        "min_freq = 2    # Con 2 en general da un buen resultado. Valores más grandes empieza en este caso a generar muchos comentarios vacíos.\n",
        "midicc0 = {}\n",
        "midicc0 = {k:c for k,c in midiccionario.items() if c >= min_freq}\n",
        "\n",
        "midicc = {}\n",
        "midicc = {k:c for k,c in midicc0.items() if len(k)>1}\n",
        "\n",
        "print('Nueva longitud del nuevo vocabulario:',len(midicc))\n",
        "print(list(midicc.items())[0:5])"
      ],
      "metadata": {
        "colab": {
          "base_uri": "https://localhost:8080/"
        },
        "id": "yTDZ0Rr86CUP",
        "outputId": "a16372a2-5f58-43fd-d513-629e5b23fddf"
      },
      "execution_count": null,
      "outputs": [
        {
          "output_type": "stream",
          "name": "stdout",
          "text": [
            "Nueva longitud del nuevo vocabulario: 1432\n",
            "[('star', 18), ('dont', 59), ('fare', 2), ('much', 39), ('good', 201)]\n"
          ]
        }
      ]
    },
    {
      "cell_type": "code",
      "source": [
        "train_x = []\n",
        "for ss in x_train:\n",
        "  train_x.append([w for w in ss if w in midicc])\n",
        "\n",
        "val_x = []\n",
        "for ss in x_val:\n",
        "  val_x.append([w for w in ss if w in midicc])\n",
        "\n",
        "test_x = []\n",
        "for ss in x_test:\n",
        "  test_x.append([w for w in ss if w in midicc])"
      ],
      "metadata": {
        "id": "koHOfCTl9-SK"
      },
      "execution_count": null,
      "outputs": []
    },
    {
      "cell_type": "markdown",
      "source": [
        "###**---Incluyen sus comentarios---**\n",
        "\n",
        "###**Hasta aquí han hecho básicamente lo mismo que la semana pasada, salvo que aquí se les dice que necesariamente apliquen Lemmatization**"
      ],
      "metadata": {
        "id": "WFlTpcgk-ubF"
      }
    },
    {
      "cell_type": "markdown",
      "source": [
        "#**Pregunta - 5:**\n",
        "\n",
        "Utilizarás los vectores embebidos FastText preentrenados por Facebook.\n",
        "\n",
        "a. Incluye una tabla comparativa de pros y contras entre los modelos FastText, word2vec de Google y Glove de Stanford. Puedes consultar sus páginas correspondientes:\n",
        "\n",
        "https://fasttext.cc/\n",
        "\n",
        "https://code.google.com/archive/p/word2vec/\n",
        "\n",
        "https://nlp.stanford.edu/projects/glove/"
      ],
      "metadata": {
        "id": "CnHHAza5_P5Z"
      }
    },
    {
      "cell_type": "markdown",
      "source": [
        "###**---- Incluyen Tabla con diferencias de los tres métodos embebidos----**"
      ],
      "metadata": {
        "id": "uTI9xSgF_Xc8"
      }
    },
    {
      "cell_type": "markdown",
      "source": [
        "#**Pregunta - 6:**\n",
        "\n",
        "Utiliza el modelo FastText de vectores embebidos pre-entrenados de dimensión 300 para generar un nuevo diccionario clave-valor, donde la “clave” será cada token o palabra de tu vocabulario y el “valor” será su vector embebido de dimensión 300.\n",
        "\n",
        "Este diccionario deberá ser del mismo tamaño que el vocabulario previo que hayas construido previamente.\n",
        "\n",
        "https://fasttext.cc/docs/en/crawl-vectors.html\n",
        "\n",
        "##**Hasta aquí tenemos casi 2GB de RAM...**"
      ],
      "metadata": {
        "id": "ToqRl7fT_fn2"
      }
    },
    {
      "cell_type": "code",
      "source": [
        "!pip install fasttext                  # tarda unos 1.5 mins"
      ],
      "metadata": {
        "id": "Kbp7z3WC9-PQ"
      },
      "execution_count": null,
      "outputs": []
    },
    {
      "cell_type": "code",
      "source": [
        "import fasttext\n",
        "import fasttext.util"
      ],
      "metadata": {
        "id": "JQXkM-Rp9-JU"
      },
      "execution_count": null,
      "outputs": []
    },
    {
      "cell_type": "code",
      "source": [
        "# English ... downloading cc.en.300.bin.gz  +++++++++++++++        ENGLISH    ++++++++++++          ... tarda unos 30 mins\n",
        "\n",
        "fasttext.util.download_model('en', if_exists='ignore')"
      ],
      "metadata": {
        "colab": {
          "base_uri": "https://localhost:8080/",
          "height": 70
        },
        "id": "V_s2inHX9-Gf",
        "outputId": "e8a1ed70-38c0-4211-8d37-07b3b8473ac6"
      },
      "execution_count": null,
      "outputs": [
        {
          "output_type": "stream",
          "name": "stdout",
          "text": [
            "Downloading https://dl.fbaipublicfiles.com/fasttext/vectors-crawl/cc.en.300.bin.gz\n",
            "\n"
          ]
        },
        {
          "output_type": "execute_result",
          "data": {
            "text/plain": [
              "'cc.en.300.bin'"
            ],
            "application/vnd.google.colaboratory.intrinsic+json": {
              "type": "string"
            }
          },
          "metadata": {},
          "execution_count": 136
        }
      ]
    },
    {
      "cell_type": "code",
      "source": [
        "ft = fasttext.load_model('cc.en.300.bin')   # tarda poco menos de 1 min  ... aquí es donde sube la RAM, al cargarlos en memoria.\n",
        "                                            # La RAM está en 2GB y al ejecutarlo ¡¡sube como a 9GB!!"
      ],
      "metadata": {
        "colab": {
          "base_uri": "https://localhost:8080/"
        },
        "id": "S_4W3iXD5tD4",
        "outputId": "6c08a454-b104-4f30-98aa-e7c73397b78d"
      },
      "execution_count": null,
      "outputs": [
        {
          "output_type": "stream",
          "name": "stderr",
          "text": [
            "Warning : `load_model` does not return WordVectorModel or SupervisedModel any more, but a `FastText` object which is very similar.\n"
          ]
        }
      ]
    },
    {
      "cell_type": "code",
      "source": [
        "print('Tamaño del vocabulario de FastText:', len(ft.words) )\n",
        "print('Tamaño de los vectores embebidos FastText:', ft.get_dimension())"
      ],
      "metadata": {
        "colab": {
          "base_uri": "https://localhost:8080/"
        },
        "id": "6vCuWfGf5tBF",
        "outputId": "c3ecb664-d6e7-4c29-bf69-879d2e28715e"
      },
      "execution_count": null,
      "outputs": [
        {
          "output_type": "stream",
          "name": "stdout",
          "text": [
            "Tamaño del vocabulario de FastText: 2000000\n",
            "Tamaño de los vectores embebidos FastText: 300\n"
          ]
        }
      ]
    },
    {
      "cell_type": "code",
      "source": [
        "from numpy import savetxt"
      ],
      "metadata": {
        "id": "6fKE8BrYCEy5"
      },
      "execution_count": null,
      "outputs": []
    },
    {
      "cell_type": "code",
      "source": [
        "# Guardemos nuestro vocabulario-diccionario {(key:value)} --> {(word:300_embedding_vector)}\n",
        "\n",
        "dicc_embed = {}\n",
        "\n",
        "for w,_ in midicc.items():\n",
        "  dicc_embed.update({w:ft.get_word_vector(w)})   # al parecer por default encuentra el vector más cercano...\n",
        "\n",
        "# Guardamos el archivo:\n",
        "import pickle\n",
        "\n",
        "with open(\"myfileFasttextEmbed.pkl\", \"wb\") as tf:\n",
        "    pickle.dump(dicc_embed,tf)\n",
        "\n"
      ],
      "metadata": {
        "id": "t1RxhM9xAd_K"
      },
      "execution_count": null,
      "outputs": []
    },
    {
      "cell_type": "code",
      "source": [
        "list(dicc_embed.items())[0:2]   # veamos un par de ellos..."
      ],
      "metadata": {
        "colab": {
          "base_uri": "https://localhost:8080/"
        },
        "id": "XpTXvp0OJxZ3",
        "outputId": "6185c90b-753d-40af-bbac-7ace7bffc40d"
      },
      "execution_count": null,
      "outputs": [
        {
          "output_type": "execute_result",
          "data": {
            "text/plain": [
              "[('star',\n",
              "  array([-2.86828041e-01,  1.15123533e-01,  5.38213179e-02,  6.26803637e-02,\n",
              "          2.47128960e-02, -2.57342309e-02,  1.47269234e-01, -1.16852485e-01,\n",
              "          1.43789779e-02,  2.02018499e-01, -6.00243136e-02, -6.75183982e-02,\n",
              "         -4.77372715e-03,  4.89413664e-02,  1.16688116e-02, -3.23957461e-03,\n",
              "         -1.23359617e-02, -8.51226449e-02, -4.92033921e-02,  6.35383427e-02,\n",
              "          8.86741839e-03,  1.40952796e-01,  1.09847665e-01,  1.25429276e-02,\n",
              "         -4.25020084e-02, -8.08417723e-02,  2.70867231e-03,  3.24510969e-02,\n",
              "          1.41084492e-02,  1.06206566e-01,  1.08138800e-01, -5.41383438e-02,\n",
              "          5.69636673e-02,  5.37327491e-02, -7.06092343e-02, -9.78406295e-02,\n",
              "         -1.20484188e-01, -4.16465327e-02, -8.21356028e-02,  4.71536033e-02,\n",
              "          9.90687776e-03,  4.89758067e-02, -1.33870468e-01, -1.54928997e-01,\n",
              "         -1.81018680e-01,  1.78726465e-02,  7.79893203e-03, -8.59202892e-02,\n",
              "         -2.29937509e-02, -1.81513757e-01, -1.04256801e-01,  1.19395129e-01,\n",
              "          7.99314678e-03,  5.44246733e-02,  1.18487053e-01,  4.88866717e-02,\n",
              "          5.15220016e-02, -4.63055186e-02,  8.03847145e-03, -5.37553839e-02,\n",
              "         -1.83139741e-02, -9.42408741e-02, -1.01035193e-01,  3.56963836e-02,\n",
              "          1.93327591e-02,  2.09810555e-01,  2.19372492e-02,  2.13999581e-02,\n",
              "          1.16238985e-02, -1.17042363e-01, -1.48543967e-02,  3.18749472e-02,\n",
              "         -1.81292221e-01, -8.17631930e-02,  2.79697850e-02, -3.79535183e-02,\n",
              "          1.45776663e-02,  1.37915611e-01, -8.08674842e-02,  2.51751058e-02,\n",
              "         -6.64169192e-02,  9.05220862e-03,  1.35277987e-01,  2.18077898e-02,\n",
              "          3.70039642e-02, -1.99556798e-02, -1.50145322e-01, -8.03397596e-03,\n",
              "         -7.00799674e-02, -2.94313934e-02, -3.02728191e-02,  1.93609685e-01,\n",
              "          1.89876668e-02, -7.70288929e-02,  1.80713087e-02,  1.10033236e-01,\n",
              "          7.12299794e-02, -4.59963679e-02, -1.72077119e-01,  3.16679366e-02,\n",
              "         -5.98362945e-02, -8.74337852e-02, -8.86409208e-02, -2.87565850e-02,\n",
              "         -5.81971705e-02,  1.01937577e-01,  3.15561742e-02,  1.15741333e-02,\n",
              "         -1.06359929e-01,  1.87610969e-01,  1.45370346e-02,  5.99830151e-02,\n",
              "          9.92235392e-02,  1.91061702e-02, -2.38206740e-02, -2.17346236e-01,\n",
              "          7.70934811e-03, -3.35183665e-02, -1.03727773e-01, -4.16280292e-02,\n",
              "          1.53034225e-01,  8.58682245e-02,  3.14186066e-02,  1.54228285e-01,\n",
              "         -8.03690311e-03,  3.32052186e-02,  4.11878666e-03,  1.05484031e-01,\n",
              "          7.57255778e-02, -3.18720341e-02,  1.70250125e-02,  6.56677261e-02,\n",
              "          1.23368874e-01, -3.03245634e-02,  2.33012419e-02, -1.44071028e-01,\n",
              "          1.45928591e-01,  6.17721789e-02,  1.98618054e-01, -1.88623518e-01,\n",
              "         -6.05288260e-02,  7.98067078e-02,  3.88783626e-02, -1.24917820e-01,\n",
              "         -1.37684941e-01,  6.50793165e-02, -2.99405992e-01, -3.73671472e-04,\n",
              "          4.60229479e-02, -7.02350959e-02, -3.00859064e-02, -1.02555119e-01,\n",
              "         -8.37509986e-03, -3.45986453e-04,  9.31164846e-02, -3.90904620e-02,\n",
              "          1.14622459e-01,  1.26173794e-01,  5.39926952e-03,  2.46864315e-02,\n",
              "         -7.46607184e-02,  6.94717746e-03,  1.56693712e-01, -1.52236253e-01,\n",
              "          3.30955088e-02, -4.14339192e-02, -6.96366578e-02,  9.96302366e-02,\n",
              "         -6.03845380e-02,  9.29320753e-02, -2.12934427e-03, -6.01781867e-02,\n",
              "         -7.10362718e-02, -1.18315414e-01, -6.35388717e-02,  6.41066134e-02,\n",
              "         -5.91891073e-02,  1.27110809e-01,  7.15065151e-02,  6.29523173e-02,\n",
              "         -5.46345413e-02,  2.89074313e-02, -1.59469962e-01, -7.92971104e-02,\n",
              "         -1.03111260e-01, -8.40404853e-02,  6.54209182e-02,  6.68521225e-02,\n",
              "         -2.92568877e-02,  2.20480785e-01,  9.37886834e-02, -9.02144909e-02,\n",
              "         -4.41652164e-02,  8.60180557e-02, -1.45871434e-02,  4.97262180e-02,\n",
              "         -1.41114324e-01,  8.82492661e-02,  9.48378909e-03, -9.70369801e-02,\n",
              "          1.59810316e-02,  1.26596987e-02,  3.80288512e-02,  3.90619189e-02,\n",
              "          9.13637877e-02, -8.60894620e-02,  1.01811588e-01,  6.69082999e-02,\n",
              "          1.05031997e-01,  1.48328632e-01,  6.92542717e-02, -1.06625669e-01,\n",
              "         -1.52740449e-01, -7.56940758e-03,  3.13936025e-02,  3.49867865e-02,\n",
              "         -2.09618788e-02, -1.42902760e-02,  6.80341348e-02,  6.19825125e-02,\n",
              "         -2.84822695e-02,  1.18321627e-01, -1.13135815e-01, -1.77281257e-02,\n",
              "         -5.60616702e-03,  8.14713836e-02, -1.53869148e-02,  8.16864222e-02,\n",
              "         -1.04721271e-01,  1.58673406e-01, -7.53961354e-02,  3.07477619e-02,\n",
              "          9.25838854e-03, -1.48327835e-02,  7.91117456e-03, -3.18586826e-04,\n",
              "         -8.03159773e-02,  6.46696135e-04, -7.53018484e-02, -1.21981822e-01,\n",
              "          4.21633124e-02, -6.28293380e-02, -9.21363831e-02, -5.31597510e-02,\n",
              "          8.62716362e-02, -6.90141022e-02,  2.69403346e-02,  1.61921620e-01,\n",
              "         -4.50303815e-02,  2.98184454e-02, -3.96693758e-05, -7.90106505e-02,\n",
              "         -3.03728543e-02,  1.16063416e-01,  2.34403973e-03,  9.55789983e-02,\n",
              "         -2.87741404e-02, -9.72413719e-02,  3.45763527e-02,  1.02634273e-01,\n",
              "         -2.12719902e-01,  4.99785393e-02, -5.83627820e-02,  1.52304163e-02,\n",
              "         -1.22847423e-01,  4.66357172e-02,  1.46242663e-01,  1.13413274e-01,\n",
              "          1.09998845e-01, -2.39889026e-02,  3.31177339e-02,  4.13419865e-02,\n",
              "         -1.06826507e-01,  4.97730151e-02,  6.61367327e-02, -7.30071217e-02,\n",
              "         -2.99715679e-02,  6.65043890e-02, -5.69159463e-02,  4.16496157e-04,\n",
              "          1.42523021e-01, -4.14542109e-02, -1.05582647e-01, -1.55546203e-01,\n",
              "          6.32830709e-02,  1.06834993e-01, -9.86435339e-02,  7.51124090e-03,\n",
              "         -8.39522183e-02, -1.09830283e-01, -2.86104158e-02,  1.05289333e-01,\n",
              "         -1.09692931e-01,  1.05054498e-01,  1.07300431e-02,  1.82751417e-02,\n",
              "         -4.68385331e-02,  5.67049533e-02, -5.08587807e-03, -1.43625721e-01],\n",
              "        dtype=float32)),\n",
              " ('dont',\n",
              "  array([-5.00937365e-02, -1.08333561e-03,  7.57180480e-03,  1.34237915e-01,\n",
              "         -2.55823910e-01, -1.07509792e-01, -6.32151961e-02,  6.81168362e-02,\n",
              "          4.79160622e-02, -4.59670834e-02, -3.15478146e-02,  4.98556495e-02,\n",
              "          6.75668344e-02, -2.55685262e-02, -5.01615880e-03,  4.92317900e-02,\n",
              "          1.67101771e-01, -1.83447301e-02, -1.58813417e-01,  7.91727602e-02,\n",
              "         -3.91727947e-02, -1.48396306e-02, -2.19933297e-02, -2.96166949e-02,\n",
              "         -8.92049372e-02, -1.17296576e-02, -6.97120875e-02,  5.21965735e-02,\n",
              "         -2.67633852e-02,  2.19501793e-01, -8.06571096e-02, -1.82181261e-02,\n",
              "         -5.45492172e-02,  3.31072807e-02, -4.91428748e-02, -2.96175685e-02,\n",
              "          4.49086577e-02,  7.84223527e-02,  1.60801522e-02, -4.25782129e-02,\n",
              "          1.94904134e-02, -3.87204662e-02,  4.70342413e-02, -1.85663089e-01,\n",
              "          8.71360824e-02,  8.19821656e-02, -4.39449921e-02,  2.17671655e-02,\n",
              "         -1.47008225e-01,  4.61162589e-02,  2.48830691e-02, -9.02497470e-02,\n",
              "          1.11563634e-02,  4.46045175e-02, -1.18220448e-02, -8.04989692e-03,\n",
              "         -1.04605062e-02,  5.85478395e-02, -1.50524139e-01,  4.75203758e-03,\n",
              "          4.83999252e-02, -2.89372485e-02, -2.66731884e-02,  4.01337817e-02,\n",
              "         -4.51459102e-02, -4.28295657e-02, -5.30916378e-02,  2.77967062e-02,\n",
              "         -4.53151111e-03, -1.07038550e-01, -9.50985104e-02,  3.17122787e-02,\n",
              "         -2.03504674e-02,  4.09592427e-02,  1.93511173e-02,  6.30160347e-02,\n",
              "          3.29174846e-03,  1.03891216e-01, -7.77119696e-02, -2.44314298e-02,\n",
              "         -6.33769482e-02,  7.03272298e-02,  4.33163159e-02,  5.43919615e-02,\n",
              "         -4.25857529e-02,  1.58291869e-02, -3.40434862e-03, -6.93839639e-02,\n",
              "         -1.97074562e-02,  4.49992418e-02, -3.28497849e-02,  4.89296764e-02,\n",
              "          2.33417079e-01, -2.12186947e-04,  1.32545633e-02, -9.08651054e-02,\n",
              "         -2.62268633e-02,  1.86226487e-01, -8.29547420e-02,  2.62101814e-02,\n",
              "         -2.63887700e-02,  2.97502764e-02,  7.01811463e-02, -2.31167495e-01,\n",
              "          6.78295046e-02, -4.96577919e-02,  6.86860308e-02, -4.64338176e-02,\n",
              "          6.32242188e-02,  5.39330468e-02,  9.85141657e-03, -6.01863377e-02,\n",
              "          5.56025729e-02,  2.31514536e-02, -2.62545384e-02,  1.61775108e-02,\n",
              "          8.27929154e-02, -5.41871302e-02, -3.41022462e-02,  4.50753644e-02,\n",
              "          2.56235953e-02, -1.89615358e-02,  6.56932741e-02,  3.77393924e-02,\n",
              "         -3.71915102e-03, -8.79661068e-02, -1.67864747e-02, -5.58206849e-02,\n",
              "         -1.27609715e-01, -1.53913600e-02, -3.00793238e-02, -1.36126429e-02,\n",
              "         -7.76194260e-02, -3.96469757e-02,  1.65676445e-01, -5.64188510e-02,\n",
              "         -8.08203444e-02,  1.17884949e-02, -1.54506579e-01,  3.22509184e-02,\n",
              "         -3.84851024e-02,  2.51391586e-02,  2.66677998e-02,  4.58688065e-02,\n",
              "          1.64652854e-01,  1.30216196e-01, -1.35227382e-01, -2.77325865e-02,\n",
              "          1.79011130e-03,  3.29880938e-02, -1.00976452e-01,  1.15990061e-02,\n",
              "          6.83913648e-04,  4.04936075e-02,  4.13397662e-02, -7.07939907e-04,\n",
              "          8.47269222e-02,  7.90037960e-02,  2.38542221e-02, -1.39710009e-01,\n",
              "          3.59568512e-03, -9.14175715e-03,  9.49989632e-03, -1.95866108e-01,\n",
              "          4.95793186e-02,  3.82453054e-02,  4.78526577e-03, -2.35709529e-02,\n",
              "          6.53251261e-02,  6.42240047e-02, -1.01577729e-01, -2.53589153e-02,\n",
              "         -1.86613902e-01,  5.90862557e-02, -2.60182079e-02, -1.50842458e-01,\n",
              "         -4.58150133e-02, -1.20132565e-02,  5.59393093e-02, -6.87278733e-02,\n",
              "         -8.27886723e-03, -4.26485315e-02,  8.03859979e-02,  4.32698540e-02,\n",
              "          1.62996799e-01,  7.53682181e-02,  1.66188046e-01,  4.73102033e-02,\n",
              "          2.46013701e-02,  3.99556160e-02, -1.89805217e-02,  9.32318717e-03,\n",
              "          5.43496236e-02, -2.23713577e-01,  4.93960530e-02,  5.00849895e-02,\n",
              "         -8.00662115e-02,  5.29215336e-02,  8.52883682e-02,  8.12256485e-02,\n",
              "         -1.37607008e-01,  1.12620723e-02, -3.00836638e-02, -8.19453001e-02,\n",
              "          6.10648245e-02,  6.19512200e-02, -3.60761546e-02, -5.65093681e-02,\n",
              "          1.80291720e-02,  6.41801655e-02, -3.71704507e-03, -6.77540302e-02,\n",
              "         -4.71865460e-02, -3.18142772e-02,  7.20487162e-02, -4.17856872e-02,\n",
              "          3.01147886e-02,  1.25728566e-02,  7.93887209e-03,  2.99017951e-02,\n",
              "          2.71552727e-02, -1.09135062e-02,  6.14097565e-02,  2.58567333e-02,\n",
              "          7.53392931e-03,  9.26296692e-03, -1.06432110e-01, -7.57126585e-02,\n",
              "         -4.69971215e-03,  7.38682300e-02, -7.10504083e-03, -2.26725894e-03,\n",
              "         -2.66251843e-02,  5.49251698e-02, -5.68924844e-03, -7.68051371e-02,\n",
              "         -9.53435153e-03,  6.97105378e-02, -3.26700322e-02,  4.86600921e-02,\n",
              "          5.83742454e-04, -3.58623490e-02, -5.08549139e-02, -1.26897424e-01,\n",
              "          2.81697869e-01,  4.76961434e-02, -3.88248488e-02,  2.24729963e-02,\n",
              "          4.08768989e-02,  5.15909903e-02, -3.42885661e-03, -6.94659948e-02,\n",
              "         -5.59626892e-02,  2.06541181e-01, -1.90329570e-02, -1.68594923e-02,\n",
              "         -7.06612617e-02,  9.32990946e-03,  8.69142078e-03,  1.00847930e-02,\n",
              "         -3.12903035e-03,  7.02321753e-02,  8.96331966e-02,  2.43776329e-02,\n",
              "          6.95590377e-02, -2.11535599e-02, -6.60027042e-02,  8.65594577e-03,\n",
              "         -1.06252013e-02, -2.07012147e-01,  2.48821117e-02, -1.29456773e-01,\n",
              "         -7.93314427e-02,  1.04492128e-01,  1.15626656e-01,  1.23830706e-01,\n",
              "          8.34086537e-02,  1.65648311e-01, -5.00757098e-02,  3.76675352e-02,\n",
              "         -4.56633186e-03,  4.74408828e-02, -2.15579674e-01, -1.01286903e-01,\n",
              "         -9.23820063e-02,  1.67078227e-01,  4.64961343e-02, -3.71443331e-01,\n",
              "          1.01801500e-01, -8.22838992e-02,  1.21903181e-01, -1.60369519e-02,\n",
              "         -7.36294091e-02,  5.74358217e-02, -2.54992805e-02,  1.48393437e-01,\n",
              "         -1.45861059e-02, -4.48251925e-02, -1.00498877e-01, -9.56643522e-02],\n",
              "        dtype=float32))]"
            ]
          },
          "metadata": {},
          "execution_count": 144
        }
      ]
    },
    {
      "cell_type": "code",
      "source": [
        "# Borramos el ft de FastText ... observa la cantidad de RAM que se va a liberar y vuelve a bajar nuevamente :)\n",
        "# En dado caso no lo borres hasta que estás seguro que ya hiciste todo lo necesario hata esta etapa.\n",
        "# Baja de poco más de 9GB a poco más de 2GB ...\n",
        "\n",
        "del ft"
      ],
      "metadata": {
        "id": "OS1ZAnAxAd73"
      },
      "execution_count": null,
      "outputs": []
    },
    {
      "cell_type": "markdown",
      "source": [
        "#**Pregunta - 7:**\n",
        "\n",
        "Una manera de utilizar los vectores embebidos con modelos de aprendizaje automático en documentos de texto, es asignar a cada comentario filtrado el vector embebido de dimensión 300 que resulta de promediar todos sus tokens.\n",
        "\n",
        "Así, en este ejercicio deberás generar los arreglos correspondientes para los conjuntos de entrenamiento, validación y prueba.\n",
        "\n",
        "Los llamaremos trainEmb, valEmb y testEmb, respectivamente.\n",
        "\n",
        "¿Cuáles son sus dimensiones?\n",
        "\n",
        "¿Se podrían usar para su representación matrices dispersas (sparse-matrices) como en el caso de la matriz Tf-idf?\n",
        "\n",
        "Responde a dichas preguntas."
      ],
      "metadata": {
        "id": "VyeOrkoaC1eq"
      }
    },
    {
      "cell_type": "code",
      "source": [
        "# Tomamos cualquier palabra del vocabulario FastText para extraer la información\n",
        " # (aunque en este caso ya sabemos que son de dimensión 300):\n",
        "\n",
        "cols = dicc_embed['ability']\n",
        "cols = cols.shape[0]\n",
        "#print(cols)\n",
        "\n",
        "rows = len(train_x)\n",
        "#print(rows)\n",
        "\n",
        "# Cada renglón de esta nueva matriz es un vector embebido de 300 coordenadas que contiene la información del comentario de dicho renglón:\n",
        "train_xEmb = np.zeros((rows,cols))\n",
        "train_xEmb.shape"
      ],
      "metadata": {
        "colab": {
          "base_uri": "https://localhost:8080/"
        },
        "id": "L_URIsgECkm6",
        "outputId": "453f15c3-e2d6-470c-b937-463bd124d599"
      },
      "execution_count": null,
      "outputs": [
        {
          "output_type": "execute_result",
          "data": {
            "text/plain": [
              "(2100, 300)"
            ]
          },
          "metadata": {},
          "execution_count": 146
        }
      ]
    },
    {
      "cell_type": "code",
      "source": [
        "# Generamos nuestros datos de entrenamiento que serán la entrada a los modelos de machine learning:\n",
        "\n",
        "for j,ss in enumerate(train_x):\n",
        "\n",
        "  m = np.zeros_like(dicc_embed['absolutely'])  # inicializamos con cualquier vector embebido...\n",
        "  k=0\n",
        "\n",
        "  for w in ss:\n",
        "    m += dicc_embed[w]     # acumulamos/sumamos todos los vectores embebidos que están en cada comentario...\n",
        "    k += 1\n",
        "\n",
        "  m = m / (k + 1e-15)   # promediamos y asignamos dicho vector a nuestra nueva matriz de datos de entrada train_xEmb\n",
        "  train_xEmb[j,:] = m"
      ],
      "metadata": {
        "id": "u_9i_oy-CkkM"
      },
      "execution_count": null,
      "outputs": []
    },
    {
      "cell_type": "code",
      "source": [
        "# Hacemos lo mismo para los vectores de validación...\n",
        "\n",
        "rows = len(val_x)\n",
        "val_xEmb = np.zeros((rows,cols))\n",
        "val_xEmb.shape\n",
        "\n",
        "for j,ss in enumerate(val_x):\n",
        "\n",
        "  m = np.zeros_like(dicc_embed['absolutely'])\n",
        "  k=0\n",
        "\n",
        "  for w in ss:\n",
        "    m += dicc_embed[w]\n",
        "    k += 1\n",
        "\n",
        "  m = m / (k + 1e-15)\n",
        "  val_xEmb[j,:] = m\n",
        "\n",
        "\n",
        "\n",
        "\n",
        "\n",
        "\n",
        "# y para lo vectores del conjunto Test:\n",
        "\n",
        "rows = len(test_x)\n",
        "test_xEmb = np.zeros((rows,cols))\n",
        "test_xEmb.shape\n",
        "\n",
        "for j,ss in enumerate(test_x):\n",
        "\n",
        "  m = np.zeros_like(dicc_embed['absolutely'])\n",
        "  k=0\n",
        "\n",
        "  for w in ss:\n",
        "    m += dicc_embed[w]\n",
        "    k += 1\n",
        "\n",
        "  m = m / (k + 1e-15)\n",
        "  test_xEmb[j,:] = m"
      ],
      "metadata": {
        "id": "-aklyqlZCkg1"
      },
      "execution_count": null,
      "outputs": []
    },
    {
      "cell_type": "markdown",
      "source": [
        "#**Pregunta - 8:**\n",
        "\n",
        "Utiliza los modelos de regresión logística y bosque aleatorio (random forest) y encuentra sus desempeños (accuracy).\n",
        "\n",
        "Compara los resultados con los de la semana anterior."
      ],
      "metadata": {
        "id": "UxC9K0VnGOwG"
      }
    },
    {
      "cell_type": "code",
      "source": [
        "from sklearn.linear_model import LogisticRegression\n",
        "from sklearn.ensemble import RandomForestClassifier"
      ],
      "metadata": {
        "id": "50lVo5TLGrS8"
      },
      "execution_count": null,
      "outputs": []
    },
    {
      "cell_type": "code",
      "source": [
        "# REGRESIÓN LOGÍSTICA:\n",
        "\n",
        "modeloLRemb = LogisticRegression(max_iter=1000,     # con estos valores se mantiene dentro del 2% que usualmente les digo...\n",
        "                                 C=0.3,\n",
        "                                 penalty='l2',\n",
        "                                 solver='saga'\n",
        "                                 )\n",
        "modeloLRemb.fit(train_xEmb, y_train)\n",
        "\n",
        "print('\\nLR: Train-accuracy: %.2f%%' % (100*modeloLRemb.score(train_xEmb, y_train)))\n",
        "print('LR: Val-accuracy: %2.f%%' % (100*modeloLRemb.score(val_xEmb, y_val)))"
      ],
      "metadata": {
        "colab": {
          "base_uri": "https://localhost:8080/"
        },
        "id": "ycwjD8ztGOL7",
        "outputId": "86e8b6fe-4644-46f7-9646-83d627f38b71"
      },
      "execution_count": null,
      "outputs": [
        {
          "output_type": "stream",
          "name": "stdout",
          "text": [
            "\n",
            "LR: Train-accuracy: 79.95%\n",
            "LR: Val-accuracy: 78%\n"
          ]
        }
      ]
    },
    {
      "cell_type": "code",
      "source": [
        "modeloRFemb = RandomForestClassifier(max_depth=17,\n",
        "                                  min_samples_split=14,\n",
        "                                  ccp_alpha=0.01,\n",
        "                                  min_samples_leaf=1,\n",
        "                                  n_estimators=100,\n",
        "                                  random_state=1)\n",
        "modeloRFemb.fit(train_xEmb, y_train)\n",
        "\n",
        "print('\\nRF: Train-accuracy: %.2f%%' % (100*modeloRFemb.score(train_xEmb, y_train)))\n",
        "print('RF: Val-accuracy: %.2f%%' % (100*modeloRFemb.score(val_xEmb, y_val)))"
      ],
      "metadata": {
        "colab": {
          "base_uri": "https://localhost:8080/"
        },
        "id": "CWN2lppUTcjA",
        "outputId": "85520b31-6c98-492e-8b65-43dd0f796b2e"
      },
      "execution_count": null,
      "outputs": [
        {
          "output_type": "stream",
          "name": "stdout",
          "text": [
            "\n",
            "RF: Train-accuracy: 78.57%\n",
            "RF: Val-accuracy: 76.44%\n"
          ]
        }
      ]
    },
    {
      "cell_type": "code",
      "source": [
        "78.57-76.44    # aproximadamente dentro del 2% de diferencia...."
      ],
      "metadata": {
        "colab": {
          "base_uri": "https://localhost:8080/"
        },
        "id": "HaXD_50sVFIe",
        "outputId": "a6fd118a-8892-4341-cdc9-a4a633bcebb2"
      },
      "execution_count": null,
      "outputs": [
        {
          "output_type": "execute_result",
          "data": {
            "text/plain": [
              "2.1299999999999955"
            ]
          },
          "metadata": {},
          "execution_count": 316
        }
      ]
    },
    {
      "cell_type": "markdown",
      "source": [
        "#**Pregunta - 9:**\n",
        "\n",
        "Obtener la mejor matriz de confusión de estos dos modelos e interpreta sus resultados...\n",
        "\n",
        "(**NOTA para el profesor:** En realidad es suficiente con la matriz del mejor modelo):"
      ],
      "metadata": {
        "id": "dJJtALGZHrGk"
      }
    },
    {
      "cell_type": "code",
      "source": [
        "from sklearn.metrics import confusion_matrix"
      ],
      "metadata": {
        "id": "IQqarHdPIbVV"
      },
      "execution_count": null,
      "outputs": []
    },
    {
      "cell_type": "code",
      "source": [
        "pred = modeloLRemb.predict(test_xEmb)    # usando la regresión logística en este caso...\n",
        "print('\\nMatriz de confusión del LR:')\n",
        "print(confusion_matrix(y_test, pred, labels=[0,1]))\n",
        "\n",
        "print('\\nMatriz de confusión de LR en proporciones:')\n",
        "print(confusion_matrix(y_test, pred, labels=[0,1]) / pred.shape[0])"
      ],
      "metadata": {
        "colab": {
          "base_uri": "https://localhost:8080/"
        },
        "id": "Musz2N5ZHkOz",
        "outputId": "68b3e3f9-8473-4d73-f93b-af9de88afe45"
      },
      "execution_count": null,
      "outputs": [
        {
          "output_type": "stream",
          "name": "stdout",
          "text": [
            "\n",
            "Matriz de confusión del LR:\n",
            "[[166  50]\n",
            " [ 46 188]]\n",
            "\n",
            "Matriz de confusión de LR en proporciones:\n",
            "[[0.36888889 0.11111111]\n",
            " [0.10222222 0.41777778]]\n"
          ]
        }
      ]
    }
  ]
}